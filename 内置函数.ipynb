{
 "cells": [
  {
   "cell_type": "code",
   "execution_count": 3,
   "id": "3214aa51",
   "metadata": {},
   "outputs": [
    {
     "name": "stdout",
     "output_type": "stream",
     "text": [
      "In function:a=3,b=5\n",
      "8\n"
     ]
    }
   ],
   "source": [
    "def add(a,b):\n",
    "    print('In function:a={},b={}'.format(a,b))\n",
    "    return a+b;\n",
    "print(add(3,5));"
   ]
  },
  {
   "cell_type": "code",
   "execution_count": 7,
   "id": "f38080ef",
   "metadata": {},
   "outputs": [
    {
     "name": "stdout",
     "output_type": "stream",
     "text": [
      "In function:a=3,b=5\n",
      "8\n",
      "In function:a=3,b=8\n",
      "11\n"
     ]
    }
   ],
   "source": [
    "def add(a,b=5):\n",
    "     print('In function:a={},b={}'.format(a,b))\n",
    "     return a+b;\n",
    "print(add(3))\n",
    "print(add(3,8))"
   ]
  },
  {
   "cell_type": "code",
   "execution_count": 8,
   "id": "a12a40aa",
   "metadata": {},
   "outputs": [
    {
     "name": "stdout",
     "output_type": "stream",
     "text": [
      "In function:a=3,b=8\n",
      "11\n"
     ]
    }
   ],
   "source": [
    "def add(a,b):\n",
    "    print('In function:a={},b={}'.format(a,b))\n",
    "    return a+b;\n",
    "print(add(b=8,a=3));"
   ]
  },
  {
   "cell_type": "code",
   "execution_count": 2,
   "id": "0416a2ff",
   "metadata": {},
   "outputs": [
    {
     "name": "stdout",
     "output_type": "stream",
     "text": [
      "In function:\n",
      "a=3\n",
      "b=8\n",
      "args=(1, 2, 3, 4)\n",
      "kwargs={'x': 5, 'y': 6, 'z': 7}\n",
      "39\n",
      "====================\n",
      "In function:\n",
      "a=1\n",
      "b=2\n",
      "args=(3, 4, 5, 6, 7, 8, 9)\n",
      "kwargs={'x': 10, 'y': 11}\n",
      "66\n"
     ]
    }
   ],
   "source": [
    "def add(a,b,*args,**kwargs):\n",
    "    print('In function:\\na={}\\nb={}\\nargs={}\\nkwargs={}'.format(a,b,args,kwargs))\n",
    "    return a+b+sum(args)+sum(kwargs.values())\n",
    "print(add(3,8,1,2,3,4,x=5,y=6,z=7))\n",
    "print('='*20)\n",
    "print(add(1,2,3,4,5,6,7,8,9,x=10,y=11))"
   ]
  },
  {
   "cell_type": "code",
   "execution_count": 3,
   "id": "edc91dc6",
   "metadata": {},
   "outputs": [
    {
     "data": {
      "text/plain": [
       "5"
      ]
     },
     "execution_count": 3,
     "metadata": {},
     "output_type": "execute_result"
    }
   ],
   "source": [
    "def f1(a,b,/):\n",
    "    return a+b\n",
    "f1(2,3)\n"
   ]
  },
  {
   "cell_type": "code",
   "execution_count": 4,
   "id": "2d232f9f",
   "metadata": {},
   "outputs": [
    {
     "data": {
      "text/plain": [
       "9"
      ]
     },
     "execution_count": 4,
     "metadata": {},
     "output_type": "execute_result"
    }
   ],
   "source": [
    "def f1(a,*,b,c):\n",
    "    return a+b+c\n",
    "f1(2,b=3,c=4)"
   ]
  },
  {
   "cell_type": "code",
   "execution_count": 5,
   "id": "64f82c82",
   "metadata": {},
   "outputs": [
    {
     "name": "stdout",
     "output_type": "stream",
     "text": [
      "welcome student\n",
      "weight= 4 height= 5 area= 20\n"
     ]
    }
   ],
   "source": [
    "def area(weight,height):\n",
    "    return weight*height\n",
    "def print_welcome(name):\n",
    "    print(\"welcome\",name)\n",
    "print_welcome(\"student\")\n",
    "w=4;\n",
    "h=5;\n",
    "print(\"weight=\",w,\"height=\",h,\"area=\",area(w,h))\n"
   ]
  },
  {
   "cell_type": "code",
   "execution_count": 6,
   "id": "3b337c09",
   "metadata": {},
   "outputs": [
    {
     "name": "stdout",
     "output_type": "stream",
     "text": [
      "3\n",
      "119\n",
      "15\n",
      "585\n",
      "4369\n",
      "9\n",
      "3.1415926\n",
      "(3+4j)\n",
      "6j\n",
      "(3+0j)\n"
     ]
    }
   ],
   "source": [
    "print(int(3.5))\n",
    "print(int('119'))\n",
    "print(int('1111',2))\n",
    "print(int('1111',8))\n",
    "print(int('1111',16))\n",
    "print(int('   9\\n'))\n",
    "print(float('3.1415926'))\n",
    "print(complex(3,4))\n",
    "print(complex(6j))\n",
    "print(complex('3'))"
   ]
  },
  {
   "cell_type": "code",
   "execution_count": 9,
   "id": "fe1ac74c",
   "metadata": {},
   "outputs": [
    {
     "name": "stdout",
     "output_type": "stream",
     "text": [
      "0b10001010111000\n",
      "0o21270\n",
      "0x22b8\n"
     ]
    }
   ],
   "source": [
    "print(bin(8888))\n",
    "print(oct(8888))\n",
    "print(hex(8888))"
   ]
  },
  {
   "cell_type": "code",
   "execution_count": 13,
   "id": "7e84f86d",
   "metadata": {},
   "outputs": [
    {
     "name": "stdout",
     "output_type": "stream",
     "text": [
      "97\n",
      "23385\n",
      "A\n",
      "孙\n",
      "[1, 2, 3, 4]\n",
      "{1, 2, 3, 4}\n"
     ]
    }
   ],
   "source": [
    "print(ord('a'))\n",
    "print(ord('孙'))\n",
    "print(chr(65))\n",
    "print(chr(23385))\n",
    "print(str([1,2,3,4]))\n",
    "print(str({1,2,3,4}))"
   ]
  },
  {
   "cell_type": "code",
   "execution_count": 14,
   "id": "732c03d1",
   "metadata": {},
   "outputs": [
    {
     "name": "stdout",
     "output_type": "stream",
     "text": [
      "(5+4j)\n",
      "64\n",
      "[1, 2, 3, 4]\n",
      "{1, 2, 3, 4}\n"
     ]
    }
   ],
   "source": [
    "print(eval('5+4j'))\n",
    "print(eval('8**2'))\n",
    "print(eval('[1,2,3,4]'))\n",
    "print(eval('{1,2,3,4}'))"
   ]
  },
  {
   "cell_type": "code",
   "execution_count": 15,
   "id": "7bafb652",
   "metadata": {},
   "outputs": [
    {
     "name": "stdout",
     "output_type": "stream",
     "text": [
      "5\n",
      "5\n",
      "5\n",
      "ac\n",
      "1\n",
      "1\n",
      "1\n"
     ]
    }
   ],
   "source": [
    "print(max(1,2,3,4,5))\n",
    "print(max([1,2,3,4,5]))\n",
    "print(max(1,1,2,5,5))\n",
    "print(max('ab','abc','ac'))\n",
    "\n",
    "print(min(1,2,3,4,5))\n",
    "print(min([1,2,3,4,5]))\n",
    "print(min(1,1,2,5,5))"
   ]
  },
  {
   "cell_type": "code",
   "execution_count": 19,
   "id": "806c761d",
   "metadata": {},
   "outputs": [
    {
     "name": "stdout",
     "output_type": "stream",
     "text": [
      "7\n",
      "3\n",
      "1234\n"
     ]
    }
   ],
   "source": [
    "print(max(3,5,7,key=str))\n",
    "print(max(3,11,222,key=str))\n",
    "print(max('1','abc','1234',key=len))"
   ]
  },
  {
   "cell_type": "code",
   "execution_count": 21,
   "id": "958bfb5b",
   "metadata": {},
   "outputs": [
    {
     "name": "stdout",
     "output_type": "stream",
     "text": [
      "4\n",
      "4\n",
      "4\n",
      "3\n"
     ]
    }
   ],
   "source": [
    "date=[1,2,3,4]\n",
    "print(len(date))\n",
    "date=(1,2,3,4)\n",
    "print(len(date))\n",
    "date={1,2,3,4}\n",
    "print(len(date))\n",
    "date={97:'a',65:'A',48:'0'}\n",
    "print(len(date))"
   ]
  },
  {
   "cell_type": "code",
   "execution_count": 22,
   "id": "3918a317",
   "metadata": {},
   "outputs": [
    {
     "name": "stdout",
     "output_type": "stream",
     "text": [
      "12\n",
      "12\n",
      "12\n",
      "212\n"
     ]
    }
   ],
   "source": [
    "date=[1,2,3,4]\n",
    "print(sum(date,2))\n",
    "date=(1,2,3,4)\n",
    "print(sum(date,2))\n",
    "date={1,2,3,4}\n",
    "print(sum(date,2))\n",
    "date={97:'a',65:'A',48:'0'}\n",
    "print(sum(date,2))"
   ]
  },
  {
   "cell_type": "code",
   "execution_count": 25,
   "id": "9c0c8e81",
   "metadata": {},
   "outputs": [
    {
     "name": "stdout",
     "output_type": "stream",
     "text": [
      "[0, 1, 2, 3, 4, 5, 6, 7, 8, 9, 10, 11, 12, 13, 14, 15, 16, 17, 18, 19]\n",
      "[0, 1, 2, 3, 4, 5, 6, 7, 8, 9, 10, 11, 12, 13, 14, 15, 16, 17, 18, 19]\n",
      "[0, 1, 10, 11, 12, 13, 14, 15, 16, 17, 18, 19, 2, 3, 4, 5, 6, 7, 8, 9]\n",
      "[9, 8, 7, 6, 5, 4, 3, 2, 19, 18, 17, 16, 15, 14, 13, 12, 11, 10, 1, 0]\n"
     ]
    }
   ],
   "source": [
    "from random import shuffle\n",
    "date=list(range(20))\n",
    "shuffle=date\n",
    "print(date)\n",
    "print(sorted(date))\n",
    "print(sorted(date,key=str))\n",
    "print(sorted(date,key=str,reverse=True))\n"
   ]
  },
  {
   "cell_type": "code",
   "execution_count": 27,
   "id": "778d0106",
   "metadata": {},
   "outputs": [
    {
     "name": "stdout",
     "output_type": "stream",
     "text": [
      "[0, 1, 2, 3, 4, 5, 6, 7, 8, 9, 10, 11, 12, 13, 14, 15, 16, 17, 18, 19]\n",
      "[19, 18, 17, 16, 15, 14, 13, 12, 11, 10, 9, 8, 7, 6, 5, 4, 3, 2, 1, 0]\n",
      "()\n"
     ]
    }
   ],
   "source": [
    "from random import shuffle\n",
    "date=list(range(20))\n",
    "shuffle=date\n",
    "print(date)\n",
    "Redate=reversed(date)\n",
    "print(list(Redate))\n",
    "print(tuple(Redate))"
   ]
  },
  {
   "cell_type": "code",
   "execution_count": 31,
   "id": "a7086891",
   "metadata": {},
   "outputs": [
    {
     "name": "stdout",
     "output_type": "stream",
     "text": [
      "请输入一个大于2的自然数:>4\n",
      "这个数是偶数\n"
     ]
    }
   ],
   "source": [
    "num=int (input('请输入一个大于2的自然数:>'))\n",
    "if(num%2==0):\n",
    "    print(\"这个数是偶数\")\n",
    "else:\n",
    "    print(\"这个数是奇数\")\n",
    "\n",
    "\n"
   ]
  },
  {
   "cell_type": "code",
   "execution_count": 32,
   "id": "80821397",
   "metadata": {},
   "outputs": [
    {
     "name": "stdout",
     "output_type": "stream",
     "text": [
      "请输入一个包含若干个大于2自然数的数列：>[1,2,3,4]\n",
      "10\n"
     ]
    }
   ],
   "source": [
    "lst=eval(input('请输入一个包含若干个大于2自然数的数列：>'))\n",
    "print(sum(lst))"
   ]
  },
  {
   "cell_type": "code",
   "execution_count": 37,
   "id": "bdfacdf9",
   "metadata": {},
   "outputs": [
    {
     "name": "stdout",
     "output_type": "stream",
     "text": [
      "1,2,3\n",
      "1 2 3 4 5 6\n"
     ]
    }
   ],
   "source": [
    "print(1,2,3,sep=',')\n",
    "print(1,2,3,end=' ')\n",
    "print(4,5,6)"
   ]
  },
  {
   "cell_type": "code",
   "execution_count": null,
   "id": "18a0b3e9",
   "metadata": {},
   "outputs": [],
   "source": [
    "range1=range(4)\n",
    "range2=range(5,8)\n",
    "range3=range(3,20,4)\n",
    "range4=range(20,0,-3)\n",
    "print(range1,range2,range3,range4)\n",
    "print(range4[2])\n"
   ]
  }
 ],
 "metadata": {
  "kernelspec": {
   "display_name": "Python 3 (ipykernel)",
   "language": "python",
   "name": "python3"
  },
  "language_info": {
   "codemirror_mode": {
    "name": "ipython",
    "version": 3
   },
   "file_extension": ".py",
   "mimetype": "text/x-python",
   "name": "python",
   "nbconvert_exporter": "python",
   "pygments_lexer": "ipython3",
   "version": "3.9.7"
  }
 },
 "nbformat": 4,
 "nbformat_minor": 5
}
