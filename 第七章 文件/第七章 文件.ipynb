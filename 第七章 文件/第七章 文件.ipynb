{
 "cells": [
  {
   "cell_type": "code",
   "execution_count": 1,
   "id": "2592176d",
   "metadata": {},
   "outputs": [
    {
     "ename": "SyntaxError",
     "evalue": "invalid syntax (Temp/ipykernel_16312/1786080493.py, line 1)",
     "output_type": "error",
     "traceback": [
      "\u001b[1;36m  File \u001b[1;32m\"C:\\Users\\cecil\\AppData\\Local\\Temp/ipykernel_16312/1786080493.py\"\u001b[1;36m, line \u001b[1;32m1\u001b[0m\n\u001b[1;33m    open(file, mode='r',[,buffering=-1,encoding=None,errors=None,newline=None,closefd=True,opener=None])\u001b[0m\n\u001b[1;37m                         ^\u001b[0m\n\u001b[1;31mSyntaxError\u001b[0m\u001b[1;31m:\u001b[0m invalid syntax\n"
     ]
    }
   ],
   "source": [
    "open(file, mode='r',[,buffering=-1,encoding=None,errors=None,newline=None,closefd=True,opener=None])"
   ]
  },
  {
   "cell_type": "code",
   "execution_count": 3,
   "id": "c1199018",
   "metadata": {},
   "outputs": [
    {
     "name": "stdout",
     "output_type": "stream",
     "text": [
      "文件名为： E:\\第七章文件\\new_test.txt\n",
      "读取的字符串：1,2,3,4,5\n",
      "a,b,c,d,e\n"
     ]
    }
   ],
   "source": [
    "#读取文件中内容\n",
    "fo=open(r\"E:\\第七章文件\\new_test.txt\",\"r\")\n",
    "print(\"文件名为：\",fo.name)\n",
    "\n",
    "line=fo.read()\n",
    "print(\"读取的字符串：%s\" % (line))\n",
    "#关闭文件\n",
    "fo.close()"
   ]
  },
  {
   "cell_type": "code",
   "execution_count": 4,
   "id": "8b59f5a7",
   "metadata": {},
   "outputs": [
    {
     "name": "stdout",
     "output_type": "stream",
     "text": [
      "文件名为： E:\\第七章文件\\new_test.txt\n",
      "读取的字符串：1,2,3,4,5\n",
      "\n",
      "读取的字符串：a,b,c,d,e\n"
     ]
    }
   ],
   "source": [
    "fo=open(r\"E:\\第七章文件\\new_test.txt\",\"r\")\n",
    "print(\"文件名为：\",fo.name)\n",
    "\n",
    "line=fo.read(10)  #读取十个字符  回车占一个字符\n",
    "print(\"读取的字符串：%s\" % (line))\n",
    "\n",
    "line=fo.read()\n",
    "print(\"读取的字符串：%s\" % (line))\n",
    "\n",
    "fo.close()"
   ]
  },
  {
   "cell_type": "code",
   "execution_count": 5,
   "id": "f1db506b",
   "metadata": {},
   "outputs": [
    {
     "name": "stdout",
     "output_type": "stream",
     "text": [
      "文件名为： E:\\第七章文件\\new_test.txt\n",
      "读取的字符串：1,2,3,4,5\n",
      "\n",
      "读取的字符串：a,b,c,d,e\n"
     ]
    }
   ],
   "source": [
    "fo=open(r\"E:\\第七章文件\\new_test.txt\",\"r\")\n",
    "print(\"文件名为：\",fo.name)\n",
    "\n",
    "line=fo.readline()  #读取一行  包括回车\n",
    "print(\"读取的字符串：%s\" % (line))\n",
    "\n",
    "line=fo.readline()\n",
    "print(\"读取的字符串：%s\" % (line))\n",
    "\n",
    "fo.close()"
   ]
  },
  {
   "cell_type": "code",
   "execution_count": 6,
   "id": "06da87cc",
   "metadata": {},
   "outputs": [
    {
     "name": "stdout",
     "output_type": "stream",
     "text": [
      "文件名为： E:\\第七章文件\\new_test.txt\n",
      "读取的字符串：1,2,3\n"
     ]
    }
   ],
   "source": [
    "fo=open(r\"E:\\第七章文件\\new_test.txt\",\"r\")\n",
    "print(\"文件名为：\",fo.name)\n",
    "\n",
    "line=fo.readline(5)  #读取一行  包括回车\n",
    "print(\"读取的字符串：%s\" % (line))\n",
    "\n",
    "fo.close()"
   ]
  },
  {
   "cell_type": "code",
   "execution_count": 7,
   "id": "c1d9e45d",
   "metadata": {},
   "outputs": [
    {
     "name": "stdout",
     "output_type": "stream",
     "text": [
      "文件名为： E:\\第七章文件\\new_test.txt\n",
      "['1,2,3,4,5\\n', 'a,b,c,d,e']\n"
     ]
    }
   ],
   "source": [
    "#读取文件中内容\n",
    "fo=open(r\"E:\\第七章文件\\new_test.txt\",\"r\")\n",
    "print(\"文件名为：\",fo.name)\n",
    "\n",
    "line=fo.readlines()#读取所有行  并返回列表\n",
    "print(line)\n",
    "\n",
    "fo.close()\n",
    "#关闭文件"
   ]
  },
  {
   "cell_type": "code",
   "execution_count": 12,
   "id": "98b8c5a5",
   "metadata": {},
   "outputs": [
    {
     "name": "stdout",
     "output_type": "stream",
     "text": [
      "5\n",
      "b'5'\n",
      "7\n",
      "b'7'\n",
      "14\n",
      "b'e'\n"
     ]
    }
   ],
   "source": [
    "f=open(r'E:\\第七章文件\\workfile.txt','rb+')  #用于二进制的读写\n",
    "f.write(b'0123456789abcdef')  #写入一个字符串\n",
    "\n",
    "print(f.seek(5))\n",
    "print(f.read(1))\n",
    "print(f.seek(1,1))\n",
    "print(f.read(1))\n",
    "print(f.seek(-2,2))\n",
    "print(f.read(1))"
   ]
  },
  {
   "cell_type": "code",
   "execution_count": 1,
   "id": "4a34d14d",
   "metadata": {},
   "outputs": [
    {
     "name": "stdout",
     "output_type": "stream",
     "text": [
      "5\n",
      "5\n"
     ]
    },
    {
     "ename": "UnsupportedOperation",
     "evalue": "can't do nonzero cur-relative seeks",
     "output_type": "error",
     "traceback": [
      "\u001b[1;31m---------------------------------------------------------------------------\u001b[0m",
      "\u001b[1;31mUnsupportedOperation\u001b[0m                      Traceback (most recent call last)",
      "\u001b[1;32m~\\AppData\\Local\\Temp/ipykernel_17896/2051341071.py\u001b[0m in \u001b[0;36m<module>\u001b[1;34m\u001b[0m\n\u001b[0;32m      3\u001b[0m \u001b[0mprint\u001b[0m\u001b[1;33m(\u001b[0m\u001b[0mfo\u001b[0m\u001b[1;33m.\u001b[0m\u001b[0mseek\u001b[0m\u001b[1;33m(\u001b[0m\u001b[1;36m5\u001b[0m\u001b[1;33m)\u001b[0m\u001b[1;33m)\u001b[0m\u001b[1;33m\u001b[0m\u001b[1;33m\u001b[0m\u001b[0m\n\u001b[0;32m      4\u001b[0m \u001b[0mprint\u001b[0m\u001b[1;33m(\u001b[0m\u001b[0mfo\u001b[0m\u001b[1;33m.\u001b[0m\u001b[0mread\u001b[0m\u001b[1;33m(\u001b[0m\u001b[1;36m1\u001b[0m\u001b[1;33m)\u001b[0m\u001b[1;33m)\u001b[0m\u001b[1;33m\u001b[0m\u001b[1;33m\u001b[0m\u001b[0m\n\u001b[1;32m----> 5\u001b[1;33m \u001b[0mprint\u001b[0m\u001b[1;33m(\u001b[0m\u001b[0mfo\u001b[0m\u001b[1;33m.\u001b[0m\u001b[0mseek\u001b[0m\u001b[1;33m(\u001b[0m\u001b[1;36m1\u001b[0m\u001b[1;33m,\u001b[0m\u001b[1;36m1\u001b[0m\u001b[1;33m)\u001b[0m\u001b[1;33m)\u001b[0m\u001b[1;33m\u001b[0m\u001b[1;33m\u001b[0m\u001b[0m\n\u001b[0m\u001b[0;32m      6\u001b[0m \u001b[0mprint\u001b[0m\u001b[1;33m(\u001b[0m\u001b[0mfo\u001b[0m\u001b[1;33m.\u001b[0m\u001b[0mread\u001b[0m\u001b[1;33m(\u001b[0m\u001b[1;36m1\u001b[0m\u001b[1;33m)\u001b[0m\u001b[1;33m)\u001b[0m\u001b[1;33m\u001b[0m\u001b[1;33m\u001b[0m\u001b[0m\n\u001b[0;32m      7\u001b[0m \u001b[0mprint\u001b[0m\u001b[1;33m(\u001b[0m\u001b[0mfo\u001b[0m\u001b[1;33m.\u001b[0m\u001b[0mseek\u001b[0m\u001b[1;33m(\u001b[0m\u001b[1;33m-\u001b[0m\u001b[1;36m2\u001b[0m\u001b[1;33m,\u001b[0m\u001b[1;36m2\u001b[0m\u001b[1;33m)\u001b[0m\u001b[1;33m)\u001b[0m\u001b[1;33m\u001b[0m\u001b[1;33m\u001b[0m\u001b[0m\n",
      "\u001b[1;31mUnsupportedOperation\u001b[0m: can't do nonzero cur-relative seeks"
     ]
    }
   ],
   "source": [
    "fo=open(r'E:\\第七章文件\\workfile.txt','w+')\n",
    "fo.write(r'0123456789abcdef')\n",
    "print(fo.seek(5))\n",
    "print(fo.read(1))\n",
    "print(fo.seek(1,1))\n",
    "print(fo.read(1))\n",
    "print(fo.seek(-2,2))\n",
    "print(fo.read(1))"
   ]
  },
  {
   "cell_type": "code",
   "execution_count": 2,
   "id": "d844bac5",
   "metadata": {},
   "outputs": [
    {
     "name": "stdout",
     "output_type": "stream",
     "text": [
      "文件名： E:\\第七章文件\\hello.txt\n",
      "Hello eorldHello eorld"
     ]
    }
   ],
   "source": [
    "fo=open(r'E:\\第七章文件\\hello.txt',\"r\")\n",
    "print(\"文件名：\",fo.name)\n",
    "line=fo.readline()\n",
    "print(line,end='')\n",
    "fo.seek(0,0)\n",
    "line=fo.readline()\n",
    "print(line,end='')\n",
    "fo.close()"
   ]
  },
  {
   "cell_type": "code",
   "execution_count": 3,
   "id": "e129ad81",
   "metadata": {},
   "outputs": [
    {
     "name": "stdout",
     "output_type": "stream",
     "text": [
      "文件名： E:\\第七章文件\\workfile.txt\n",
      "读取的数据为: 0123\n",
      "当前位置: 4\n",
      "4\n"
     ]
    }
   ],
   "source": [
    "fo=open(r\"E:\\第七章文件\\workfile.txt\",\"r\")\n",
    "print(\"文件名：\",fo.name)\n",
    "line=fo.read(4)\n",
    "print(\"读取的数据为: %s\"%(line))\n",
    "pos=fo.tell()\n",
    "print(\"当前位置: %d\"%(pos))\n",
    "print(fo.read(1))\n",
    "fo.close()"
   ]
  },
  {
   "cell_type": "code",
   "execution_count": 4,
   "id": "75b88b5a",
   "metadata": {},
   "outputs": [
    {
     "name": "stdout",
     "output_type": "stream",
     "text": [
      "文件名： E:\\第七章文件\\workfile.txt\n",
      "['0123456789abcdef']\n"
     ]
    }
   ],
   "source": [
    "fo=open(r\"E:\\第七章文件\\workfile.txt\",\"r\")\n",
    "print(\"文件名：\",fo.name)\n",
    "line=fo.readlines()\n",
    "print(line)\n",
    "fo.close()"
   ]
  },
  {
   "cell_type": "code",
   "execution_count": 23,
   "id": "3ccc026d",
   "metadata": {},
   "outputs": [
    {
     "name": "stdout",
     "output_type": "stream",
     "text": [
      "文件名： E:\\第七章文件\\hello.txt\n",
      "[b'Hello eorld']\n"
     ]
    }
   ],
   "source": [
    "fo=open(r'E:\\第七章文件\\hello.txt','rb+')\n",
    "print(\"文件名：\",fo.name)\n",
    "line=fo.readlines()\n",
    "print(line)\n",
    "fo.close()"
   ]
  },
  {
   "cell_type": "code",
   "execution_count": 21,
   "id": "f305190d",
   "metadata": {},
   "outputs": [
    {
     "name": "stdout",
     "output_type": "stream",
     "text": [
      "文件名： E:\\第七章文件\\hello.txt\n",
      "\n"
     ]
    }
   ],
   "source": [
    "fo=open(r'E:\\第七章文件\\hello.txt','r')\n",
    "print(\"文件名：\",fo.name)\n",
    "fo.seek(11)\n",
    "print(fo.read(1))"
   ]
  },
  {
   "cell_type": "code",
   "execution_count": 26,
   "id": "eb172d10",
   "metadata": {},
   "outputs": [
    {
     "name": "stdout",
     "output_type": "stream",
     "text": [
      "文件名： E:\\第七章文件\\abcde.txt\n",
      "A,B,C,D,EA,\n"
     ]
    }
   ],
   "source": [
    "fo=open(r'E:\\第七章文件\\abcde.txt','r')\n",
    "print(\"文件名：\",fo.name)\n",
    "\n",
    "print(fo.read(11))"
   ]
  },
  {
   "cell_type": "code",
   "execution_count": 25,
   "id": "bb20d221",
   "metadata": {},
   "outputs": [
    {
     "name": "stdout",
     "output_type": "stream",
     "text": [
      "文件名： E:\\第七章文件\\abcde.txt\n",
      "在文件末尾写入:9个字节\n",
      "文件行号0-b'A,B,C,D,EA,B,C,D,E'\n",
      "文件行号1-b''\n"
     ]
    }
   ],
   "source": [
    "fo=open(r'E:\\第七章文件\\abcde.txt',\"rb+\")\n",
    "print(\"文件名：\",fo.name)\n",
    "str=b'A,B,C,D,E'\n",
    "fo.seek(0,2)\n",
    "print(\"在文件末尾写入:%d个字节\"% fo.write(str))\n",
    "fo.seek(0,0)\n",
    "for index in range(2):\n",
    "    line=fo.readline()\n",
    "    print(\"文件行号%d-%s\"%(index,line))\n",
    "fo.close()"
   ]
  },
  {
   "cell_type": "code",
   "execution_count": 28,
   "id": "0030d801",
   "metadata": {},
   "outputs": [
    {
     "name": "stdout",
     "output_type": "stream",
     "text": [
      "A,B,C,D,E\n"
     ]
    }
   ],
   "source": [
    "fo=open(r'E:\\第七章文件\\abcde.txt','w+')\n",
    "str='A,B,C,D,E'\n",
    "fo.writelines(str)\n",
    "fo.seek(0,0)\n",
    "str_line=fo.readline()\n",
    "print(str_line)\n"
   ]
  },
  {
   "cell_type": "code",
   "execution_count": 15,
   "id": "36e5e9eb",
   "metadata": {},
   "outputs": [],
   "source": [
    "fo=open(r'E:\\第七章文件\\hello.txt','w')\n",
    "try:\n",
    "    fo.write('Hello eorld')\n",
    "finally:\n",
    "    fo.close()"
   ]
  },
  {
   "cell_type": "code",
   "execution_count": 12,
   "id": "480ffdb9",
   "metadata": {},
   "outputs": [
    {
     "name": "stdout",
     "output_type": "stream",
     "text": [
      "['Sheet1', 'Sheet2', 'Sheet3']\n",
      "[<Worksheet \"Sheet1\">, <Worksheet \"Sheet2\">, <Worksheet \"Sheet3\">]\n"
     ]
    }
   ],
   "source": [
    "import openpyxl\n",
    "wb = openpyxl.load_workbook(r'E:\\第七章文件\\excel.xlsx')\n",
    "name_sh=wb.sheetnames\n",
    "print(name_sh)\n",
    "sheet_obj=wb.worksheets\n",
    "print(sheet_obj)"
   ]
  },
  {
   "cell_type": "code",
   "execution_count": 16,
   "id": "e390b35f",
   "metadata": {},
   "outputs": [
    {
     "name": "stdout",
     "output_type": "stream",
     "text": [
      "Sheet1 4 5\n",
      "('Student', 'Teacher', 'Class', 'Number')\n",
      "(1, '张三', '计数2002', 2020234481)\n",
      "(2, '李四', '计数2001', 2020234482)\n",
      "(3, '王五', '计数2002', 2020234483)\n",
      "(4, '尼古拉斯赵四', '计数2001', 2020234484)\n",
      "<generator object Worksheet._cells_by_row at 0x00000244806BC740>\n",
      "[(<Cell 'Sheet1'.A1>, <Cell 'Sheet1'.B1>, <Cell 'Sheet1'.C1>, <Cell 'Sheet1'.D1>), (<Cell 'Sheet1'.A2>, <Cell 'Sheet1'.B2>, <Cell 'Sheet1'.C2>, <Cell 'Sheet1'.D2>), (<Cell 'Sheet1'.A3>, <Cell 'Sheet1'.B3>, <Cell 'Sheet1'.C3>, <Cell 'Sheet1'.D3>), (<Cell 'Sheet1'.A4>, <Cell 'Sheet1'.B4>, <Cell 'Sheet1'.C4>, <Cell 'Sheet1'.D4>), (<Cell 'Sheet1'.A5>, <Cell 'Sheet1'.B5>, <Cell 'Sheet1'.C5>, <Cell 'Sheet1'.D5>)]\n",
      "(<Cell 'Sheet1'.A2>, <Cell 'Sheet1'.B2>, <Cell 'Sheet1'.C2>, <Cell 'Sheet1'.D2>)\n",
      "(<Cell 'Sheet1'.A3>, <Cell 'Sheet1'.B3>, <Cell 'Sheet1'.C3>, <Cell 'Sheet1'.D3>)\n"
     ]
    }
   ],
   "source": [
    "print(sheet_obj[0].title,sheet_obj[0].max_column,sheet_obj[0].max_row)\n",
    "sheet1_column=sheet_obj[0].max_column\n",
    "sheet1_row=sheet_obj[0].max_row\n",
    "for item in sheet_obj[0].values:\n",
    "    print(item)\n",
    "print(sheet_obj[0].rows)\n",
    "print(list(sheet_obj[0].rows))\n",
    "for row in sheet_obj[0].iter_rows(min_row=2,max_row=3):\n",
    "    print(row)"
   ]
  },
  {
   "cell_type": "code",
   "execution_count": 17,
   "id": "75627480",
   "metadata": {},
   "outputs": [
    {
     "name": "stdout",
     "output_type": "stream",
     "text": [
      "[['Student', 'Teacher', 'Class', 'Number'], [1, '张三', '计数2002', 2020234481], [2, '李四', '计数2001', 2020234482], [3, '王五', '计数2002', 2020234483], [4, '尼古拉斯赵四', '计数2001', 2020234484]]\n",
      "[('Student', 1, 2, 3, 4), ('Teacher', '张三', '李四', '王五', '尼古拉斯赵四'), ('Class', '计数2002', '计数2001', '计数2002', '计数2001'), ('Number', 2020234481, 2020234482, 2020234483, 2020234484)]\n",
      "[['Student', 1, 2, 3, 4], ['Teacher', '张三', '李四', '王五', '尼古拉斯赵四'], ['Class', '计数2002', '计数2001', '计数2002', '计数2001'], ['Number', 2020234481, 2020234482, 2020234483, 2020234484]]\n",
      "Student\n",
      "((<Cell 'Sheet1'.A1>, <Cell 'Sheet1'.B1>, <Cell 'Sheet1'.C1>), (<Cell 'Sheet1'.A2>, <Cell 'Sheet1'.B2>, <Cell 'Sheet1'.C2>), (<Cell 'Sheet1'.A3>, <Cell 'Sheet1'.B3>, <Cell 'Sheet1'.C3>))\n"
     ]
    }
   ],
   "source": [
    "sheet_val=[]\n",
    "for row in sheet_obj[0].values:\n",
    "    sheet_val.append(list(row))\n",
    "print(sheet_val)\n",
    "print(list(zip(*sheet_val)))\n",
    "sheet_val_col=[]\n",
    "for col in zip(*sheet_val):\n",
    "    sheet_val_col.append(list(col))\n",
    "print(sheet_val_col)\n",
    "print(sheet_obj[0]['A1'].value)\n",
    "print(sheet_obj[0]['A1':'C3'])"
   ]
  },
  {
   "cell_type": "code",
   "execution_count": 18,
   "id": "0a2ee408",
   "metadata": {},
   "outputs": [
    {
     "data": {
      "text/plain": [
       "<Worksheet \"Sheet\">"
      ]
     },
     "execution_count": 18,
     "metadata": {},
     "output_type": "execute_result"
    }
   ],
   "source": [
    "\n",
    "wb=openpyxl.Workbook()\n",
    "wb.active"
   ]
  },
  {
   "cell_type": "code",
   "execution_count": 29,
   "id": "8aee2a85",
   "metadata": {},
   "outputs": [
    {
     "name": "stdout",
     "output_type": "stream",
     "text": [
      "<Worksheet \"Mysheet\">\n"
     ]
    }
   ],
   "source": [
    "wsl=wb.create_sheet('Mysheet')\n",
    "print(wsl)"
   ]
  },
  {
   "cell_type": "code",
   "execution_count": 30,
   "id": "4ac8c03a",
   "metadata": {},
   "outputs": [
    {
     "name": "stdout",
     "output_type": "stream",
     "text": [
      "name\n",
      "test\n",
      "[('name', 'age', 'room', 'class', 'number')]\n"
     ]
    }
   ],
   "source": [
    "wsl['A1']='name'\n",
    "print(wsl['A1'].value)\n",
    "wsl.cell(row=1,column=1,value='test')\n",
    "print(wsl['A1'].value)\n",
    "data=['name','age','room','class','number']\n",
    "for cols in range(1,6):\n",
    "    wsl.cell(row=1,column=cols,value=data[cols-1])\n",
    "print(list(wsl.values))\n",
    "wb.save('stu_info.xlsx')"
   ]
  },
  {
   "cell_type": "code",
   "execution_count": null,
   "id": "85276159",
   "metadata": {},
   "outputs": [],
   "source": []
  }
 ],
 "metadata": {
  "kernelspec": {
   "display_name": "Python 3 (ipykernel)",
   "language": "python",
   "name": "python3"
  },
  "language_info": {
   "codemirror_mode": {
    "name": "ipython",
    "version": 3
   },
   "file_extension": ".py",
   "mimetype": "text/x-python",
   "name": "python",
   "nbconvert_exporter": "python",
   "pygments_lexer": "ipython3",
   "version": "3.9.7"
  }
 },
 "nbformat": 4,
 "nbformat_minor": 5
}
