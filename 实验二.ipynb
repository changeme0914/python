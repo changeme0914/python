{
 "cells": [
  {
   "cell_type": "code",
   "execution_count": 1,
   "id": "a5fb9783",
   "metadata": {},
   "outputs": [
    {
     "name": "stdout",
     "output_type": "stream",
     "text": [
      "请输入{'AB':{'信号', '冰与火', '抉择', '天河'}, 'CD':{'相遇', '白骏马', '真理的味道', '生命有诗'},'EF':{'信号', '冰与火', '真理的味道', '生命有诗'},'GH':{'相遇', '白骏马', '真理的味道', '冰与火'},'IJ':{'相遇', '白骏马', '抉择', '天河'}}\n",
      "CD GH\n",
      "{'真理的味道', '白骏马', '相遇'}\n"
     ]
    }
   ],
   "source": [
    "def out():\n",
    "    data=eval(input('请输入'))\n",
    "    a=list(data.keys())\n",
    "    b=c=d=0\n",
    "    for i in range(0,4,1):\n",
    "        for j in range(i+1,5,1):\n",
    "            lenth=len(data[a[i]]&data[a[j]])\n",
    "            if(lenth>b):\n",
    "                b=lenth\n",
    "                c=a[i]\n",
    "                d=a[j]\n",
    "    print(c,d)\n",
    "    print(data[c]&data[d])\n",
    "out()\n"
   ]
  },
  {
   "cell_type": "code",
   "execution_count": null,
   "id": "f5fb0d7e",
   "metadata": {},
   "outputs": [],
   "source": []
  }
 ],
 "metadata": {
  "kernelspec": {
   "display_name": "Python 3 (ipykernel)",
   "language": "python",
   "name": "python3"
  },
  "language_info": {
   "codemirror_mode": {
    "name": "ipython",
    "version": 3
   },
   "file_extension": ".py",
   "mimetype": "text/x-python",
   "name": "python",
   "nbconvert_exporter": "python",
   "pygments_lexer": "ipython3",
   "version": "3.9.7"
  }
 },
 "nbformat": 4,
 "nbformat_minor": 5
}
