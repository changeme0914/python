{
 "cells": [
  {
   "cell_type": "code",
   "execution_count": 2,
   "id": "3d590971",
   "metadata": {},
   "outputs": [
    {
     "data": {
      "text/plain": [
       "array([6., 7., 8., 9.])"
      ]
     },
     "execution_count": 2,
     "metadata": {},
     "output_type": "execute_result"
    }
   ],
   "source": [
    "import numpy as np\n",
    "data=[6,7,8,9.0]\n",
    "arr=np.array(data)\n",
    "arr"
   ]
  },
  {
   "cell_type": "code",
   "execution_count": 3,
   "id": "f013d507",
   "metadata": {},
   "outputs": [
    {
     "data": {
      "text/plain": [
       "array([6, 7, 8, 9], dtype=int16)"
      ]
     },
     "execution_count": 3,
     "metadata": {},
     "output_type": "execute_result"
    }
   ],
   "source": [
    "import numpy as np\n",
    "data=[6,7,8,9.0]\n",
    "arr=np.array(data,dtype='int16')\n",
    "arr"
   ]
  },
  {
   "cell_type": "code",
   "execution_count": 4,
   "id": "1c6183a0",
   "metadata": {},
   "outputs": [
    {
     "data": {
      "text/plain": [
       "array([[6., 7., 8., 9.],\n",
       "       [6., 7., 8., 9.]])"
      ]
     },
     "execution_count": 4,
     "metadata": {},
     "output_type": "execute_result"
    }
   ],
   "source": [
    "import numpy as np\n",
    "data=[[6,7,8,9.0],[6,7,8,9.0]]\n",
    "arr=np.array(data)\n",
    "arr"
   ]
  },
  {
   "cell_type": "code",
   "execution_count": 9,
   "id": "5899a412",
   "metadata": {},
   "outputs": [
    {
     "name": "stdout",
     "output_type": "stream",
     "text": [
      "[0. 0. 0. 0. 0.]\n",
      "[0 0 0 0 0]\n",
      "[[0.]\n",
      " [0.]]\n",
      "[[0. 0. 0.]\n",
      " [0. 0. 0.]\n",
      " [0. 0. 0.]]\n"
     ]
    },
    {
     "data": {
      "text/plain": [
       "array([[6., 7.],\n",
       "       [8., 9.]])"
      ]
     },
     "execution_count": 9,
     "metadata": {},
     "output_type": "execute_result"
    }
   ],
   "source": [
    "import numpy as np\n",
    "print(np.zeros(5))\n",
    "print(np.zeros(5,dtype='int16'))\n",
    "print(np.zeros((2,1)))\n",
    "\n",
    "x=np.ones((3,3))\n",
    "print(np.zeros_like(x))\n",
    "\n",
    "np.empty((2,2))\n",
    "\n"
   ]
  },
  {
   "cell_type": "code",
   "execution_count": 8,
   "id": "cbb9c8fa",
   "metadata": {},
   "outputs": [
    {
     "data": {
      "text/plain": [
       "array([[852,   0, 852],\n",
       "       [  0,   1, 435]])"
      ]
     },
     "execution_count": 8,
     "metadata": {},
     "output_type": "execute_result"
    }
   ],
   "source": [
    "import numpy as np\n",
    "a=([1,2,3],[4,5,6])\n",
    "np.empty_like(a)"
   ]
  },
  {
   "cell_type": "code",
   "execution_count": 10,
   "id": "f3940c07",
   "metadata": {},
   "outputs": [
    {
     "data": {
      "text/plain": [
       "array([[10, 10],\n",
       "       [10, 10]])"
      ]
     },
     "execution_count": 10,
     "metadata": {},
     "output_type": "execute_result"
    }
   ],
   "source": [
    "import numpy as np\n",
    "np.full((2,2),10)"
   ]
  },
  {
   "cell_type": "code",
   "execution_count": 13,
   "id": "3377beea",
   "metadata": {},
   "outputs": [
    {
     "data": {
      "text/plain": [
       "array([[1, 2],\n",
       "       [1, 2],\n",
       "       [1, 2]])"
      ]
     },
     "execution_count": 13,
     "metadata": {},
     "output_type": "execute_result"
    }
   ],
   "source": [
    "import numpy as np\n",
    "np.full((3,2),[1,2])"
   ]
  },
  {
   "cell_type": "code",
   "execution_count": 14,
   "id": "a976b6d5",
   "metadata": {},
   "outputs": [
    {
     "data": {
      "text/plain": [
       "array([[1, 0],\n",
       "       [0, 1]], dtype=int16)"
      ]
     },
     "execution_count": 14,
     "metadata": {},
     "output_type": "execute_result"
    }
   ],
   "source": [
    "import numpy as np\n",
    "np.eye(2,dtype='int16')"
   ]
  },
  {
   "cell_type": "code",
   "execution_count": 15,
   "id": "a5b9577a",
   "metadata": {},
   "outputs": [
    {
     "data": {
      "text/plain": [
       "array([[0., 1., 0.],\n",
       "       [0., 0., 1.],\n",
       "       [0., 0., 0.]])"
      ]
     },
     "execution_count": 15,
     "metadata": {},
     "output_type": "execute_result"
    }
   ],
   "source": [
    "import numpy as np\n",
    "np.eye(3,k=1)"
   ]
  },
  {
   "cell_type": "code",
   "execution_count": 16,
   "id": "d3904a71",
   "metadata": {},
   "outputs": [
    {
     "data": {
      "text/plain": [
       "array([[1., 0., 0., 0., 0.],\n",
       "       [0., 1., 0., 0., 0.]])"
      ]
     },
     "execution_count": 16,
     "metadata": {},
     "output_type": "execute_result"
    }
   ],
   "source": [
    "import numpy as np\n",
    "np.eye(2,5)"
   ]
  },
  {
   "cell_type": "code",
   "execution_count": 17,
   "id": "39e3a49e",
   "metadata": {},
   "outputs": [
    {
     "data": {
      "text/plain": [
       "array([[1., 0., 0.],\n",
       "       [0., 1., 0.],\n",
       "       [0., 0., 1.]])"
      ]
     },
     "execution_count": 17,
     "metadata": {},
     "output_type": "execute_result"
    }
   ],
   "source": [
    "import numpy as np\n",
    "np.identity(3)"
   ]
  },
  {
   "cell_type": "code",
   "execution_count": 18,
   "id": "18175f44",
   "metadata": {},
   "outputs": [
    {
     "name": "stdout",
     "output_type": "stream",
     "text": [
      "[0 1 2]\n",
      "[0. 1. 2.]\n",
      "[3 4 5 6]\n",
      "[10  8  6  4  2]\n"
     ]
    }
   ],
   "source": [
    "import numpy as np\n",
    "print(np.arange(3))\n",
    "print(np.arange(3.0))\n",
    "print(np.arange(3,7))\n",
    "print(np.arange(10,1,-2))"
   ]
  },
  {
   "cell_type": "code",
   "execution_count": 19,
   "id": "75788ad5",
   "metadata": {},
   "outputs": [
    {
     "name": "stdout",
     "output_type": "stream",
     "text": [
      "[1, 2]\n",
      "[1 2]\n"
     ]
    }
   ],
   "source": [
    "import numpy as np\n",
    "list_1=[1,2]\n",
    "list_2=np.asarray(list_1)\n",
    "print(list_1,list_2,sep='\\n')"
   ]
  },
  {
   "cell_type": "code",
   "execution_count": 20,
   "id": "30795b6f",
   "metadata": {},
   "outputs": [
    {
     "name": "stdout",
     "output_type": "stream",
     "text": [
      "[1 2]\n",
      "[1 2]\n"
     ]
    }
   ],
   "source": [
    "import numpy as np\n",
    "arr=np.array([1,2])\n",
    "arr_2=np.asarray(arr)\n",
    "print(arr,arr_2,sep='\\n')"
   ]
  },
  {
   "cell_type": "code",
   "execution_count": 22,
   "id": "a7a58b49",
   "metadata": {},
   "outputs": [
    {
     "name": "stdout",
     "output_type": "stream",
     "text": [
      "False False False\n",
      "False\n",
      "True\n"
     ]
    }
   ],
   "source": [
    "list_1=[1,2]\n",
    "arr_array=np.array(list_1)\n",
    "arr_asarray=np.asarray(list_1)\n",
    "print(arr_array is arr_asarray,arr_array is list_1,arr_asarray is list_1)\n",
    "\n",
    "arrr=np.array([1,2])\n",
    "arrr_array=np.array(arr)\n",
    "arr_asarray=np.asarray(arr)\n",
    "\n",
    "print(arr_array is arr)\n",
    "print(arr_asarray is arr)\n",
    "\n",
    "arr=np.arrray([1,2])"
   ]
  },
  {
   "cell_type": "code",
   "execution_count": 5,
   "id": "d7c74a54",
   "metadata": {},
   "outputs": [
    {
     "name": "stdout",
     "output_type": "stream",
     "text": [
      "False False False\n"
     ]
    }
   ],
   "source": [
    "import numpy as np\n",
    "list_1=[1,2]\n",
    "arr_array=np.array(list_1)\n",
    "arr_asarray=np.asarray(list_1)\n",
    "print(arr_array is arr_asarray,arr_array is list_1,arr_asarray is list_1)\n",
    "\n",
    "arr=np.array([1,2])\n",
    "arr_array=np.array(arr)\n",
    "arr_asarray=np.asarray(arr)"
   ]
  },
  {
   "cell_type": "code",
   "execution_count": 7,
   "id": "801cffa9",
   "metadata": {},
   "outputs": [
    {
     "name": "stdout",
     "output_type": "stream",
     "text": [
      "False\n",
      "True\n"
     ]
    }
   ],
   "source": [
    "arr=np.array([1,2])\n",
    "arr_array=np.array(arr)\n",
    "arr_asarray=np.asarray(arr)\n",
    "\n",
    "print(arr_array is arr)\n",
    "print(arr_asarray is arr)"
   ]
  },
  {
   "cell_type": "code",
   "execution_count": 8,
   "id": "ecfa8810",
   "metadata": {},
   "outputs": [
    {
     "name": "stdout",
     "output_type": "stream",
     "text": [
      "[1 2]\n",
      "[1. 2.]\n",
      "False\n"
     ]
    }
   ],
   "source": [
    "arr=np.array([1,2])\n",
    "arr_asarray=np.asarray(arr,'float64')\n",
    "print(arr,arr_asarray,arr_asarray is arr,sep='\\n')\n"
   ]
  },
  {
   "cell_type": "code",
   "execution_count": 12,
   "id": "a8d150ab",
   "metadata": {},
   "outputs": [
    {
     "name": "stdout",
     "output_type": "stream",
     "text": [
      "shape: (2, 3, 3)\n",
      "size: 18\n",
      "ndim: 3\n",
      "itemsize 4\n",
      "dtype: int32\n"
     ]
    }
   ],
   "source": [
    "add_nd=np.array([[[1,2,3],[4,5,6],[7,8,9]],[[11,22,33],[44,55,66],[77,88,99]]])\n",
    "print('shape:',add_nd.shape)\n",
    "print('size:',add_nd.size)\n",
    "print('ndim:',add_nd.ndim)\n",
    "print('itemsize',add_nd.itemsize)\n",
    "print('dtype:',add_nd.dtype)"
   ]
  },
  {
   "cell_type": "code",
   "execution_count": 13,
   "id": "24a6ae21",
   "metadata": {},
   "outputs": [
    {
     "data": {
      "text/plain": [
       "dtype('int64')"
      ]
     },
     "execution_count": 13,
     "metadata": {},
     "output_type": "execute_result"
    }
   ],
   "source": [
    "arr=np.array([1,2,3,4,5],dtype='int64')\n",
    "arr.dtype"
   ]
  },
  {
   "cell_type": "code",
   "execution_count": 14,
   "id": "8eb0b91c",
   "metadata": {},
   "outputs": [
    {
     "data": {
      "text/plain": [
       "dtype('float64')"
      ]
     },
     "execution_count": 14,
     "metadata": {},
     "output_type": "execute_result"
    }
   ],
   "source": [
    "float_arr=arr.astype('float64')\n",
    "float_arr.dtype"
   ]
  },
  {
   "cell_type": "code",
   "execution_count": 15,
   "id": "94b3c6ec",
   "metadata": {},
   "outputs": [
    {
     "name": "stdout",
     "output_type": "stream",
     "text": [
      "[3.7 6.4 2.5]\n",
      "[3 6 2]\n"
     ]
    }
   ],
   "source": [
    "arr=np.array([3.7,6.4,2.5])\n",
    "print(arr)\n",
    "\n",
    "int_arr=arr.astype('int32')\n",
    "print(int_arr)"
   ]
  },
  {
   "cell_type": "code",
   "execution_count": 16,
   "id": "9311e61f",
   "metadata": {},
   "outputs": [
    {
     "name": "stdout",
     "output_type": "stream",
     "text": [
      "['2' '5.5' '3.3']\n",
      "[2.  5.5 3.3]\n"
     ]
    }
   ],
   "source": [
    "string_arr=np.array(['2','5.5','3.3'])\n",
    "int_arr=string_arr.astype('float64')\n",
    "print(string_arr,int_arr,sep='\\n')"
   ]
  },
  {
   "cell_type": "code",
   "execution_count": 17,
   "id": "0453e6fd",
   "metadata": {},
   "outputs": [
    {
     "name": "stdout",
     "output_type": "stream",
     "text": [
      "[0 1 2 3 4 5 6 7 8 9]\n",
      "0 3\n",
      "[1 2]\n",
      "[1 3 5 7]\n",
      "[1 2 3 4 5 6 7 8 9]\n"
     ]
    }
   ],
   "source": [
    "arr=np.arange(10)\n",
    "\n",
    "print(arr)\n",
    "print(arr[0],arr[3])\n",
    "print(arr[1:3])\n",
    "print(arr[1:8:2])\n",
    "print(arr[1:])"
   ]
  },
  {
   "cell_type": "code",
   "execution_count": 18,
   "id": "893e03d6",
   "metadata": {},
   "outputs": [
    {
     "name": "stdout",
     "output_type": "stream",
     "text": [
      "[[ 1  2  3 11]\n",
      " [ 4  5  6 22]\n",
      " [ 7  8  9 33]\n",
      " [10 11 12 44]]\n",
      "1\n",
      "1\n",
      "[ 1  2  3 11]\n",
      "[[ 3 11]\n",
      " [ 6 22]]\n",
      "[[ 3 11]\n",
      " [ 6 22]]\n"
     ]
    }
   ],
   "source": [
    "arr_2d=np.array([[1,2,3,11],[4,5,6,22],[7,8,9,33],[10,11,12,44]])\n",
    "print(arr_2d)\n",
    "\n",
    "print(arr_2d[0][0])\n",
    "print(arr_2d[0,0])\n",
    "print(arr_2d[0])\n",
    "print(arr_2d[0:2,2:4])\n",
    "print(arr_2d[:2,2:])"
   ]
  },
  {
   "cell_type": "code",
   "execution_count": 19,
   "id": "f25fa1e6",
   "metadata": {},
   "outputs": [
    {
     "name": "stdout",
     "output_type": "stream",
     "text": [
      "[[1 2 3]\n",
      " [4 5 6]\n",
      " [7 8 9]]\n",
      "[1 2 3]\n",
      "[11 22 33]\n",
      "11\n",
      "[[55 66]\n",
      " [88 99]]\n"
     ]
    }
   ],
   "source": [
    "add_nd=np.array([[[1,2,3],[4,5,6],[7,8,9]],[[11,22,33],[44,55,66],[77,88,99]]])\n",
    "\n",
    "print(add_nd[0])\n",
    "print(add_nd[0,0])\n",
    "print(add_nd[1,0])\n",
    "\n",
    "print(add_nd[1,0,0])\n",
    "print(add_nd[1,1:,1:])"
   ]
  },
  {
   "cell_type": "code",
   "execution_count": 20,
   "id": "e5224d18",
   "metadata": {},
   "outputs": [
    {
     "name": "stdout",
     "output_type": "stream",
     "text": [
      "[[[  1   2   3]\n",
      "  [  4   5   6]\n",
      "  [  7   8   9]]\n",
      "\n",
      " [[111  22  33]\n",
      "  [ 44  55  66]\n",
      "  [ 77  88  99]]]\n",
      "******************\n",
      "[[[  1   2   3]\n",
      "  [  4   5   6]\n",
      "  [  7   8   9]]\n",
      "\n",
      " [[111  22  33]\n",
      "  [ 44 555 555]\n",
      "  [ 77 555 555]]]\n",
      "******************\n",
      "[[[  1   2   3]\n",
      "  [  4   5   6]\n",
      "  [  7   8   9]]\n",
      "\n",
      " [[111  22  33]\n",
      "  [ 44   1   2]\n",
      "  [ 77   1   2]]]\n",
      "******************\n",
      "[[[  1   2   3]\n",
      "  [  4   5   6]\n",
      "  [  7   8   9]]\n",
      "\n",
      " [[111  22  33]\n",
      "  [ 44   1   2]\n",
      "  [ 77   3   4]]]\n"
     ]
    }
   ],
   "source": [
    "add_nd=np.array([[[1,2,3],[4,5,6],[7,8,9]],[[11,22,33],[44,55,66],[77,88,99]]])\n",
    "\n",
    "add_nd[1,0,0]=111\n",
    "print(add_nd,end='\\n******************\\n')\n",
    "\n",
    "add_nd[1,1:,1:]=555\n",
    "print(add_nd,end='\\n******************\\n')\n",
    "\n",
    "add_nd[1,1:,1:]=[1,2]\n",
    "print(add_nd,end='\\n******************\\n')\n",
    "\n",
    "add_nd[1,1:,1:]=[[1,2],[3,4]]\n",
    "print(add_nd)"
   ]
  },
  {
   "cell_type": "code",
   "execution_count": 21,
   "id": "097032e3",
   "metadata": {},
   "outputs": [
    {
     "name": "stdout",
     "output_type": "stream",
     "text": [
      "[[55 66]\n",
      " [88 99]]\n",
      "******************\n",
      "[[55 55]\n",
      " [55 55]]\n",
      "******************\n",
      "[[[ 1  2  3]\n",
      "  [ 4  5  6]\n",
      "  [ 7  8  9]]\n",
      "\n",
      " [[11 22 33]\n",
      "  [44 55 55]\n",
      "  [77 55 55]]]\n"
     ]
    }
   ],
   "source": [
    "add_nd=np.array([[[1,2,3],[4,5,6],[7,8,9]],[[11,22,33],[44,55,66],[77,88,99]]])\n",
    "\n",
    "new_arr=add_nd[1,1:,1:]\n",
    "print(new_arr,end='\\n******************\\n')\n",
    "\n",
    "new_arr[:]=55\n",
    "print(new_arr,end='\\n******************\\n')\n",
    "print(add_nd)"
   ]
  },
  {
   "cell_type": "code",
   "execution_count": 22,
   "id": "afa6f1e5",
   "metadata": {},
   "outputs": [
    {
     "name": "stdout",
     "output_type": "stream",
     "text": [
      "===========拷贝的方法==========\n",
      "[[55 55]\n",
      " [55 55]]\n",
      "******************\n",
      "[[[ 1  2  3]\n",
      "  [ 4  5  6]\n",
      "  [ 7  8  9]]\n",
      "\n",
      " [[11 22 33]\n",
      "  [44 55 66]\n",
      "  [77 88 99]]]\n"
     ]
    }
   ],
   "source": [
    "add_nd=np.array([[[1,2,3],[4,5,6],[7,8,9]],[[11,22,33],[44,55,66],[77,88,99]]])\n",
    "print('===========拷贝的方法==========')\n",
    "new_arr=add_nd[1,1:,1:].copy()\n",
    "new_arr[:]=55\n",
    "print(new_arr,end='\\n******************\\n')\n",
    "print(add_nd)"
   ]
  },
  {
   "cell_type": "code",
   "execution_count": 23,
   "id": "e96feab7",
   "metadata": {},
   "outputs": [
    {
     "name": "stdout",
     "output_type": "stream",
     "text": [
      "shape: (2, 3, 3)\n",
      "通过修改ndarray.shpe新数组:\n",
      "[[ 1  2  3  4  5  6]\n",
      " [ 7  8  9 11 22 33]\n",
      " [44 55 66 77 88 99]]\n"
     ]
    }
   ],
   "source": [
    "add_nd=np.array([[[1,2,3],[4,5,6],[7,8,9]],[[11,22,33],[44,55,66],[77,88,99]]])\n",
    "print('shape:',add_nd.shape)\n",
    "\n",
    "print('通过修改ndarray.shpe新数组:')\n",
    "add_nd.shape=(3,6)\n",
    "print(add_nd)"
   ]
  },
  {
   "cell_type": "code",
   "execution_count": 24,
   "id": "222b4124",
   "metadata": {},
   "outputs": [
    {
     "name": "stdout",
     "output_type": "stream",
     "text": [
      "ndarray.reshape方法生成的新数组：\n",
      "[[ 1  2  3]\n",
      " [ 4  5  6]\n",
      " [ 7  8  9]\n",
      " [11 22 33]\n",
      " [44 55 66]\n",
      " [77 88 99]]\n",
      "ndarray.reshape方法不改变原来的数组：\n",
      "[[[ 1  2  3]\n",
      "  [ 4  5  6]\n",
      "  [ 7  8  9]]\n",
      "\n",
      " [[11 22 33]\n",
      "  [44 55 66]\n",
      "  [77 88 99]]]\n",
      "ndarray.reshape方法生成的新数组：\n",
      "[[ 1  2  3]\n",
      " [ 4  5  6]\n",
      " [ 7  8  9]\n",
      " [11 22 33]\n",
      " [44 55 66]\n",
      " [77 88 99]]\n",
      "ndarray.reshape方法不改变原来的数组：\n",
      "[[[ 1  2  3]\n",
      "  [ 4  5  6]\n",
      "  [ 7  8  9]]\n",
      "\n",
      " [[11 22 33]\n",
      "  [44 55 66]\n",
      "  [77 88 99]]]\n"
     ]
    }
   ],
   "source": [
    "add_nd=np.array([[[1,2,3],[4,5,6],[7,8,9]],[[11,22,33],[44,55,66],[77,88,99]]])\n",
    "\n",
    "new_arr=add_nd.reshape(6,3)\n",
    "print('ndarray.reshape方法生成的新数组：')\n",
    "print(new_arr)\n",
    "print('ndarray.reshape方法不改变原来的数组：')\n",
    "print(add_nd)\n",
    "\n",
    "new_arr1=np.reshape(add_nd,(6,3))\n",
    "print('ndarray.reshape方法生成的新数组：')\n",
    "print(new_arr1)\n",
    "print('ndarray.reshape方法不改变原来的数组：')\n",
    "print(add_nd)"
   ]
  },
  {
   "cell_type": "code",
   "execution_count": 25,
   "id": "3ce1a069",
   "metadata": {},
   "outputs": [
    {
     "name": "stdout",
     "output_type": "stream",
     "text": [
      "ndarray.resize方法改变原来的数组，不生成新的数组\n",
      "[[[ 1  2  3  4  5]\n",
      "  [ 6  7  8  9 11]\n",
      "  [22 33 44 55 66]\n",
      "  [77 88 99  0  0]\n",
      "  [ 0  0  0  0  0]\n",
      "  [ 0  0  0  0  0]]\n",
      "\n",
      " [[ 0  0  0  0  0]\n",
      "  [ 0  0  0  0  0]\n",
      "  [ 0  0  0  0  0]\n",
      "  [ 0  0  0  0  0]\n",
      "  [ 0  0  0  0  0]\n",
      "  [ 0  0  0  0  0]]]\n",
      "np.resize方法生成的新数组：\n",
      "[[ 1  2  3]\n",
      " [ 4  5  6]\n",
      " [ 7  8  9]\n",
      " [11 22 33]\n",
      " [44 55 66]\n",
      " [77 88 99]]\n",
      "np.resize方法不改变原来的数组：\n",
      "[[[ 1  2  3]\n",
      "  [ 4  5  6]\n",
      "  [ 7  8  9]]\n",
      "\n",
      " [[11 22 33]\n",
      "  [44 55 66]\n",
      "  [77 88 99]]]\n"
     ]
    }
   ],
   "source": [
    "add_nd=np.array([[[1,2,3],[4,5,6],[7,8,9]],[[11,22,33],[44,55,66],[77,88,99]]])\n",
    "\n",
    "add_nd.resize(2,6,5)\n",
    "print('ndarray.resize方法改变原来的数组，不生成新的数组')\n",
    "print(add_nd)\n",
    "\n",
    "add_nd=np.array([[[1,2,3],[4,5,6],[7,8,9]],[[11,22,33],[44,55,66],[77,88,99]]])\n",
    "\n",
    "new_add=np.resize(add_nd,(2,6,5))\n",
    "print('np.resize方法生成的新数组：')\n",
    "print(new_arr1)\n",
    "print('np.resize方法不改变原来的数组：')\n",
    "print(add_nd)"
   ]
  },
  {
   "cell_type": "code",
   "execution_count": 26,
   "id": "71cdbef7",
   "metadata": {},
   "outputs": [
    {
     "name": "stdout",
     "output_type": "stream",
     "text": [
      "(4, 3) (3, 4)\n",
      "False\n",
      "***********************\n",
      "[[ 1  2  3]\n",
      " [ 4  5  6]\n",
      " [ 7  8  9]\n",
      " [10 11 12]]\n",
      "***********************\n",
      "[[ 1  4  7 10]\n",
      " [ 2  5  8 11]\n",
      " [ 3  6  9 12]]\n"
     ]
    }
   ],
   "source": [
    "arr_2d=np.array([[1,2,3],[4,5,6],[7,8,9],[10,11,12]])\n",
    "new_add=np.transpose(arr_2d)\n",
    "\n",
    "print(arr_2d.shape,new_add.shape)\n",
    "print(new_add is arr_2d,arr_2d,new_add,sep='\\n***********************\\n')"
   ]
  },
  {
   "cell_type": "code",
   "execution_count": 27,
   "id": "6e36c8a2",
   "metadata": {},
   "outputs": [
    {
     "name": "stdout",
     "output_type": "stream",
     "text": [
      "(4, 3) (3, 4)\n",
      "False\n",
      "***********************\n",
      "[[ 1  2  3]\n",
      " [ 4  5  6]\n",
      " [ 7  8  9]\n",
      " [10 11 12]]\n",
      "***********************\n",
      "[[ 1  4  7 10]\n",
      " [ 2  5  8 11]\n",
      " [ 3  6  9 12]]\n"
     ]
    }
   ],
   "source": [
    "arr_2d=np.array([[1,2,3],[4,5,6],[7,8,9],[10,11,12]])\n",
    "new_add=arr_2d.T\n",
    "\n",
    "print(arr_2d.shape,new_add.shape)\n",
    "print(new_add is arr_2d,arr_2d,new_add,sep='\\n***********************\\n')"
   ]
  },
  {
   "cell_type": "code",
   "execution_count": 28,
   "id": "49b06eb4",
   "metadata": {},
   "outputs": [
    {
     "name": "stdout",
     "output_type": "stream",
     "text": [
      "(2, 2, 4, 3) (3, 4, 2, 2)\n",
      "False\n"
     ]
    }
   ],
   "source": [
    "arr_2d=np.array([[[[1,2,3],[4,5,6],[1,2,3],[4,5,6]],[[7,8,9],[10,11,12],[1,2,3],[4,5,6]]],[[[1,2,3],[4,5,6],[1,2,3],[4,5,6]],[[7,8,9],[10,11,12],[1,2,3],[4,5,6]]]])\n",
    "new_add=np.transpose(arr_2d)\n",
    "\n",
    "print(arr_2d.shape,new_add.shape)\n",
    "print(new_add is arr_2d)"
   ]
  },
  {
   "cell_type": "code",
   "execution_count": 29,
   "id": "dbb32f77",
   "metadata": {},
   "outputs": [
    {
     "name": "stdout",
     "output_type": "stream",
     "text": [
      "(2, 2, 4, 3) (3, 4, 2, 2)\n",
      "False\n"
     ]
    }
   ],
   "source": [
    "arr_2d=np.array([[[[1,2,3],[4,5,6],[1,2,3],[4,5,6]],[[7,8,9],[10,11,12],[1,2,3],[4,5,6]]],[[[1,2,3],[4,5,6],[1,2,3],[4,5,6]],[[7,8,9],[10,11,12],[1,2,3],[4,5,6]]]])\n",
    "new_add=arr_2d.T\n",
    "\n",
    "print(arr_2d.shape,new_add.shape)\n",
    "print(new_add is arr_2d)"
   ]
  },
  {
   "cell_type": "code",
   "execution_count": 30,
   "id": "101b5882",
   "metadata": {},
   "outputs": [
    {
     "name": "stdout",
     "output_type": "stream",
     "text": [
      "(4, 3, 3)\n",
      "(2, 6, 3)\n",
      "(2, 3, 6)\n"
     ]
    }
   ],
   "source": [
    "add_nd1=np.array([[[1,2,3],[4,5,6],[7,8,9]],[[11,22,33],[44,55,66],[77,88,99]]])\n",
    "add_nd2=np.array([[[1,2,3],[4,5,6],[7,8,9]],[[11,22,33],[44,55,66],[77,88,99]]])\n",
    "\n",
    "axis_0=np.concatenate((add_nd1,add_nd1))\n",
    "print(axis_0.shape)\n",
    "axis_1=np.concatenate((add_nd1,add_nd1),axis=1)\n",
    "print(axis_1.shape)\n",
    "axis_2=np.concatenate((add_nd1,add_nd1),axis=2)\n",
    "print(axis_2.shape)"
   ]
  },
  {
   "cell_type": "code",
   "execution_count": 31,
   "id": "06471bf4",
   "metadata": {},
   "outputs": [
    {
     "name": "stdout",
     "output_type": "stream",
     "text": [
      "(3, 1) (3, 1)\n",
      "[[1 4]\n",
      " [2 5]\n",
      " [3 6]]\n",
      "[[1]\n",
      " [2]\n",
      " [3]\n",
      " [4]\n",
      " [5]\n",
      " [6]]\n"
     ]
    }
   ],
   "source": [
    "arr3=np.array([[1],[2],[3]])\n",
    "arr4=np.array([[4],[5],[6]])\n",
    "print(arr3.shape,arr4.shape)\n",
    "\n",
    "print(np.hstack((arr3,arr4)))\n",
    "print(np.vstack((arr3,arr4)))"
   ]
  },
  {
   "cell_type": "code",
   "execution_count": 32,
   "id": "d502daf4",
   "metadata": {},
   "outputs": [
    {
     "name": "stdout",
     "output_type": "stream",
     "text": [
      "[1 2 3 4 5]\n",
      "[3 4 5 6 7]\n",
      "[ 2  4  6  8 10]\n",
      "[0.5 1.  1.5 2.  2.5]\n",
      "[ 1  4  9 16 25]\n"
     ]
    }
   ],
   "source": [
    "x=np.array((1,2,3,4,5))\n",
    "print(x)\n",
    "\n",
    "print(x+2)\n",
    "print(x*2)\n",
    "print(x/2)\n",
    "print(x**2)"
   ]
  },
  {
   "cell_type": "code",
   "execution_count": 33,
   "id": "a91cc48d",
   "metadata": {},
   "outputs": [
    {
     "name": "stdout",
     "output_type": "stream",
     "text": [
      "[ 3  5  7  9 11]\n",
      "[ 2  6 12 20 30]\n",
      "[0.5        0.66666667 0.75       0.8        0.83333333]\n",
      "[    1     8    81  1024 15625]\n"
     ]
    }
   ],
   "source": [
    "x=np.array((1,2,3,4,5))\n",
    "y=np.array((2,3,4,5,6))\n",
    "\n",
    "print(x+y)\n",
    "print(x*y)\n",
    "print(x/y)\n",
    "print(x**y)"
   ]
  },
  {
   "cell_type": "code",
   "execution_count": 34,
   "id": "cb6ec199",
   "metadata": {},
   "outputs": [
    {
     "name": "stdout",
     "output_type": "stream",
     "text": [
      "[[1]\n",
      " [2]\n",
      " [3]\n",
      " [4]]\n",
      "**********************\n",
      "[[[1 2 3 4 5]]\n",
      "\n",
      " [[1 2 3 4 5]]]\n",
      "**********************\n",
      "(4, 1) (2, 1, 5)\n",
      "**********************\n",
      "[[[2 3 4 5 6]\n",
      "  [3 4 5 6 7]\n",
      "  [4 5 6 7 8]\n",
      "  [5 6 7 8 9]]\n",
      "\n",
      " [[2 3 4 5 6]\n",
      "  [3 4 5 6 7]\n",
      "  [4 5 6 7 8]\n",
      "  [5 6 7 8 9]]]\n"
     ]
    }
   ],
   "source": [
    "x=np.array(((1,),(2,),(3,),(4,)))\n",
    "y=np.array((((1,2,3,4,5),),((1,2,3,4,5),)))\n",
    "print(x,y,sep='\\n**********************\\n',end='\\n**********************\\n')\n",
    "print(x.shape,y.shape,end='\\n**********************\\n')\n",
    "print(x+y)"
   ]
  },
  {
   "cell_type": "code",
   "execution_count": 36,
   "id": "c587a88d",
   "metadata": {},
   "outputs": [
    {
     "name": "stdout",
     "output_type": "stream",
     "text": [
      "[[0]\n",
      " [1]\n",
      " [2]\n",
      " [3]]\n",
      "[0 1 2 3 4]\n",
      "[[0 1 2 3 4]\n",
      " [1 2 3 4 5]\n",
      " [2 3 4 5 6]\n",
      " [3 4 5 6 7]]\n"
     ]
    }
   ],
   "source": [
    "x_re=np.arange(4)\n",
    "x=x_re.reshape(4,1)\n",
    "print(x)\n",
    "\n",
    "y=np.arange(5)\n",
    "print(y)\n",
    "\n",
    "print(x+y)\n"
   ]
  },
  {
   "cell_type": "code",
   "execution_count": 37,
   "id": "7cfd78f6",
   "metadata": {},
   "outputs": [
    {
     "name": "stdout",
     "output_type": "stream",
     "text": [
      "[0 1 2 3 4 5 6 7 8]\n",
      "[0 1 2 3 4 5 6 7 3 4 8 7]\n",
      "[[0 1 2 3]\n",
      " [4 5 6 7]]\n",
      "[0 1 2 3 4 5 6 7 3 4 8 7]\n"
     ]
    }
   ],
   "source": [
    "x=np.arange(8)\n",
    "print(np.append(x,8))\n",
    "print(np.append(x,[[3,4],[8,7]]))\n",
    "\n",
    "x=np.arange(8).reshape(2,4)\n",
    "print(x)\n",
    "print(np.append(x,[[3,4],[8,7]]))"
   ]
  },
  {
   "cell_type": "code",
   "execution_count": 38,
   "id": "c71e0ecd",
   "metadata": {},
   "outputs": [
    {
     "name": "stdout",
     "output_type": "stream",
     "text": [
      "[[0. 0. 0. 0. 0. 0. 0. 0.]]\n",
      "[[1. 1. 1. 1. 1. 1. 1. 1.]\n",
      " [1. 1. 1. 1. 1. 1. 1. 1.]\n",
      " [1. 1. 1. 1. 1. 1. 1. 1.]]\n",
      "(4, 8) [[0. 0. 0. 0. 0. 0. 0. 0.]\n",
      " [1. 1. 1. 1. 1. 1. 1. 1.]\n",
      " [1. 1. 1. 1. 1. 1. 1. 1.]\n",
      " [1. 1. 1. 1. 1. 1. 1. 1.]]\n"
     ]
    }
   ],
   "source": [
    "x=np.zeros((1,8))\n",
    "y=np.ones((3,8))\n",
    "print(x,y,sep='\\n')\n",
    "new_nd=np.append(x,y,axis=0)\n",
    "print(new_nd.shape,new_nd)"
   ]
  },
  {
   "cell_type": "code",
   "execution_count": 39,
   "id": "8c0bf0d4",
   "metadata": {},
   "outputs": [
    {
     "name": "stdout",
     "output_type": "stream",
     "text": [
      "[[0. 0. 0.]\n",
      " [0. 0. 0.]\n",
      " [0. 0. 0.]\n",
      " [0. 0. 0.]\n",
      " [0. 0. 0.]\n",
      " [0. 0. 0.]\n",
      " [0. 0. 0.]\n",
      " [0. 0. 0.]]\n",
      "[[1. 1. 1. 1.]\n",
      " [1. 1. 1. 1.]\n",
      " [1. 1. 1. 1.]\n",
      " [1. 1. 1. 1.]\n",
      " [1. 1. 1. 1.]\n",
      " [1. 1. 1. 1.]\n",
      " [1. 1. 1. 1.]\n",
      " [1. 1. 1. 1.]]\n",
      "(8, 7) [[0. 0. 0. 1. 1. 1. 1.]\n",
      " [0. 0. 0. 1. 1. 1. 1.]\n",
      " [0. 0. 0. 1. 1. 1. 1.]\n",
      " [0. 0. 0. 1. 1. 1. 1.]\n",
      " [0. 0. 0. 1. 1. 1. 1.]\n",
      " [0. 0. 0. 1. 1. 1. 1.]\n",
      " [0. 0. 0. 1. 1. 1. 1.]\n",
      " [0. 0. 0. 1. 1. 1. 1.]]\n"
     ]
    }
   ],
   "source": [
    "x=np.zeros((8,3))\n",
    "y=np.ones((8,4))\n",
    "print(x,y,sep='\\n')\n",
    "new_nd=np.append(x,y,axis=1)\n",
    "print(new_nd.shape,new_nd)"
   ]
  },
  {
   "cell_type": "code",
   "execution_count": 40,
   "id": "326a641e",
   "metadata": {},
   "outputs": [
    {
     "name": "stdout",
     "output_type": "stream",
     "text": [
      "[[[40 39 38 37 36]\n",
      "  [35 34 33 32 31]]\n",
      "\n",
      " [[30 29 28 27 26]\n",
      "  [25 24 23 22 21]]\n",
      "\n",
      " [[20 19 18 17 16]\n",
      "  [15 14 13 12 11]]\n",
      "\n",
      " [[10  9  8  7  6]\n",
      "  [ 5  4  3  2  1]]]\n",
      "[[[10  9  8  7  6]\n",
      "  [ 5  4  3  2  1]]\n",
      "\n",
      " [[20 19 18 17 16]\n",
      "  [15 14 13 12 11]]\n",
      "\n",
      " [[30 29 28 27 26]\n",
      "  [25 24 23 22 21]]\n",
      "\n",
      " [[40 39 38 37 36]\n",
      "  [35 34 33 32 31]]]\n",
      "[[[35 34 33 32 31]\n",
      "  [40 39 38 37 36]]\n",
      "\n",
      " [[25 24 23 22 21]\n",
      "  [30 29 28 27 26]]\n",
      "\n",
      " [[15 14 13 12 11]\n",
      "  [20 19 18 17 16]]\n",
      "\n",
      " [[ 5  4  3  2  1]\n",
      "  [10  9  8  7  6]]]\n",
      "[[[36 37 38 39 40]\n",
      "  [31 32 33 34 35]]\n",
      "\n",
      " [[26 27 28 29 30]\n",
      "  [21 22 23 24 25]]\n",
      "\n",
      " [[16 17 18 19 20]\n",
      "  [11 12 13 14 15]]\n",
      "\n",
      " [[ 6  7  8  9 10]\n",
      "  [ 1  2  3  4  5]]]\n",
      "[[[40 39 38 37 36]\n",
      "  [35 34 33 32 31]]\n",
      "\n",
      " [[30 29 28 27 26]\n",
      "  [25 24 23 22 21]]\n",
      "\n",
      " [[20 19 18 17 16]\n",
      "  [15 14 13 12 11]]\n",
      "\n",
      " [[10  9  8  7  6]\n",
      "  [ 5  4  3  2  1]]]\n",
      "[[[36 37 38 39 40]\n",
      "  [31 32 33 34 35]]\n",
      "\n",
      " [[26 27 28 29 30]\n",
      "  [21 22 23 24 25]]\n",
      "\n",
      " [[16 17 18 19 20]\n",
      "  [11 12 13 14 15]]\n",
      "\n",
      " [[ 6  7  8  9 10]\n",
      "  [ 1  2  3  4  5]]]\n",
      "[[[36 37 38 39 40]\n",
      "  [31 32 33 34 35]]\n",
      "\n",
      " [[26 27 28 29 30]\n",
      "  [21 22 23 24 25]]\n",
      "\n",
      " [[16 17 18 19 20]\n",
      "  [11 12 13 14 15]]\n",
      "\n",
      " [[ 6  7  8  9 10]\n",
      "  [ 1  2  3  4  5]]]\n"
     ]
    }
   ],
   "source": [
    "arr_sort=np.arange(40,0,-1).reshape(4,2,5)\n",
    "print(arr_sort)\n",
    "\n",
    "print(np.sort(arr_sort,axis=0))\n",
    "\n",
    "print(np.sort(arr_sort,axis=1))\n",
    "\n",
    "print(np.sort(arr_sort,axis=2))\n",
    "\n",
    "arr_sort=np.arange(40,0,-1).reshape(4,2,5)\n",
    "print(arr_sort)\n",
    "\n",
    "print(np.sort(arr_sort,axis=2))\n",
    "\n",
    "print(np.sort(arr_sort))"
   ]
  },
  {
   "cell_type": "code",
   "execution_count": 41,
   "id": "d430638d",
   "metadata": {},
   "outputs": [
    {
     "name": "stdout",
     "output_type": "stream",
     "text": [
      "[[1 3 7 5]\n",
      " [2 6 4 8]]\n",
      "=====================\n",
      "[[0 1 3 2]\n",
      " [0 2 1 3]]\n",
      "=====================\n",
      "[[0 0 1 0]\n",
      " [1 1 0 1]]\n",
      "=====================\n",
      "[[0 1 3 2]\n",
      " [0 2 1 3]]\n"
     ]
    }
   ],
   "source": [
    "a=np.array([[1,3,7,5],[2,6,4,8]])\n",
    "print(a)\n",
    "print('=====================')\n",
    "print(np.argsort(a))\n",
    "print('=====================')\n",
    "print(np.argsort(a,axis=0))\n",
    "print('=====================')\n",
    "print(np.argsort(a,axis=1))"
   ]
  },
  {
   "cell_type": "code",
   "execution_count": 42,
   "id": "98924655",
   "metadata": {},
   "outputs": [
    {
     "name": "stdout",
     "output_type": "stream",
     "text": [
      "4\n",
      "[[1 3 5]\n",
      " [9 4 3]]\n",
      "若轴不指定:  3\n",
      "axis = 0:  [1 1 0]\n",
      "axis = 1:  [2 0]\n"
     ]
    }
   ],
   "source": [
    "one_dim_array = np.array([1, 4, 5, 3, 7, 2, 6])\n",
    "print(np.argmax(one_dim_array))\n",
    "\n",
    "two_dim_array = np.array([[1, 3, 5], [9, 4, 3]])\n",
    "print(two_dim_array)\n",
    "max_index_axis4 = np.argmax(two_dim_array)\n",
    "max_index_axis0 = np.argmax(two_dim_array, axis = 0)\n",
    "max_index_axis1 = np. argmax(two_dim_array, axis = 1)\n",
    "print('若轴不指定: ',max_index_axis4)\n",
    "print('axis = 0: ',max_index_axis0)\n",
    "print('axis = 1: ',max_index_axis1)"
   ]
  },
  {
   "cell_type": "code",
   "execution_count": 43,
   "id": "5cc6266c",
   "metadata": {},
   "outputs": [
    {
     "name": "stdout",
     "output_type": "stream",
     "text": [
      "[ 0 20 40 60 80]\n",
      "[ 0.          0.91294525  0.74511316 -0.30481062 -0.99388865]\n",
      "[[1 2 3]\n",
      " [4 5 6]\n",
      " [7 8 9]]\n"
     ]
    }
   ],
   "source": [
    "x = np.arange(0, 100, 20)\n",
    "print(x)\n",
    "print(np.sin(x))\n",
    "\n",
    "x = np.array(([1, 2, 3], [4, 5, 6], [7, 8, 9]))\n",
    "print(x)"
   ]
  },
  {
   "cell_type": "code",
   "execution_count": 44,
   "id": "4186018d",
   "metadata": {},
   "outputs": [
    {
     "name": "stdout",
     "output_type": "stream",
     "text": [
      "原数组：\n",
      "[  1.      5.55  123.      0.567  25.562]\n",
      "舍入后：\n",
      "舍入位为默认值： [  1.   6. 123.   1.  26.]\n",
      "舍入位为1： [  1.    5.6 123.    0.6  25.6]\n",
      "舍入位为-1： [  0.  10. 120.   0.  30.]\n"
     ]
    }
   ],
   "source": [
    "a = np.array([1.0,5.55, 123, 0.567, 25.562])\n",
    "print ('原数组：')\n",
    "print(a)\n",
    "print('舍入后：')\n",
    "print('舍入位为默认值：',np.around(a))\n",
    "print('舍入位为1：',np.around(a,decimals = 1))\n",
    "print('舍入位为-1：',np.around(a,decimals = -1))"
   ]
  },
  {
   "cell_type": "code",
   "execution_count": 45,
   "id": "7ae04bbf",
   "metadata": {},
   "outputs": [
    {
     "name": "stdout",
     "output_type": "stream",
     "text": [
      "32\n",
      "32\n",
      "32\n"
     ]
    }
   ],
   "source": [
    "x = np.array((1,2,3))\n",
    "y = np.array((4,5,6))\n",
    "print(np.dot(x,y))\n",
    "print(x.dot(y))\n",
    "print(sum(x*y))"
   ]
  },
  {
   "cell_type": "code",
   "execution_count": null,
   "id": "2d1ffca7",
   "metadata": {},
   "outputs": [],
   "source": []
  }
 ],
 "metadata": {
  "kernelspec": {
   "display_name": "Python 3 (ipykernel)",
   "language": "python",
   "name": "python3"
  },
  "language_info": {
   "codemirror_mode": {
    "name": "ipython",
    "version": 3
   },
   "file_extension": ".py",
   "mimetype": "text/x-python",
   "name": "python",
   "nbconvert_exporter": "python",
   "pygments_lexer": "ipython3",
   "version": "3.9.7"
  }
 },
 "nbformat": 4,
 "nbformat_minor": 5
}
