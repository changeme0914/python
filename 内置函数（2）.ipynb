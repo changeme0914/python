{
 "cells": [
  {
   "cell_type": "code",
   "execution_count": 1,
   "id": "8b0d9f26",
   "metadata": {},
   "outputs": [
    {
     "name": "stdout",
     "output_type": "stream",
     "text": [
      "[('1', 1), ('2', 2), ('3', 3), ('4', 4)]\n",
      "(('1', 1), ('2', 2), ('3', 3), ('4', 4))\n",
      "('1', 1)\n",
      "('2', 2)\n",
      "('3', 3)\n",
      "('4', 4)\n"
     ]
    }
   ],
   "source": [
    "data=zip('1234',[1,2,3,4,5,6])\n",
    "print(list(data))\n",
    "data=zip('1234',[1,2,3,4,5,6])\n",
    "print(tuple(data))\n",
    "data=zip('1234',[1,2,3,4,5,6])\n",
    "for item in data:\n",
    "    print(item)"
   ]
  },
  {
   "cell_type": "code",
   "execution_count": 2,
   "id": "95998051",
   "metadata": {},
   "outputs": [
    {
     "name": "stdout",
     "output_type": "stream",
     "text": [
      "<map object at 0x000001E1639ADCD0>\n",
      "['0', '1', '2', '3', '4']\n",
      "[3, 4, 0]\n",
      "[0, 1, 2, 3, 4]\n",
      "[5, 6, 7, 8, 9]\n",
      "[0, 6, 14, 24, 36]\n"
     ]
    }
   ],
   "source": [
    "print(map(str,range(5)))\n",
    "print(list(map(str,range(5))))\n",
    "print(list(map(len,['abc','1234',''])))\n",
    "print(list(range(5)))\n",
    "print(list(range(5,10)))\n",
    "def mydef(x,y):\n",
    "    return x*y;\n",
    "print(list(map(mydef,range(5),range(5,10))))"
   ]
  },
  {
   "cell_type": "code",
   "execution_count": 3,
   "id": "4f53cba6",
   "metadata": {},
   "outputs": [
    {
     "name": "stdout",
     "output_type": "stream",
     "text": [
      "<filter object at 0x000001E16396E2E0>\n",
      "['1234']\n",
      "['abcd']\n",
      "['abcd', '1234']\n",
      "abcd\n",
      "1234\n",
      ".,?!\n"
     ]
    }
   ],
   "source": [
    "seq = ['abcd','1234','.,?!','']\n",
    "print(filter(str.isdigit,seq))\n",
    "print(list(filter(str.isdigit,seq)))\n",
    "print(list(filter(str.isalpha,seq)))\n",
    "print(list(filter(str.isalnum,seq)))\n",
    "s = filter (None,seq)\n",
    "for item in s:\n",
    "    print(item)"
   ]
  },
  {
   "cell_type": "code",
   "execution_count": 4,
   "id": "89d8756e",
   "metadata": {},
   "outputs": [
    {
     "name": "stdout",
     "output_type": "stream",
     "text": [
      "45\n",
      "362880\n",
      "{1, 2, 3, 4}\n"
     ]
    }
   ],
   "source": [
    "from functools import reduce\n",
    "from operator import add,mul,or_\n",
    "\n",
    "seq = range(1,10)\n",
    "print(reduce(add,seq))\n",
    "print(reduce(mul,seq))\n",
    "seq = [{1},{2},{3},{4}]\n",
    "print(reduce(or_,seq))"
   ]
  },
  {
   "cell_type": "code",
   "execution_count": null,
   "id": "6667d3e7",
   "metadata": {},
   "outputs": [],
   "source": [
    "help（）：用于查看函数或模块用途的详细说明"
   ]
  },
  {
   "cell_type": "code",
   "execution_count": 9,
   "id": "bdb4fce7",
   "metadata": {},
   "outputs": [
    {
     "name": "stdout",
     "output_type": "stream",
     "text": [
      "Help on built-in function add in module _operator:\n",
      "\n",
      "add(a, b, /)\n",
      "    Same as a + b.\n",
      "\n"
     ]
    }
   ],
   "source": [
    "help(add)"
   ]
  },
  {
   "cell_type": "code",
   "execution_count": null,
   "id": "3dc14c27",
   "metadata": {},
   "outputs": [],
   "source": [
    "enumerate（）：用于将一个可遍历的数据对象(如列表、元组或字符串)组合为一个索引序列，同时列出数据和数据下标，一般用在 for 循环当中"
   ]
  },
  {
   "cell_type": "code",
   "execution_count": 14,
   "id": "9199a5b6",
   "metadata": {},
   "outputs": [
    {
     "data": {
      "text/plain": [
       "[(0, 'Spring'), (1, 'Summer'), (2, 'Fall'), (3, 'Winter')]"
      ]
     },
     "execution_count": 14,
     "metadata": {},
     "output_type": "execute_result"
    }
   ],
   "source": [
    "seasons = ['Spring', 'Summer', 'Fall', 'Winter']\n",
    "list(enumerate(seasons))"
   ]
  },
  {
   "cell_type": "code",
   "execution_count": 15,
   "id": "485a5851",
   "metadata": {},
   "outputs": [
    {
     "data": {
      "text/plain": [
       "[(1, 'Spring'), (2, 'Summer'), (3, 'Fall'), (4, 'Winter')]"
      ]
     },
     "execution_count": 15,
     "metadata": {},
     "output_type": "execute_result"
    }
   ],
   "source": [
    "seasons = ['Spring', 'Summer', 'Fall', 'Winter']\n",
    "list(enumerate(seasons, start=1))  "
   ]
  },
  {
   "cell_type": "code",
   "execution_count": 17,
   "id": "648ba7b2",
   "metadata": {},
   "outputs": [
    {
     "name": "stdout",
     "output_type": "stream",
     "text": [
      "0 one\n",
      "1 two\n",
      "2 three\n"
     ]
    }
   ],
   "source": [
    "i = 0\n",
    "seq = ['one', 'two', 'three']\n",
    "for element in seq:\n",
    "    print(i, seq[i])\n",
    "    i += 1"
   ]
  },
  {
   "cell_type": "code",
   "execution_count": null,
   "id": "208d5bf5",
   "metadata": {},
   "outputs": [],
   "source": [
    "dir() 它返回包含查询对象的所有属性和方法名称的列表。"
   ]
  },
  {
   "cell_type": "code",
   "execution_count": 18,
   "id": "ebafec6a",
   "metadata": {},
   "outputs": [
    {
     "data": {
      "text/plain": [
       "['__breakpointhook__',\n",
       " '__displayhook__',\n",
       " '__doc__',\n",
       " '__excepthook__',\n",
       " '__interactivehook__',\n",
       " '__loader__',\n",
       " '__name__',\n",
       " '__package__',\n",
       " '__spec__',\n",
       " '__stderr__',\n",
       " '__stdin__',\n",
       " '__stdout__',\n",
       " '__unraisablehook__',\n",
       " '_base_executable',\n",
       " '_clear_type_cache',\n",
       " '_current_frames',\n",
       " '_debugmallocstats',\n",
       " '_enablelegacywindowsfsencoding',\n",
       " '_framework',\n",
       " '_getframe',\n",
       " '_git',\n",
       " '_home',\n",
       " '_xoptions',\n",
       " 'addaudithook',\n",
       " 'api_version',\n",
       " 'argv',\n",
       " 'audit',\n",
       " 'base_exec_prefix',\n",
       " 'base_prefix',\n",
       " 'breakpointhook',\n",
       " 'builtin_module_names',\n",
       " 'byteorder',\n",
       " 'call_tracing',\n",
       " 'copyright',\n",
       " 'displayhook',\n",
       " 'dllhandle',\n",
       " 'dont_write_bytecode',\n",
       " 'exc_info',\n",
       " 'excepthook',\n",
       " 'exec_prefix',\n",
       " 'executable',\n",
       " 'exit',\n",
       " 'flags',\n",
       " 'float_info',\n",
       " 'float_repr_style',\n",
       " 'get_asyncgen_hooks',\n",
       " 'get_coroutine_origin_tracking_depth',\n",
       " 'getallocatedblocks',\n",
       " 'getdefaultencoding',\n",
       " 'getfilesystemencodeerrors',\n",
       " 'getfilesystemencoding',\n",
       " 'getprofile',\n",
       " 'getrecursionlimit',\n",
       " 'getrefcount',\n",
       " 'getsizeof',\n",
       " 'getswitchinterval',\n",
       " 'gettrace',\n",
       " 'getwindowsversion',\n",
       " 'hash_info',\n",
       " 'hexversion',\n",
       " 'implementation',\n",
       " 'int_info',\n",
       " 'intern',\n",
       " 'is_finalizing',\n",
       " 'last_traceback',\n",
       " 'last_type',\n",
       " 'last_value',\n",
       " 'maxsize',\n",
       " 'maxunicode',\n",
       " 'meta_path',\n",
       " 'modules',\n",
       " 'path',\n",
       " 'path_hooks',\n",
       " 'path_importer_cache',\n",
       " 'platform',\n",
       " 'platlibdir',\n",
       " 'prefix',\n",
       " 'ps1',\n",
       " 'ps2',\n",
       " 'ps3',\n",
       " 'pycache_prefix',\n",
       " 'set_asyncgen_hooks',\n",
       " 'set_coroutine_origin_tracking_depth',\n",
       " 'setprofile',\n",
       " 'setrecursionlimit',\n",
       " 'setswitchinterval',\n",
       " 'settrace',\n",
       " 'stderr',\n",
       " 'stdin',\n",
       " 'stdout',\n",
       " 'thread_info',\n",
       " 'unraisablehook',\n",
       " 'version',\n",
       " 'version_info',\n",
       " 'warnoptions',\n",
       " 'winver']"
      ]
     },
     "execution_count": 18,
     "metadata": {},
     "output_type": "execute_result"
    }
   ],
   "source": [
    "import sys\n",
    "dir(sys)"
   ]
  },
  {
   "cell_type": "code",
   "execution_count": null,
   "id": "a9977d43",
   "metadata": {},
   "outputs": [],
   "source": []
  }
 ],
 "metadata": {
  "kernelspec": {
   "display_name": "Python 3 (ipykernel)",
   "language": "python",
   "name": "python3"
  },
  "language_info": {
   "codemirror_mode": {
    "name": "ipython",
    "version": 3
   },
   "file_extension": ".py",
   "mimetype": "text/x-python",
   "name": "python",
   "nbconvert_exporter": "python",
   "pygments_lexer": "ipython3",
   "version": "3.9.7"
  }
 },
 "nbformat": 4,
 "nbformat_minor": 5
}
