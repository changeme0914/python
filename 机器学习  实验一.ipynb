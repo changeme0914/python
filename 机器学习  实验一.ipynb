{
 "cells": [
  {
   "cell_type": "code",
   "execution_count": null,
   "id": "21a4fc42",
   "metadata": {},
   "outputs": [],
   "source": [
    "\n",
    "import numpy as np\n",
    "class LinearRegression:\n",
    "    def fit(self,X,y):\n",
    "        self.w = np.linalg.inv(X.T.dot(X)).dot(X.T).dot(y)   #最优解w*=(XTX)1XTg正规方程法\n",
    "    def predict(self, X):   #预测\n",
    "        return X.dot(self.w)\n",
    "def mean_ squared_error(y _true,y _pred):   #h的均方误差\n",
    "    return np.average((y _true- y _pred)**2, axis=0)   #axis=0按列计算\n",
    "def r2_score(y _true, y _pred):     #R2的决定系数\n",
    "    numerator = (y _true - y pred)**2\n",
    "    denominator =(y _true - np.average(y _true, axis=O)**2\n",
    "return 1- numerator.sum(axis=0) / denominator.sum(axis=0)) #axis=0按列计算\n"
   ]
  },
  {
   "cell_type": "code",
   "execution_count": null,
   "id": "33f67d43",
   "metadata": {},
   "outputs": [],
   "source": [
    "\n",
    "import numpy as np\n",
    "import machine_learning.lib.linear__regression as lib\n",
    "def generate_samples(m):\n",
    "    X =2* (np.random.rand(m, 1) - 0.5)  #X=[-1,1]\n",
    "    y = X + np.random.normal(0,0.3,(m,1))    #正态分布态分布y标签向量，m*1列向量\n",
    "    return X, y\n",
    "def process_features(X):   #特征处理\n",
    "    m, n = X.shape\n",
    "    X = np.c_[np.ones((m,1)),X]   #按行连接，(1,X)\n",
    "    return X\n",
    "np.random.seed(0)\n",
    "X_train, y _train = generate_samples(100)   #生成100个训练数据\n",
    "X_train = process_features(X_train)    #特征处理\n",
    "X_test,y _test = generate_samples(100)\n",
    "X_test = process_features(X__test)\n",
    "model = lib.LinearRegression()   #声明model实例\n",
    "model.fit(X_train, y _train)    #训练线性回归模型\n",
    "y _pred = model.predict(X__test)   #对测试数据预测标签\n",
    "mse = lib.mean_squared_error(y _test,y _pred)   #计算均方误差\n",
    "mser2 = lib.r2_score(y __test,y _pred)   #计算R2\n",
    "print(\"mse ={and r2={}\".format(mse, r2))  #输出\n"
   ]
  },
  {
   "cell_type": "code",
   "execution_count": null,
   "id": "b325059d",
   "metadata": {},
   "outputs": [],
   "source": [
    "\n",
    "import numpy as np\n",
    "from sklearn.model_selection import train_test_split\n",
    "from sklearn.datasets import fetch_california_housing\n",
    "from sklearn.preprocessing import StandardScaler\n",
    "import machine_learning.linear_regression.lib.linear _regression as lib\n",
    "def process_features(X):   #特征预处理\n",
    "    scaler = StandardScaler()   #特征标准化实例\n",
    "    X = scaler.fit_transform(X)  #X特征标准化.,特征组的各分量处于相同量级\n",
    "    m, n = X.shape\n",
    "    X = np.c__[np.ones((m,1)),X]  #首位1\n",
    "    return X\n",
    "housing = fetch_california_housing()  #加载数据\n",
    "X = housing.data  # X\n",
    "y = housing.target.reshape(-1,1) #y标签列向量\n",
    "X_train, X_test, y_train, y_test = train_test_split(X, y, test_size=0.2, random_state=0)X_train = process_features(X _train)\n",
    "X_test = process_features(X_test)\n",
    "model = lib.LinearRegression()  #生成实例\n",
    "model.fit(X _train, y_train)  #训练线性回归模型\n",
    "y_pred = model.predict(X_test) #测试\n",
    "mse = lib.mean_squared_error(y __test, y _pred) #计算model的均方误差\n",
    "r2 = lib.r2_score(y __test, y _pred)  #计算R2\n",
    "print(\"mse = {}and r2 = {}\".format(mse, r2))\n"
   ]
  }
 ],
 "metadata": {
  "kernelspec": {
   "display_name": "Python 3 (ipykernel)",
   "language": "python",
   "name": "python3"
  },
  "language_info": {
   "codemirror_mode": {
    "name": "ipython",
    "version": 3
   },
   "file_extension": ".py",
   "mimetype": "text/x-python",
   "name": "python",
   "nbconvert_exporter": "python",
   "pygments_lexer": "ipython3",
   "version": "3.9.7"
  }
 },
 "nbformat": 4,
 "nbformat_minor": 5
}
