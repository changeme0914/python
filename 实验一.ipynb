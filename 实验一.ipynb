{
 "cells": [
  {
   "cell_type": "code",
   "execution_count": 10,
   "id": "65d6c7b3",
   "metadata": {},
   "outputs": [
    {
     "name": "stdout",
     "output_type": "stream",
     "text": [
      "1,222,'ddd',55555,33,'se'\n",
      "[222, 'ddd', 55555, 33]\n"
     ]
    }
   ],
   "source": [
    "op_list=(eval(input()))\n",
    "print(list(op_list[1:5]))\n"
   ]
  },
  {
   "cell_type": "code",
   "execution_count": 4,
   "id": "985a4b37",
   "metadata": {},
   "outputs": [
    {
     "name": "stdout",
     "output_type": "stream",
     "text": [
      "1,222,'ddd',55555,33,'se'\n",
      "['1', '222', \"'ddd'\", '55555', '33', \"'se'\"]\n",
      "['222', \"'ddd'\", '55555', '33']\n",
      "['1', '222', \"'ddd'\", '55555', '33', \"'se'\", ['new_list1']]\n",
      "['1', '222', \"'ddd'\", '55555', '33', 'yes', \"'se'\"]\n",
      "1\n",
      "['55555', '33', '222', '1', \"'se'\", \"'ddd'\"]\n",
      "['1', '222', \"'ddd'\", '55555', '33', \"'se'\", '1', '222', \"'ddd'\", '55555', '33', \"'se'\"]\n",
      "True\n",
      "a 1\n",
      "b 222\n",
      "c 'ddd'\n"
     ]
    }
   ],
   "source": [
    "def op_list():  \n",
    "    szr=input()\n",
    "    szr=szr.split(\",\")\n",
    "    return szr[:]\n",
    "szr_4=[]\n",
    "szr_4=op_list()\n",
    "print(szr_4)\n",
    "print(szr_4[1:5])\n",
    "szr1=[]\n",
    "szr1=szr_4[:]\n",
    "szr1.append(['new_list1'])\n",
    "print(szr1)\n",
    "szr2=[]\n",
    "szr2=szr_4[:]\n",
    "szr2.insert(-1,'yes')\n",
    "print(szr2)\n",
    "print(szr_4.count('1'))\n",
    "szr3=[]\n",
    "szr3=szr_4[:]\n",
    "szr3.sort(key=str,reverse=True)\n",
    "print(szr3)\n",
    "print(szr_4*2)\n",
    "print('222' in szr_4)\n",
    "keys=['a','b','c']\n",
    "for k,v in zip(keys,szr_4):\n",
    "    print(k,v)\n",
    "    szr=[]"
   ]
  },
  {
   "cell_type": "code",
   "execution_count": 6,
   "id": "0986c864",
   "metadata": {},
   "outputs": [
    {
     "name": "stdout",
     "output_type": "stream",
     "text": [
      "[0, 3, 6, 9, 12, 15, 18, 21, 24, 27, 30, 33, 36, 39, 42, 45, 48, 51, 54, 57, 60, 63, 66, 69, 72, 75, 78, 81, 84, 87, 90, 93, 96, 99]\n"
     ]
    }
   ],
   "source": [
    "list=[]\n",
    "for x in range(0,100,3):\n",
    "    list.append(x)\n",
    "print(list)\n"
   ]
  },
  {
   "cell_type": "code",
   "execution_count": 9,
   "id": "68adf00d",
   "metadata": {},
   "outputs": [
    {
     "name": "stdout",
     "output_type": "stream",
     "text": [
      "[0, 3, 6, 9, 12, 15, 18, 21, 24, 27, 30, 33, 36, 39, 42, 45, 48, 51, 54, 57, 60, 63, 66, 69, 72, 75, 78, 81, 84, 87, 90, 93, 96, 99]\n"
     ]
    }
   ],
   "source": [
    "op_list=[]\n",
    "for x in range(100):\n",
    "    if x%3==0:\n",
    "        op_list.append(x)\n",
    "print(op_list)"
   ]
  },
  {
   "cell_type": "code",
   "execution_count": null,
   "id": "8029a3c8",
   "metadata": {},
   "outputs": [],
   "source": []
  }
 ],
 "metadata": {
  "kernelspec": {
   "display_name": "Python 3 (ipykernel)",
   "language": "python",
   "name": "python3"
  },
  "language_info": {
   "codemirror_mode": {
    "name": "ipython",
    "version": 3
   },
   "file_extension": ".py",
   "mimetype": "text/x-python",
   "name": "python",
   "nbconvert_exporter": "python",
   "pygments_lexer": "ipython3",
   "version": "3.9.7"
  }
 },
 "nbformat": 4,
 "nbformat_minor": 5
}
