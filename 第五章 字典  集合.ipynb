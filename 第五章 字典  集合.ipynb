{
 "cells": [
  {
   "cell_type": "code",
   "execution_count": 1,
   "id": "6dea5d50",
   "metadata": {},
   "outputs": [
    {
     "name": "stdout",
     "output_type": "stream",
     "text": [
      "{}\n"
     ]
    }
   ],
   "source": [
    "#通过{}创造一个字典\n",
    "data={}\n",
    "print(data)"
   ]
  },
  {
   "cell_type": "code",
   "execution_count": 2,
   "id": "5f87ccb4",
   "metadata": {},
   "outputs": [
    {
     "name": "stdout",
     "output_type": "stream",
     "text": [
      "{'red': (255, 0, 0), 'green': (0, 255, 0), 'blue': (0, 0, 255)}\n"
     ]
    }
   ],
   "source": [
    "colors={'red':(255,0,0),'green':(0,255,0),'blue':(0,0,255)}\n",
    "print(colors)"
   ]
  },
  {
   "cell_type": "code",
   "execution_count": 6,
   "id": "403d154b",
   "metadata": {},
   "outputs": [
    {
     "name": "stdout",
     "output_type": "stream",
     "text": [
      "{'a': '1', 'b': '2', 'c': '3', 'd': '4'}\n",
      "{97: 'a', 98: 'b', 99: 'c'}\n",
      "{'a': 97, 'b': 98, 'c': 99}\n"
     ]
    }
   ],
   "source": [
    "data=dict(zip('abcd','1234'))\n",
    "print(data)\n",
    "data=dict(zip(range(97,100),map(chr,range(97,100))))\n",
    "print(data)\n",
    "data=dict([('a',97),('b',98),('c',99)])\n",
    "print(data)"
   ]
  },
  {
   "cell_type": "code",
   "execution_count": 8,
   "id": "a0122c16",
   "metadata": {},
   "outputs": [
    {
     "name": "stdout",
     "output_type": "stream",
     "text": [
      "{'language': 'python', 'version': '3.8.3', 'user': '学生', 'age': 28}\n"
     ]
    }
   ],
   "source": [
    "data=dict(language='python',version='3.8.3',user='学生',age=28)\n",
    "print(data)"
   ]
  },
  {
   "cell_type": "code",
   "execution_count": 11,
   "id": "6eb6f56d",
   "metadata": {},
   "outputs": [
    {
     "name": "stdout",
     "output_type": "stream",
     "text": [
      "{'a': None, 'b': None, 'c': None, 'd': None}\n",
      "{1: None, 2: None, 3: None, 4: None}\n",
      "{'a': 111, 'b': 111, 'c': 111, 'd': 111}\n",
      "{'a': [1, 2, 3], 'b': [1, 2, 3], 'c': [1, 2, 3]}\n"
     ]
    }
   ],
   "source": [
    "#通过fromkeys（）创建字典\n",
    "data=dict()\n",
    "data=data.fromkeys('abcd')\n",
    "print(data)\n",
    "data=data.fromkeys([1,2,3,4])\n",
    "print(data)\n",
    "data=dict()\n",
    "data=data.fromkeys('abcd',111)\n",
    "print(data)\n",
    "n_list={}\n",
    "n_list=n_list.fromkeys('abc',[1,2,3])\n",
    "print(n_list)"
   ]
  },
  {
   "cell_type": "code",
   "execution_count": 16,
   "id": "3fea5ed6",
   "metadata": {},
   "outputs": [
    {
     "name": "stdout",
     "output_type": "stream",
     "text": [
      "{'a': 111, 'b': 111, 'c': 111, 'd': 111}\n",
      "{'a': [1, 2, 3], 'b': [1, 2, 3], 'c': [1, 2, 3]}\n",
      "True\n",
      "True\n",
      "{'a': '777', 'b': 111, 'c': 111, 'd': 111}\n",
      "{'a': [1, 2, 3, 4, 5], 'b': [1, 2, 3, 4, 5], 'c': [1, 2, 3, 4, 5]}\n",
      "True\n",
      "{'a': [1, 2], 'b': [1, 2, 3, 4, 5], 'c': [1, 2, 3, 4, 5]}\n",
      "False\n",
      "True\n"
     ]
    }
   ],
   "source": [
    "data=data.fromkeys('abcd',111)\n",
    "print(data)\n",
    "n_list={}\n",
    "n_list=n_list.fromkeys('abc',[1,2,3])\n",
    "print(n_list)\n",
    "print(data['a'] is data['b'])\n",
    "print(n_list['a'] is n_list['b'])\n",
    "data['a']='777'\n",
    "print(data)\n",
    "n_list['a'].extend([4,5])\n",
    "print(n_list)\n",
    "print(n_list['a'] is n_list['b'])\n",
    "n_list['a']=[1,2]\n",
    "print(n_list)\n",
    "print(n_list['a'] is n_list['b'])\n",
    "print(n_list['b'] is n_list['c'])"
   ]
  },
  {
   "cell_type": "code",
   "execution_count": 19,
   "id": "62d249c2",
   "metadata": {},
   "outputs": [
    {
     "name": "stdout",
     "output_type": "stream",
     "text": [
      "3002590995200 3002590999552\n",
      "False\n",
      "3002514958672 3002514958672\n",
      "True\n"
     ]
    }
   ],
   "source": [
    "data={'a':[1,2,3],'b':[1,2,3]}\n",
    "print(id(data['a']),id(data['b']))\n",
    "print(data['a'] is data['b'])\n",
    "data={'a':2,'b':2}\n",
    "print(id(data['a']),id(data['b']))\n",
    "print(data['a'] is data['b'])"
   ]
  },
  {
   "cell_type": "code",
   "execution_count": 20,
   "id": "76a42515",
   "metadata": {},
   "outputs": [
    {
     "name": "stdout",
     "output_type": "stream",
     "text": [
      "{97: 'a', 98: 'b', 99: 'c'}\n"
     ]
    }
   ],
   "source": [
    "data={num:chr(num)for num in range(97,100)}\n",
    "print(data)"
   ]
  },
  {
   "cell_type": "code",
   "execution_count": 22,
   "id": "2f0ceaf0",
   "metadata": {},
   "outputs": [
    {
     "name": "stdout",
     "output_type": "stream",
     "text": [
      "{97: 'a', 98: 'b', 99: 'c'}\n"
     ]
    }
   ],
   "source": [
    "data={}\n",
    "for num in range(97,100):\n",
    "    data[num]=chr(num)\n",
    "print(data)\n",
    "del(data)"
   ]
  },
  {
   "cell_type": "code",
   "execution_count": null,
   "id": "685c1a27",
   "metadata": {},
   "outputs": [],
   "source": []
  }
 ],
 "metadata": {
  "kernelspec": {
   "display_name": "Python 3 (ipykernel)",
   "language": "python",
   "name": "python3"
  },
  "language_info": {
   "codemirror_mode": {
    "name": "ipython",
    "version": 3
   },
   "file_extension": ".py",
   "mimetype": "text/x-python",
   "name": "python",
   "nbconvert_exporter": "python",
   "pygments_lexer": "ipython3",
   "version": "3.9.7"
  }
 },
 "nbformat": 4,
 "nbformat_minor": 5
}
