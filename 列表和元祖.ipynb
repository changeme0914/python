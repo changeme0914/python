{
 "cells": [
  {
   "cell_type": "code",
   "execution_count": null,
   "id": "5646b87d",
   "metadata": {},
   "outputs": [],
   "source": [
    "容器：能够包含其他对象的对象，是一种数据结构\n",
    "容器分为序列和映射\n",
    "序列（列表  元祖） 映射（字典）"
   ]
  },
  {
   "cell_type": "code",
   "execution_count": 1,
   "id": "5269140d",
   "metadata": {},
   "outputs": [
    {
     "name": "stdout",
     "output_type": "stream",
     "text": [
      "[1, 2, 3, 4]\n"
     ]
    }
   ],
   "source": [
    "#使用括号直接创建列表\n",
    "data=[1,2,3,4]\n",
    "print(data)"
   ]
  },
  {
   "cell_type": "code",
   "execution_count": 4,
   "id": "3f6ea2d1",
   "metadata": {},
   "outputs": [
    {
     "name": "stdout",
     "output_type": "stream",
     "text": [
      "['p', 'y', 't', 'h', 'o', 'n']\n",
      "[0, 1, 2, 3, 4]\n"
     ]
    }
   ],
   "source": [
    "#使用list（）内置函数\n",
    "data=\"python\"\n",
    "print(list(data))\n",
    "data=list(range(5))\n",
    "print(data)"
   ]
  },
  {
   "cell_type": "code",
   "execution_count": 5,
   "id": "c9d180cb",
   "metadata": {},
   "outputs": [
    {
     "name": "stdout",
     "output_type": "stream",
     "text": [
      "[3, 4, 1, 2, 0]\n"
     ]
    }
   ],
   "source": [
    "#使用库中的函数\n",
    "import random\n",
    "random.shuffle(data)\n",
    "print(data)"
   ]
  },
  {
   "cell_type": "code",
   "execution_count": 6,
   "id": "4115a568",
   "metadata": {},
   "outputs": [
    {
     "name": "stdout",
     "output_type": "stream",
     "text": [
      "[1, 2, 3, 4]\n"
     ]
    },
    {
     "ename": "NameError",
     "evalue": "name 'data' is not defined",
     "output_type": "error",
     "traceback": [
      "\u001b[1;31m---------------------------------------------------------------------------\u001b[0m",
      "\u001b[1;31mNameError\u001b[0m                                 Traceback (most recent call last)",
      "\u001b[1;32m~\\AppData\\Local\\Temp/ipykernel_11332/106678257.py\u001b[0m in \u001b[0;36m<module>\u001b[1;34m\u001b[0m\n\u001b[0;32m      3\u001b[0m \u001b[0mprint\u001b[0m\u001b[1;33m(\u001b[0m\u001b[0mdata\u001b[0m\u001b[1;33m)\u001b[0m\u001b[1;33m\u001b[0m\u001b[1;33m\u001b[0m\u001b[0m\n\u001b[0;32m      4\u001b[0m \u001b[1;32mdel\u001b[0m\u001b[1;33m(\u001b[0m\u001b[0mdata\u001b[0m\u001b[1;33m)\u001b[0m\u001b[1;33m\u001b[0m\u001b[1;33m\u001b[0m\u001b[0m\n\u001b[1;32m----> 5\u001b[1;33m \u001b[0mprint\u001b[0m\u001b[1;33m(\u001b[0m\u001b[0mdata\u001b[0m\u001b[1;33m)\u001b[0m\u001b[1;33m\u001b[0m\u001b[1;33m\u001b[0m\u001b[0m\n\u001b[0m",
      "\u001b[1;31mNameError\u001b[0m: name 'data' is not defined"
     ]
    }
   ],
   "source": [
    "#列表的删除\n",
    "data=[1,2,3,4]\n",
    "print(data)\n",
    "del(data)\n",
    "print(data)"
   ]
  },
  {
   "cell_type": "code",
   "execution_count": 8,
   "id": "e064ae1f",
   "metadata": {},
   "outputs": [
    {
     "name": "stdout",
     "output_type": "stream",
     "text": [
      "red\n",
      "rellow\n",
      "green\n",
      "pink\n",
      "red\n",
      "rellow\n",
      "green\n",
      "pink\n"
     ]
    }
   ],
   "source": [
    "#列表元素的使用\n",
    "list_color=['red','rellow','green','pink']\n",
    "print(list_color[0])\n",
    "print(list_color[1])\n",
    "print(list_color[2])\n",
    "print(list_color[3])\n",
    "\n",
    "print(list_color[-4])\n",
    "print(list_color[-3])\n",
    "print(list_color[-2])\n",
    "print(list_color[-1])"
   ]
  },
  {
   "cell_type": "code",
   "execution_count": 10,
   "id": "f4f7b2db",
   "metadata": {},
   "outputs": [
    {
     "name": "stdout",
     "output_type": "stream",
     "text": [
      "['purple', 'rellow', 'green', 'pink']\n"
     ]
    }
   ],
   "source": [
    "#更新 替换\n",
    "list_color=['red','rellow','green','pink']\n",
    "list_color[0]='purple'\n",
    "print(list_color)"
   ]
  },
  {
   "cell_type": "code",
   "execution_count": 12,
   "id": "01f0dbdb",
   "metadata": {},
   "outputs": [
    {
     "name": "stdout",
     "output_type": "stream",
     "text": [
      "red\n",
      "rellow\n",
      "green\n",
      "pink\n"
     ]
    }
   ],
   "source": [
    "#遍历\n",
    "list=['red','rellow','green','pink']\n",
    "for n in range(4):\n",
    "    print(list[n])"
   ]
  },
  {
   "cell_type": "code",
   "execution_count": 17,
   "id": "66a3d6b9",
   "metadata": {},
   "outputs": [
    {
     "name": "stdout",
     "output_type": "stream",
     "text": [
      "Beautiful\n",
      "Beautiful\n",
      "Bea\n",
      "lu\n",
      "Batfl\n",
      "lftaB\n"
     ]
    }
   ],
   "source": [
    "#访问一部分元素\n",
    "list=('Beautiful')\n",
    "print(list)\n",
    "print(list[:])\n",
    "print(list[:3])\n",
    "print(list[-1:-3:-1])\n",
    "print(list[::2])\n",
    "print(list[::-2])"
   ]
  },
  {
   "cell_type": "code",
   "execution_count": null,
   "id": "0d96ee16",
   "metadata": {},
   "outputs": [],
   "source": [
    "#删除一个或者一部分列表的元素\n",
    "values = list('Beautiful')\n",
    "del(list[0])\n",
    "print(values)\n",
    "del(list[:3])\n",
    "print(values)"
   ]
  },
  {
   "cell_type": "code",
   "execution_count": 21,
   "id": "5bbea228",
   "metadata": {},
   "outputs": [
    {
     "name": "stdout",
     "output_type": "stream",
     "text": [
      "[1, 2, 3, 4]\n"
     ]
    }
   ],
   "source": [
    "#增加元素在列表的末尾\n",
    "data=[1,2,3]\n",
    "data.append(4)\n",
    "print(data)"
   ]
  },
  {
   "cell_type": "code",
   "execution_count": 24,
   "id": "909ca9fe",
   "metadata": {},
   "outputs": [
    {
     "name": "stdout",
     "output_type": "stream",
     "text": [
      "[0, 1, 2, 3]\n",
      "[(1, 2), 0, 1, 2, 3]\n"
     ]
    }
   ],
   "source": [
    "#将指定对象插入列表的指定位置\n",
    "data=[1,2,3]\n",
    "data.insert(0,0)\n",
    "print(data)\n",
    "\n",
    "data.insert(0,(1,2))\n",
    "print(data)"
   ]
  },
  {
   "cell_type": "code",
   "execution_count": 25,
   "id": "38543953",
   "metadata": {},
   "outputs": [
    {
     "name": "stdout",
     "output_type": "stream",
     "text": [
      "[1, 2.5, 2, 3]\n"
     ]
    }
   ],
   "source": [
    "data=[1,2,3]\n",
    "data.insert(-2,2.5)\n",
    "print(data)"
   ]
  },
  {
   "cell_type": "code",
   "execution_count": 26,
   "id": "ba7dfe0b",
   "metadata": {},
   "outputs": [
    {
     "name": "stdout",
     "output_type": "stream",
     "text": [
      "[1, 2, 3, 6, 7]\n"
     ]
    }
   ],
   "source": [
    "#extend 用于在列表末尾一次性的追加可迭代的对象中的所有元素\n",
    "data=[1,2,3]\n",
    "data.extend((6,7))\n",
    "print(data)"
   ]
  },
  {
   "cell_type": "code",
   "execution_count": null,
   "id": "f99fdaee",
   "metadata": {},
   "outputs": [],
   "source": [
    "#pop 删除元素\n",
    "data=list('beautiful.')\n",
    "print(data)\n",
    "print(data.pop())\n",
    "print(data.pop(3))"
   ]
  },
  {
   "cell_type": "code",
   "execution_count": 30,
   "id": "e7b92e20",
   "metadata": {},
   "outputs": [
    {
     "name": "stdout",
     "output_type": "stream",
     "text": [
      "[1, 2, 3, 4, 5, (1, 2), [3, 4]]\n",
      "[2, 3, 4, 5, (1, 2), [3, 4]]\n"
     ]
    }
   ],
   "source": [
    "#删除元素常用的方法---remove\n",
    "data=[1,2,3,4,5,(1,2),[3,4]]\n",
    "print(data)\n",
    "data.remove(1)\n",
    "print(data)"
   ]
  },
  {
   "cell_type": "code",
   "execution_count": 31,
   "id": "5533f5f9",
   "metadata": {},
   "outputs": [
    {
     "name": "stdout",
     "output_type": "stream",
     "text": [
      "[]\n"
     ]
    }
   ],
   "source": [
    "#删除列表中的全部元素---clear\n",
    "data=[1,2,3,4,5,(1,2),[3,4]]\n",
    "data.clear()\n",
    "print(data)"
   ]
  },
  {
   "cell_type": "code",
   "execution_count": 32,
   "id": "3371dee0",
   "metadata": {},
   "outputs": [
    {
     "name": "stdout",
     "output_type": "stream",
     "text": [
      "3\n",
      "8\n"
     ]
    }
   ],
   "source": [
    "#count()---统计对象出现的次数 index()---从列表中找到第一个匹配项的索引位置\n",
    "list=[1,1,2,2,2,3,3,3,4,4,4]\n",
    "print(list.count(3))\n",
    "print(list.index(4))"
   ]
  },
  {
   "cell_type": "code",
   "execution_count": 34,
   "id": "303fd168",
   "metadata": {},
   "outputs": [
    {
     "name": "stdout",
     "output_type": "stream",
     "text": [
      "[5949, 5680, 6436, 6462, 8356, 2310, 5932, 8932, 1715, 8843]\n",
      "[8843, 1715, 8932, 5932, 2310, 8356, 6462, 6436, 5680, 5949]\n",
      "[1715, 2310, 5680, 5932, 5949, 6436, 6462, 8356, 8843, 8932]\n"
     ]
    }
   ],
   "source": [
    "#排序和翻转 --list.sort()--list.reverse()\n",
    "from random import sample\n",
    "data=sample(range(10000),10)\n",
    "print(data)\n",
    "data.reverse()\n",
    "print(data)\n",
    "data.sort()\n",
    "print(data)"
   ]
  },
  {
   "cell_type": "code",
   "execution_count": 35,
   "id": "6b35c0c9",
   "metadata": {},
   "outputs": [
    {
     "name": "stdout",
     "output_type": "stream",
     "text": [
      "[1, 2, 3, 4, 5, 6, 7, 8, 1, 2, 3]\n"
     ]
    }
   ],
   "source": [
    "#加法运算符\n",
    "lst=[1,2,3,4,5,6,7,8]+[1,2,3]\n",
    "print(lst)"
   ]
  },
  {
   "cell_type": "code",
   "execution_count": 37,
   "id": "c59eb18c",
   "metadata": {},
   "outputs": [
    {
     "name": "stdout",
     "output_type": "stream",
     "text": [
      "[1, 2, 3, 1, 2, 3, 1, 2, 3]\n",
      "[[1, 2, 3], [1, 2, 3], [1, 2, 3]]\n"
     ]
    }
   ],
   "source": [
    "#乘法运算符\n",
    "values=[1,2,3]*3\n",
    "print(values)\n",
    "values=[[1,2,3]]*3\n",
    "print(values)"
   ]
  },
  {
   "cell_type": "code",
   "execution_count": 38,
   "id": "15b83d8c",
   "metadata": {},
   "outputs": [
    {
     "name": "stdout",
     "output_type": "stream",
     "text": [
      "True\n",
      "False\n"
     ]
    }
   ],
   "source": [
    "#成员测试符‘in’\n",
    "values=[1,2,3,4,5]\n",
    "print(3 in values)\n",
    "print(9 in values)"
   ]
  },
  {
   "cell_type": "code",
   "execution_count": null,
   "id": "0fbb4597",
   "metadata": {},
   "outputs": [],
   "source": [
    "#推导式：是python一种独有特性 是可以从一个数据序列构建另一个新的数据序列的结构体\n",
    "#---列表推导式\n",
    "#---字典推导式\n",
    "#---集合推导式"
   ]
  },
  {
   "cell_type": "code",
   "execution_count": 39,
   "id": "4ce6146c",
   "metadata": {},
   "outputs": [
    {
     "name": "stdout",
     "output_type": "stream",
     "text": [
      "<class 'tuple'> <class 'tuple'> <class 'tuple'>\n"
     ]
    }
   ],
   "source": [
    "#元祖的创建\n",
    "tup=(1,2,3)\n",
    "tup1=(1,)\n",
    "tup2=([1,2,3],(1,))\n",
    "print(type(tup),type(tup1),type(tup2))"
   ]
  },
  {
   "cell_type": "code",
   "execution_count": 40,
   "id": "ce9d2f3d",
   "metadata": {},
   "outputs": [
    {
     "ename": "NameError",
     "evalue": "name 'tup' is not defined",
     "output_type": "error",
     "traceback": [
      "\u001b[1;31m---------------------------------------------------------------------------\u001b[0m",
      "\u001b[1;31mNameError\u001b[0m                                 Traceback (most recent call last)",
      "\u001b[1;32m~\\AppData\\Local\\Temp/ipykernel_11332/3654359762.py\u001b[0m in \u001b[0;36m<module>\u001b[1;34m\u001b[0m\n\u001b[0;32m      3\u001b[0m \u001b[1;32mdel\u001b[0m \u001b[0mtup\u001b[0m\u001b[1;33m\u001b[0m\u001b[1;33m\u001b[0m\u001b[0m\n\u001b[0;32m      4\u001b[0m \u001b[1;32mdel\u001b[0m \u001b[0mtup1\u001b[0m\u001b[1;33m\u001b[0m\u001b[1;33m\u001b[0m\u001b[0m\n\u001b[1;32m----> 5\u001b[1;33m \u001b[0mprint\u001b[0m\u001b[1;33m(\u001b[0m\u001b[0mtup\u001b[0m\u001b[1;33m,\u001b[0m\u001b[0mtup1\u001b[0m\u001b[1;33m)\u001b[0m\u001b[1;33m\u001b[0m\u001b[1;33m\u001b[0m\u001b[0m\n\u001b[0m",
      "\u001b[1;31mNameError\u001b[0m: name 'tup' is not defined"
     ]
    }
   ],
   "source": [
    "#元祖的删除\n",
    "tup=(1,2,3)\n",
    "tup1=(1,)\n",
    "del tup\n",
    "del tup1\n",
    "print(tup,tup1)"
   ]
  },
  {
   "cell_type": "code",
   "execution_count": 42,
   "id": "e744b00d",
   "metadata": {},
   "outputs": [
    {
     "name": "stdout",
     "output_type": "stream",
     "text": [
      "(0, 1, 4, 9, 16, 25, 36, 49, 64, 81)\n"
     ]
    }
   ],
   "source": [
    "#生成器表达式\n",
    "g_use=(i**2 for i in range(10))\n",
    "print(tuple(g_use))"
   ]
  },
  {
   "cell_type": "code",
   "execution_count": 45,
   "id": "9b977d69",
   "metadata": {},
   "outputs": [
    {
     "name": "stdout",
     "output_type": "stream",
     "text": [
      "[0, 1, 4, 9, 16, 25, 36, 49, 64, 81]\n"
     ]
    }
   ],
   "source": [
    "g=[]\n",
    "for i in range(10):\n",
    "    g.append(i**2)\n",
    "print(g)  #生成器只能使用一次\n"
   ]
  },
  {
   "cell_type": "code",
   "execution_count": null,
   "id": "b18e4afe",
   "metadata": {},
   "outputs": [],
   "source": []
  }
 ],
 "metadata": {
  "kernelspec": {
   "display_name": "Python 3 (ipykernel)",
   "language": "python",
   "name": "python3"
  },
  "language_info": {
   "codemirror_mode": {
    "name": "ipython",
    "version": 3
   },
   "file_extension": ".py",
   "mimetype": "text/x-python",
   "name": "python",
   "nbconvert_exporter": "python",
   "pygments_lexer": "ipython3",
   "version": "3.9.7"
  }
 },
 "nbformat": 4,
 "nbformat_minor": 5
}
