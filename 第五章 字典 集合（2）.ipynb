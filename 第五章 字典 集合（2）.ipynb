{
 "cells": [
  {
   "cell_type": "code",
   "execution_count": 4,
   "id": "c1586522",
   "metadata": {},
   "outputs": [
    {
     "name": "stdout",
     "output_type": "stream",
     "text": [
      "{'language': 'python', 'version': '3.8.3', 'user': '学生', 'age': 28}\n",
      "28\n",
      "{'language': 'python', 'version': '3.8.3', 'user': '学生', 'age': 42}\n",
      "{'language': 'python', 'version': '3.8.3', 'user': '学生', 'age': 42, '班级': '计数'}\n"
     ]
    }
   ],
   "source": [
    "#通过下标的形式访问元素\n",
    "data=dict(language='python',version='3.8.3',user='学生',age=28)\n",
    "print(data)\n",
    "print(data['age'])\n",
    "data['age']=42\n",
    "print(data)\n",
    "\n",
    "#通过下标添加元素\n",
    "data['班级']='计数'\n",
    "print(data)"
   ]
  },
  {
   "cell_type": "code",
   "execution_count": 5,
   "id": "70086758",
   "metadata": {},
   "outputs": [
    {
     "name": "stdout",
     "output_type": "stream",
     "text": [
      "{'language': 'python', 'version': '3.8.3', 'user': '学生', 'age': 28}\n",
      "28\n",
      "None\n"
     ]
    }
   ],
   "source": [
    "#通过常用方法get（）来访问\n",
    "data=dict(language='python',version='3.8.3',user='学生',age=28)\n",
    "print(data)\n",
    "print(data.get('age'))\n",
    "print(data.get('sss'))"
   ]
  },
  {
   "cell_type": "code",
   "execution_count": 9,
   "id": "4edfbfed",
   "metadata": {},
   "outputs": [
    {
     "name": "stdout",
     "output_type": "stream",
     "text": [
      "{'language': 'python', 'version': '3.8.3', 'user': '学生', 'age': 28}\n",
      "28\n",
      "None\n",
      "{'language': 'python', 'version': '3.8.3', 'user': '学生', 'age': 28, 'sss': None}\n",
      "new\n",
      "{'language': 'python', 'version': '3.8.3', 'user': '学生', 'age': 28, 'sss': None, 'n_data': 'new'}\n"
     ]
    }
   ],
   "source": [
    "#通过常用方法setdefault（）来访问和添加元素\n",
    "data=dict(language='python',version='3.8.3',user='学生',age=28)\n",
    "print(data)\n",
    "print(data.setdefault('age'))\n",
    "print(data.setdefault('sss'))\n",
    "print(data)\n",
    "print(data.setdefault('n_data','new'))\n",
    "print(data)"
   ]
  },
  {
   "cell_type": "code",
   "execution_count": 12,
   "id": "6155207e",
   "metadata": {},
   "outputs": [
    {
     "name": "stdout",
     "output_type": "stream",
     "text": [
      "{'host': '127.0.0.1', 'port': 8080, 'scheme': 'HTTP'}\n",
      "{'host': '127.0.0.1', 'port': 443, 'scheme': 'HTTPS'}\n",
      "{'host': '0.0.0.0', 'port': 80, 'scheme': 'HTTPS'}\n"
     ]
    }
   ],
   "source": [
    "#(4)通过update（）向一个字典中添加另一个字典\n",
    "data={'host':'127.0.0.1','port':80}\n",
    "data.update({'port':8080,'scheme':'HTTP'})\n",
    "print(data)\n",
    "\n",
    "data.update(scheme='HTTPS',port=443)\n",
    "print(data)\n",
    "\n",
    "data.update([('host','0.0.0.0'),('port',80)])\n",
    "print(data)"
   ]
  },
  {
   "cell_type": "code",
   "execution_count": 15,
   "id": "27bd4e8c",
   "metadata": {},
   "outputs": [
    {
     "name": "stdout",
     "output_type": "stream",
     "text": [
      "language\n",
      "version\n",
      "user\n",
      "age\n",
      "('language', 'python')\n",
      "('version', '3.8.3')\n",
      "('user', '学生')\n",
      "('age', 28)\n",
      "python\n",
      "3.8.3\n",
      "学生\n",
      "28\n",
      "['language', 'version', 'user', 'age']\n",
      "['language', 'version', 'user', 'age']\n",
      "(('language', 'python'), ('version', '3.8.3'), ('user', '学生'), ('age', 28))\n"
     ]
    }
   ],
   "source": [
    "#字典的遍历\n",
    "data=dict(language='python',version='3.8.3',user='学生',age=28)\n",
    "for key in data:\n",
    "    print(key)\n",
    "for items in data.items():\n",
    "    print(items)\n",
    "for values in data.values():\n",
    "    print(values)\n",
    "print(list(data))\n",
    "print(list(data.keys()))\n",
    "print(tuple(data.items()))"
   ]
  },
  {
   "cell_type": "code",
   "execution_count": 16,
   "id": "dd4370b0",
   "metadata": {},
   "outputs": [
    {
     "name": "stdout",
     "output_type": "stream",
     "text": [
      "python\n",
      "{'version': '3.8.3', 'user': '学生', 'age': 28}\n"
     ]
    }
   ],
   "source": [
    "#字典的删除\n",
    "#（1）.通过pop（）方法删除\n",
    "data=dict(language='python',version='3.8.3',user='学生',age=28)\n",
    "print(data.pop('language'))\n",
    "print(data)"
   ]
  },
  {
   "cell_type": "code",
   "execution_count": 17,
   "id": "975c2ac1",
   "metadata": {},
   "outputs": [
    {
     "name": "stdout",
     "output_type": "stream",
     "text": [
      "('age', 28)\n",
      "{'language': 'python', 'version': '3.8.3', 'user': '学生'}\n",
      "('user', '学生')\n",
      "{'language': 'python', 'version': '3.8.3'}\n"
     ]
    }
   ],
   "source": [
    "#(2).通过popitem（）方法删除--后进先出的顺序删除元素\n",
    "data=dict(language='python',version='3.8.3',user='学生',age=28)\n",
    "print(data.popitem())\n",
    "print(data)\n",
    "print(data.popitem())\n",
    "print(data)"
   ]
  },
  {
   "cell_type": "code",
   "execution_count": 18,
   "id": "75795b93",
   "metadata": {},
   "outputs": [
    {
     "name": "stdout",
     "output_type": "stream",
     "text": [
      "{}\n"
     ]
    }
   ],
   "source": [
    "#（3）通过clear（）删除全部元素\n",
    "data=dict(language='python',version='3.8.3',user='学生',age=28)\n",
    "data.clear()\n",
    "print(data)"
   ]
  },
  {
   "cell_type": "code",
   "execution_count": 19,
   "id": "18356577",
   "metadata": {},
   "outputs": [
    {
     "name": "stdout",
     "output_type": "stream",
     "text": [
      "{'c': 3, 'd': 4}\n",
      "{'a': 1, 'b': 2}\n",
      "False\n"
     ]
    }
   ],
   "source": [
    "#支持逻辑运算符\n",
    "data1=dict(a=1,b=2)\n",
    "data2=dict(c=3,d=4)\n",
    "print(data1 and data2)\n",
    "print(data1 or data2)\n",
    "print(not data1)"
   ]
  },
  {
   "cell_type": "code",
   "execution_count": 23,
   "id": "b103e46f",
   "metadata": {},
   "outputs": [
    {
     "name": "stdout",
     "output_type": "stream",
     "text": [
      "False\n",
      "True\n",
      "dict_keys(['a', 'b'])\n",
      "dict_items([('a', 1), ('b', 2)])\n",
      "{'b', 'c', 'a', 'd'}\n",
      "set()\n",
      "{'b', 'a'}\n"
     ]
    }
   ],
   "source": [
    "data1=dict(a=1,b=2)\n",
    "data2=dict(c=3,d=4)\n",
    "print(data1==data2)\n",
    "print(data1!=data2)\n",
    "\n",
    "print(data1.keys())\n",
    "print(data1.items())\n",
    "\n",
    "#交集并集差集\n",
    "print(data1.keys()|data2.keys())\n",
    "print(data1.keys()&data2.keys())\n",
    "print(data1.keys()-data2.keys())"
   ]
  },
  {
   "cell_type": "code",
   "execution_count": 24,
   "id": "31e5e34f",
   "metadata": {},
   "outputs": [
    {
     "name": "stdout",
     "output_type": "stream",
     "text": [
      "False\n",
      "False\n",
      "False\n"
     ]
    }
   ],
   "source": [
    "#(3)支持成员测试符号\n",
    "data1=dict(a=1,b=2)\n",
    "data2=dict(c=3,d=4)\n",
    "\n",
    "print('a'in data2)\n",
    "print(1 in data2.values())\n",
    "print(('a',1)in data2.items())\n"
   ]
  },
  {
   "cell_type": "code",
   "execution_count": 26,
   "id": "f69a865d",
   "metadata": {},
   "outputs": [
    {
     "name": "stdout",
     "output_type": "stream",
     "text": [
      "{'pink', 'green', 'red', 'yellow'}\n",
      "{0, 1, 2, 3, 4}\n",
      "{1, 2, 3, 4, 5}\n"
     ]
    }
   ],
   "source": [
    "#集合的创建\n",
    "data={'green','red','pink','yellow'}\n",
    "print(data)\n",
    "#用set（）创建一个集合\n",
    "data=set(range(5))\n",
    "print(data)\n",
    "data=set([1,2,3,4,5,1,2])\n",
    "print(data)"
   ]
  },
  {
   "cell_type": "code",
   "execution_count": 32,
   "id": "a048fd32",
   "metadata": {},
   "outputs": [
    {
     "name": "stdout",
     "output_type": "stream",
     "text": [
      "{1, 2, 5}\n",
      "<class 'set'>\n",
      "{1, 3, 5}\n"
     ]
    },
    {
     "ename": "NameError",
     "evalue": "name 'data' is not defined",
     "output_type": "error",
     "traceback": [
      "\u001b[1;31m---------------------------------------------------------------------------\u001b[0m",
      "\u001b[1;31mNameError\u001b[0m                                 Traceback (most recent call last)",
      "\u001b[1;32m~\\AppData\\Local\\Temp/ipykernel_18812/2645845653.py\u001b[0m in \u001b[0;36m<module>\u001b[1;34m\u001b[0m\n\u001b[0;32m     11\u001b[0m \u001b[1;33m\u001b[0m\u001b[0m\n\u001b[0;32m     12\u001b[0m \u001b[1;32mdel\u001b[0m\u001b[1;33m(\u001b[0m\u001b[0mdata\u001b[0m\u001b[1;33m)\u001b[0m\u001b[1;33m\u001b[0m\u001b[1;33m\u001b[0m\u001b[0m\n\u001b[1;32m---> 13\u001b[1;33m \u001b[0mprint\u001b[0m\u001b[1;33m(\u001b[0m\u001b[0mdata\u001b[0m\u001b[1;33m)\u001b[0m\u001b[1;33m\u001b[0m\u001b[1;33m\u001b[0m\u001b[0m\n\u001b[0m",
      "\u001b[1;31mNameError\u001b[0m: name 'data' is not defined"
     ]
    }
   ],
   "source": [
    "#（3）集合推导式\n",
    "data={x+1 for x in range(5) if x&2==0}\n",
    "print(data)\n",
    "\n",
    "data=set()\n",
    "print(type(data))\n",
    "for x in range(5):\n",
    "    if(x%2==0):\n",
    "        data.update({x+1})\n",
    "print(data)\n",
    "\n",
    "del(data)\n",
    "print(data)"
   ]
  },
  {
   "cell_type": "code",
   "execution_count": 34,
   "id": "389290a5",
   "metadata": {},
   "outputs": [
    {
     "name": "stdout",
     "output_type": "stream",
     "text": [
      "{97, 98, 99, 100}\n",
      "{97, 98, 99, 100, 101}\n",
      "{97, 98, 99, 100, 101, 102}\n"
     ]
    }
   ],
   "source": [
    "#增加集合中的元素add() update()\n",
    "data={97,98,99,100}\n",
    "print(data)\n",
    "data.add(101)\n",
    "print(data)\n",
    "data.update([97,100],[98,99,102])\n",
    "print(data)"
   ]
  },
  {
   "cell_type": "code",
   "execution_count": 37,
   "id": "e2739f3a",
   "metadata": {},
   "outputs": [
    {
     "name": "stdout",
     "output_type": "stream",
     "text": [
      "{97, 98, 100}\n"
     ]
    }
   ],
   "source": [
    "#修改集合中的元素\n",
    "data={97,98,99,100}\n",
    "data.difference_update([99])\n",
    "print(data)"
   ]
  },
  {
   "cell_type": "code",
   "execution_count": 38,
   "id": "db3d150c",
   "metadata": {},
   "outputs": [
    {
     "name": "stdout",
     "output_type": "stream",
     "text": [
      "{97, 98, 99, 100, 1, 2, 3, 4}\n"
     ]
    }
   ],
   "source": [
    "data={97,98,99,100}\n",
    "data.symmetric_difference_update({1,2,3,4})\n",
    "print(data)"
   ]
  },
  {
   "cell_type": "code",
   "execution_count": 39,
   "id": "9c0f2e11",
   "metadata": {},
   "outputs": [
    {
     "name": "stdout",
     "output_type": "stream",
     "text": [
      "97\n",
      "{98, 99, 100}\n"
     ]
    }
   ],
   "source": [
    "#删除集合中的元素\n",
    "data={97,98,99,100}\n",
    "print(data.pop())\n",
    "print(data)"
   ]
  },
  {
   "cell_type": "code",
   "execution_count": 40,
   "id": "f5a35c1c",
   "metadata": {},
   "outputs": [
    {
     "name": "stdout",
     "output_type": "stream",
     "text": [
      "{98, 99, 100}\n"
     ]
    }
   ],
   "source": [
    "data={97,98,99,100}\n",
    "data.remove(97)\n",
    "print(data)"
   ]
  },
  {
   "cell_type": "code",
   "execution_count": 41,
   "id": "41bb6655",
   "metadata": {},
   "outputs": [
    {
     "name": "stdout",
     "output_type": "stream",
     "text": [
      "set()\n"
     ]
    }
   ],
   "source": [
    "data={97,98,99,100}\n",
    "data.clear()\n",
    "print(data)"
   ]
  },
  {
   "cell_type": "code",
   "execution_count": 43,
   "id": "bf9eb4cf",
   "metadata": {},
   "outputs": [
    {
     "name": "stdout",
     "output_type": "stream",
     "text": [
      "{2, 3, 4, 5}\n",
      "{1, 2, 3, 4, 5, 6}\n",
      "{1}\n",
      "{1, 6}\n"
     ]
    }
   ],
   "source": [
    "#交集 并集 差集 对称差集\n",
    "data1={1,2,3,4,5}\n",
    "data2={2,3,4,5,6}\n",
    "print(data1 & data2)\n",
    "print(data1 | data2)\n",
    "print(data1 - data2)\n",
    "print(data1 ^ data2)"
   ]
  },
  {
   "cell_type": "code",
   "execution_count": 44,
   "id": "4c4262df",
   "metadata": {},
   "outputs": [
    {
     "name": "stdout",
     "output_type": "stream",
     "text": [
      "False\n",
      "True\n"
     ]
    }
   ],
   "source": [
    "#关系运算符\n",
    "data1={1,2,3,4,5}\n",
    "data2={2,3,4,5,6}\n",
    "print(data1==data2)\n",
    "print(data1!=data2)"
   ]
  },
  {
   "cell_type": "code",
   "execution_count": null,
   "id": "15fcd99f",
   "metadata": {},
   "outputs": [],
   "source": []
  }
 ],
 "metadata": {
  "kernelspec": {
   "display_name": "Python 3 (ipykernel)",
   "language": "python",
   "name": "python3"
  },
  "language_info": {
   "codemirror_mode": {
    "name": "ipython",
    "version": 3
   },
   "file_extension": ".py",
   "mimetype": "text/x-python",
   "name": "python",
   "nbconvert_exporter": "python",
   "pygments_lexer": "ipython3",
   "version": "3.9.7"
  }
 },
 "nbformat": 4,
 "nbformat_minor": 5
}
