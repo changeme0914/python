{
 "cells": [
  {
   "cell_type": "code",
   "execution_count": 1,
   "id": "20961f92",
   "metadata": {},
   "outputs": [
    {
     "name": "stdout",
     "output_type": "stream",
     "text": [
      "输入方形的长为:2\n",
      "输入方形的宽为:3\n",
      "该方形为长方形\n"
     ]
    }
   ],
   "source": [
    "def szr(a,b):\n",
    "    if a<=0 or b<=0:\n",
    "        print('长度不合法')\n",
    "    elif a==b:\n",
    "        print('该方形为正方形')\n",
    "    else:\n",
    "        print('该方形为长方形')\n",
    "long=eval(input('输入方形的长为:'))\n",
    "wide=eval(input('输入方形的宽为:'))\n",
    "szr(long,wide)\n"
   ]
  },
  {
   "cell_type": "code",
   "execution_count": 2,
   "id": "2ab7b9cf",
   "metadata": {},
   "outputs": [
    {
     "name": "stdout",
     "output_type": "stream",
     "text": [
      "输入方形的长为:2\n",
      "输入方形的宽为:2\n",
      "该方形为正方形\n"
     ]
    }
   ],
   "source": [
    "def szr(a,b):\n",
    "    if a<=0 or b<=0:\n",
    "        print('长度不合法')\n",
    "    elif a==b:\n",
    "        print('该方形为正方形')\n",
    "    else:\n",
    "        print('该方形为长方形')\n",
    "long=eval(input('输入方形的长为:'))\n",
    "wide=eval(input('输入方形的宽为:'))\n",
    "szr(long,wide)\n"
   ]
  },
  {
   "cell_type": "code",
   "execution_count": 3,
   "id": "b751d18e",
   "metadata": {},
   "outputs": [
    {
     "name": "stdout",
     "output_type": "stream",
     "text": [
      "输入方形的长为:-1\n",
      "输入方形的宽为:-2\n",
      "长度不合法\n"
     ]
    }
   ],
   "source": [
    "def szr(a,b):\n",
    "    if a<=0 or b<=0:\n",
    "        print('长度不合法')\n",
    "    elif a==b:\n",
    "        print('该方形为正方形')\n",
    "    else:\n",
    "        print('该方形为长方形')\n",
    "long=eval(input('输入方形的长为:'))\n",
    "wide=eval(input('输入方形的宽为:'))\n",
    "szr(long,wide)\n"
   ]
  },
  {
   "cell_type": "code",
   "execution_count": 4,
   "id": "72575d22",
   "metadata": {},
   "outputs": [
    {
     "name": "stdout",
     "output_type": "stream",
     "text": [
      "1 × 1 = 1\t \n",
      "2 × 1 = 2\t2 × 2 = 4\t \n",
      "3 × 1 = 3\t3 × 2 = 6\t3 × 3 = 9\t \n",
      "4 × 1 = 4\t4 × 2 = 8\t4 × 3 = 12\t4 × 4 = 16\t \n",
      "5 × 1 = 5\t5 × 2 = 10\t5 × 3 = 15\t5 × 4 = 20\t5 × 5 = 25\t \n",
      "6 × 1 = 6\t6 × 2 = 12\t6 × 3 = 18\t6 × 4 = 24\t6 × 5 = 30\t6 × 6 = 36\t \n",
      "7 × 1 = 7\t7 × 2 = 14\t7 × 3 = 21\t7 × 4 = 28\t7 × 5 = 35\t7 × 6 = 42\t7 × 7 = 49\t \n",
      "8 × 1 = 8\t8 × 2 = 16\t8 × 3 = 24\t8 × 4 = 32\t8 × 5 = 40\t8 × 6 = 48\t8 × 7 = 56\t8 × 8 = 64\t \n",
      "9 × 1 = 9\t9 × 2 = 18\t9 × 3 = 27\t9 × 4 = 36\t9 × 5 = 45\t9 × 6 = 54\t9 × 7 = 63\t9 × 8 = 72\t9 × 9 = 81\t \n"
     ]
    }
   ],
   "source": [
    "for x in range(1,10):\n",
    "    for y in range(1,x+1):\n",
    "        print(x,\"×\",y,\"=\",x * y,end=\"\\t\")\n",
    "    print(\" \")\n"
   ]
  },
  {
   "cell_type": "code",
   "execution_count": 5,
   "id": "10da19dd",
   "metadata": {},
   "outputs": [
    {
     "name": "stdout",
     "output_type": "stream",
     "text": [
      "64\n",
      "请输入一个1~100的数字：11\n",
      "输入的数字小了！\n",
      "请重新输入一个比原来数字小，且大于等于1的数字：99\n",
      "输入的数字大了！\n",
      "请重新输入一个比原来数字小，且小于等于100的数字：101\n",
      "你输入的数字超范围了！\n",
      "请重新输入一个1~100的数字：64\n",
      "恭喜你，答对了~\n"
     ]
    }
   ],
   "source": [
    "from random import randint\n",
    "guess_number = randint(1,100)\n",
    "print(guess_number)\n",
    "in_number = eval(input('请输入一个1~100的数字：'))\n",
    "while in_number != guess_number:\n",
    "    if in_number > guess_number and in_number <=100:\n",
    "        print('输入的数字大了！')\n",
    "        in_number=eval(input('请重新输入一个比原来数字小，且小于等于100的数字：'))\n",
    "    elif in_number < guess_number and in_number >=1:\n",
    "        print('输入的数字小了！')\n",
    "        in_number=eval(input('请重新输入一个比原来数字小，且大于等于1的数字：'))\n",
    "    else:\n",
    "        print('你输入的数字超范围了！')\n",
    "        in_number=eval(input('请重新输入一个1~100的数字：'))\n",
    "else:\n",
    "    print('恭喜你，答对了~')\n"
   ]
  },
  {
   "cell_type": "code",
   "execution_count": 9,
   "id": "fac6a5ef",
   "metadata": {},
   "outputs": [
    {
     "name": "stdout",
     "output_type": "stream",
     "text": [
      "请输入银行密码:124\n",
      "密码错误\n",
      "请输入银行密码:235\n",
      "密码错误\n",
      "请输入银行密码:145\n",
      "账户锁定\n"
     ]
    }
   ],
   "source": [
    "for i in range(1,4):\n",
    "    mim = eval(input('请输入银行密码:'))\n",
    "    if i==3 and mim != 123:\n",
    "        print(\"账户锁定\")\n",
    "    else:\n",
    "        if mim != 123:\n",
    "            print(\"密码错误\")\n",
    "        else:\n",
    "            print(\"密码正确\")\n",
    "            break\n",
    "\n"
   ]
  },
  {
   "cell_type": "code",
   "execution_count": 10,
   "id": "6bad8c77",
   "metadata": {},
   "outputs": [
    {
     "name": "stdout",
     "output_type": "stream",
     "text": [
      "请输入银行密码:123\n",
      "密码正确\n"
     ]
    }
   ],
   "source": [
    "for i in range(1,4):\n",
    "    mim = eval(input('请输入银行密码:'))\n",
    "    if i==3 and mim != 123:\n",
    "        print(\"账户锁定\")\n",
    "    else:\n",
    "        if mim != 123:\n",
    "            print(\"密码错误\")\n",
    "        else:\n",
    "            print(\"密码正确\")\n",
    "            break\n"
   ]
  },
  {
   "cell_type": "code",
   "execution_count": null,
   "id": "ba2ef444",
   "metadata": {},
   "outputs": [],
   "source": []
  }
 ],
 "metadata": {
  "kernelspec": {
   "display_name": "Python 3 (ipykernel)",
   "language": "python",
   "name": "python3"
  },
  "language_info": {
   "codemirror_mode": {
    "name": "ipython",
    "version": 3
   },
   "file_extension": ".py",
   "mimetype": "text/x-python",
   "name": "python",
   "nbconvert_exporter": "python",
   "pygments_lexer": "ipython3",
   "version": "3.9.7"
  }
 },
 "nbformat": 4,
 "nbformat_minor": 5
}
