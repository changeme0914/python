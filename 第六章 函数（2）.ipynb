{
 "cells": [
  {
   "cell_type": "code",
   "execution_count": 1,
   "id": "04281d41",
   "metadata": {},
   "outputs": [
    {
     "name": "stdout",
     "output_type": "stream",
     "text": [
      "请输入字符串：[[1,2,3,4],[4,5],[5,6,7]]\n",
      "False\n",
      "请输入字符串1：[[1,2,3,4],[4,5],[5,6,7]]\n",
      "请输入字符串2：[[1,2,3,4],[4,5],[5,6,7]]\n",
      "[[1, 2, 3, 4], [4, 5], [5, 6, 7]]\n",
      "37\n"
     ]
    }
   ],
   "source": [
    "\n",
    "def pd(x):\n",
    "    c=0\n",
    "    for i in range(len(x)):\n",
    "        if(x[i]==x[-1-i]):\n",
    "            c=c+1\n",
    "    if(c==len(x)):\n",
    "        return True\n",
    "    else:\n",
    "        return False\n",
    "a=input(\"请输入字符串：\")\n",
    "print(pd(a))\n",
    "            \n",
    "in_list1 = eval(input(\"请输入字符串1：\"))\n",
    "in_list2 = eval(input(\"请输入字符串2：\"))\n",
    "new_list = map(lambda x,y:max(x,y), in_list1, in_list2)\n",
    "print(list(new_list))\n",
    "\n",
    "a=[[1,2,3,4],[4,5],[5,6,7]]\n",
    "def dg(a):\n",
    "    b=0\n",
    "    for i in a:\n",
    "        if type(i)!=type([]):\n",
    "            b=b+i\n",
    "        else:\n",
    "            b=dg(i)+b  \n",
    "    return b\n",
    "print(dg(a)) "
   ]
  },
  {
   "cell_type": "code",
   "execution_count": null,
   "id": "f308d746",
   "metadata": {},
   "outputs": [],
   "source": []
  }
 ],
 "metadata": {
  "kernelspec": {
   "display_name": "Python 3 (ipykernel)",
   "language": "python",
   "name": "python3"
  },
  "language_info": {
   "codemirror_mode": {
    "name": "ipython",
    "version": 3
   },
   "file_extension": ".py",
   "mimetype": "text/x-python",
   "name": "python",
   "nbconvert_exporter": "python",
   "pygments_lexer": "ipython3",
   "version": "3.9.7"
  }
 },
 "nbformat": 4,
 "nbformat_minor": 5
}
