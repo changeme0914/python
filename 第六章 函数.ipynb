{
 "cells": [
  {
   "cell_type": "code",
   "execution_count": 2,
   "id": "31836485",
   "metadata": {},
   "outputs": [
    {
     "name": "stdout",
     "output_type": "stream",
     "text": [
      "[(3, True), (-3, True), (0.1, True), (1e-09, True), (0, False), ('', False), (' ', True), ([], False), ({}, False), ('a', True), ([0], True), (range(0, 0), False), ({0}, True), (5j, True)]\n"
     ]
    }
   ],
   "source": [
    "#条件表达式\n",
    "values=[3,-3,0.1,1e-9,0,'',' ',[],{},'a',[0],range(0),{0},5j]\n",
    "equi=list(zip(values,map(bool,values)))\n",
    "print(equi)"
   ]
  },
  {
   "cell_type": "code",
   "execution_count": 6,
   "id": "a2c0cfdc",
   "metadata": {},
   "outputs": [
    {
     "name": "stdout",
     "output_type": "stream",
     "text": [
      "方徐鬣\n"
     ]
    }
   ],
   "source": [
    "#单分支选择结构\n",
    "from random import choice,random\n",
    "name=choice('方乐')\n",
    "if random()>0.5:\n",
    "    name+=choice('徐斌')\n",
    "name+=choice('猪刚鬣')\n",
    "print(name)\n"
   ]
  },
  {
   "cell_type": "code",
   "execution_count": 8,
   "id": "de2dcfa0",
   "metadata": {},
   "outputs": [
    {
     "name": "stdout",
     "output_type": "stream",
     "text": [
      "87\n",
      "man\n"
     ]
    }
   ],
   "source": [
    "#双分支选择结构\n",
    "from random import choice\n",
    "num=choice(range(0,100))\n",
    "print(num)\n",
    "if num>51:\n",
    "    sex='man'\n",
    "else:\n",
    "    sex='woman'\n",
    "print(sex)"
   ]
  },
  {
   "cell_type": "code",
   "execution_count": 9,
   "id": "ab85491d",
   "metadata": {},
   "outputs": [
    {
     "name": "stdout",
     "output_type": "stream",
     "text": [
      "请输入成绩：80\n",
      "B\n"
     ]
    }
   ],
   "source": [
    "#嵌套选择结构\n",
    "score=eval(input('请输入成绩：'))\n",
    "if score>=90 and score<=100:\n",
    "    leval='A'\n",
    "    print(leval)\n",
    "elif score>=80 and score<90:\n",
    "    leval='B'\n",
    "    print(leval)\n",
    "elif score>=70 and score<80:\n",
    "    leval='C'\n",
    "    print(leval)\n",
    "elif score>=60 and score<70:\n",
    "    leval='D'\n",
    "    print(leval)\n",
    "elif score>=0 and score<60:\n",
    "    leval='E'\n",
    "    print(leval)\n",
    "else:\n",
    "    print('输入错误请重新输入！')"
   ]
  },
  {
   "cell_type": "code",
   "execution_count": 13,
   "id": "3216d76a",
   "metadata": {},
   "outputs": [
    {
     "name": "stdout",
     "output_type": "stream",
     "text": [
      "请输入一个整数列表:[1,2,3,4,5,6]\n",
      "平均成绩是： 3.5\n",
      "4\n",
      "5\n",
      "6\n"
     ]
    }
   ],
   "source": [
    "#for循环结构\n",
    "in_lst=eval(input('请输入一个整数列表:'))\n",
    "len_lst=len(in_lst)\n",
    "aver_lst=sum(in_lst)/len_lst\n",
    "print('平均成绩是：',aver_lst)\n",
    "for items in in_lst:\n",
    "    if items>=aver_lst:\n",
    "        print(items)\n",
    "        \n",
    "    "
   ]
  },
  {
   "cell_type": "code",
   "execution_count": 14,
   "id": "ab869b0a",
   "metadata": {},
   "outputs": [
    {
     "name": "stdout",
     "output_type": "stream",
     "text": [
      "次数\n",
      "次数\n",
      "次数\n",
      "次数\n",
      "次数\n"
     ]
    }
   ],
   "source": [
    "for _ in range(5):\n",
    "    print('次数')"
   ]
  },
  {
   "cell_type": "code",
   "execution_count": 16,
   "id": "7723dfa4",
   "metadata": {},
   "outputs": [
    {
     "name": "stdout",
     "output_type": "stream",
     "text": [
      "20\n",
      "请输入一个1-100的数字：10\n",
      "输入的数字小了！\n",
      "请重新输入一个1-100的数字：50\n",
      "输入的数字大了！\n",
      "请重新输入一个1-100的数字：101\n",
      "输入错误请重新输入！\n",
      "请重新输入一个1-100的数字：20\n",
      "恭喜你答对了\n"
     ]
    }
   ],
   "source": [
    "#while 循环结构\n",
    "from random import randint\n",
    "guess_number=randint(1,100)\n",
    "print(guess_number)\n",
    "\n",
    "in_number=eval(input('请输入一个1-100的数字：'))\n",
    "while in_number != guess_number:\n",
    "    if(in_number>guess_number and in_number<=100):\n",
    "        print('输入的数字大了！')\n",
    "        in_number = eval(input('请重新输入一个1-100的数字：'))\n",
    "    elif(in_number<guess_number and in_number>=1):\n",
    "        print('输入的数字小了！')\n",
    "        in_number = eval(input('请重新输入一个1-100的数字：'))\n",
    "    else:\n",
    "        print('输入错误请重新输入！')\n",
    "        in_number = eval(input('请重新输入一个1-100的数字：'))\n",
    "else:\n",
    "    print('恭喜你答对了！')\n"
   ]
  },
  {
   "cell_type": "code",
   "execution_count": 17,
   "id": "f26ce4ba",
   "metadata": {},
   "outputs": [
    {
     "name": "stdout",
     "output_type": "stream",
     "text": [
      "1\n",
      "2\n",
      "3\n",
      "5\n",
      "7\n",
      "11\n",
      "13\n",
      "17\n",
      "19\n",
      "23\n",
      "29\n",
      "31\n",
      "37\n",
      "41\n",
      "43\n",
      "47\n",
      "53\n",
      "59\n",
      "61\n",
      "67\n",
      "71\n",
      "73\n",
      "79\n",
      "83\n",
      "89\n",
      "97\n",
      "101\n",
      "103\n",
      "107\n",
      "109\n",
      "113\n",
      "127\n",
      "131\n",
      "137\n",
      "139\n",
      "149\n",
      "151\n",
      "157\n",
      "163\n",
      "167\n",
      "173\n",
      "179\n",
      "181\n",
      "191\n",
      "193\n",
      "197\n",
      "199\n"
     ]
    }
   ],
   "source": [
    "#break语句\n",
    "for ran in range(1,200):\n",
    "    for i in range(2,ran):\n",
    "        if ran%i==0:\n",
    "            break;\n",
    "    else:\n",
    "        print(ran)\n",
    "    \n"
   ]
  },
  {
   "cell_type": "code",
   "execution_count": 22,
   "id": "d8dc729c",
   "metadata": {},
   "outputs": [
    {
     "name": "stdout",
     "output_type": "stream",
     "text": [
      "Welcome fangle\n",
      "widtn= 4 height= 5 area= 20\n"
     ]
    }
   ],
   "source": [
    "#函数的定义和使用\n",
    "def area(wid,hei):\n",
    "    return wid * hei\n",
    "\n",
    "def p_welcome(name):\n",
    "    print(\"Welcome\",name)\n",
    "\n",
    "p_welcome(\"fangle\")\n",
    "w=4\n",
    "h=5\n",
    "print(\"widtn=\",w,\"height=\",h,\"area=\",area(w,h))\n"
   ]
  },
  {
   "cell_type": "code",
   "execution_count": 25,
   "id": "e90d22eb",
   "metadata": {},
   "outputs": [
    {
     "name": "stdout",
     "output_type": "stream",
     "text": [
      "字符串为回文\n",
      "True\n",
      "输入的字符串为不对称字符串\n",
      "False\n"
     ]
    }
   ],
   "source": [
    "def iseq(c_str):\n",
    "    length=len(c_str)\n",
    "    for item in range(length):\n",
    "        if c_str[item]!= c_str[-1-item]:\n",
    "            print('输入的字符串为不对称字符串')\n",
    "            return False\n",
    "    else:\n",
    "        print('字符串为回文')\n",
    "        return True\n",
    "    \n",
    "print(iseq('sees'))\n",
    "print(iseq('seed'))"
   ]
  },
  {
   "cell_type": "code",
   "execution_count": 26,
   "id": "44cf64c1",
   "metadata": {},
   "outputs": [
    {
     "name": "stdout",
     "output_type": "stream",
     "text": [
      "8\n",
      "[19, 99, 456]\n",
      "444\n"
     ]
    }
   ],
   "source": [
    "#lambda 表达式\n",
    "def function(x,y):\n",
    "    return x+y\n",
    "func=lambda x,y:x+y\n",
    "print(func(3,5))\n",
    "\n",
    "\n",
    "data1=[9,88,444]\n",
    "data2=[10,11,12]\n",
    "\n",
    "print(list(map(lambda x,y:x+y,data1,data2)))\n",
    "\n",
    "print(max(data1,key=lambda num:len(str(num))))\n"
   ]
  },
  {
   "cell_type": "code",
   "execution_count": 30,
   "id": "09bce780",
   "metadata": {},
   "outputs": [],
   "source": [
    "#递归函数\n",
    "def sum_cycle(n):\n",
    "    sum=0\n",
    "    for i in range(1,n+1):\n",
    "        sum+=i\n",
    "    print(sum)"
   ]
  },
  {
   "cell_type": "code",
   "execution_count": 29,
   "id": "99b03144",
   "metadata": {},
   "outputs": [],
   "source": [
    "def sum_recu(n):\n",
    "    if n>=1 and n<=100:\n",
    "        print(n)\n",
    "        return n + sum_recu(n-1)\n",
    "    return 0"
   ]
  },
  {
   "cell_type": "code",
   "execution_count": 31,
   "id": "cd3f29ba",
   "metadata": {},
   "outputs": [
    {
     "data": {
      "text/plain": [
       "120"
      ]
     },
     "execution_count": 31,
     "metadata": {},
     "output_type": "execute_result"
    }
   ],
   "source": [
    "def factorial(n):\n",
    "    if n>0:\n",
    "        return n* factorial(n-1)\n",
    "    else:\n",
    "        return 1\n",
    "factorial(5)\n",
    "    "
   ]
  },
  {
   "cell_type": "code",
   "execution_count": 32,
   "id": "5bcd8f0c",
   "metadata": {},
   "outputs": [
    {
     "name": "stdout",
     "output_type": "stream",
     "text": [
      "<generator object g_func at 0x0000026CC4677EB0>\n"
     ]
    }
   ],
   "source": [
    "def g_func():\n",
    "    yield 1\n",
    "    yield 2\n",
    "    yield 3\n",
    "gen=g_func()\n",
    "print(gen)"
   ]
  },
  {
   "cell_type": "code",
   "execution_count": 1,
   "id": "8749a9b6",
   "metadata": {},
   "outputs": [
    {
     "name": "stdout",
     "output_type": "stream",
     "text": [
      "调用g_func时，不会print任何东西，因为函数体内的代码不会被执行：\n",
      "====================\n",
      "访问生成器内的元素时才会执行函数体内的代码：\n",
      "开始访问生成器的元素：\n",
      "yield 1\n",
      "1\n",
      "====================\n",
      "yield 2\n",
      "2\n",
      "====================\n",
      "yield 3\n",
      "3\n",
      "====================\n",
      "访问生成器的元素结束！\n"
     ]
    }
   ],
   "source": [
    "def g_func():\n",
    "    print('yield 1')\n",
    "    yield 1\n",
    "    print('yield 2')\n",
    "    yield 2\n",
    "    print('yield 3')\n",
    "    yield 3\n",
    "print('调用g_func时，不会print任何东西，因为函数体内的代码不会被执行：')\n",
    "gen=g_func()\n",
    "print('='*20)\n",
    "print('访问生成器内的元素时才会执行函数体内的代码：')\n",
    "print('开始访问生成器的元素：')\n",
    "\n",
    "print(next(gen))\n",
    "print('='*20)\n",
    "\n",
    "print(next(gen))\n",
    "print('='*20)\n",
    "\n",
    "print(next(gen))\n",
    "print('='*20)\n",
    "print('访问生成器的元素结束！')\n",
    "\n",
    "\n"
   ]
  },
  {
   "cell_type": "code",
   "execution_count": 2,
   "id": "30049dff",
   "metadata": {},
   "outputs": [],
   "source": [
    "#count（）\n",
    "def count():\n",
    "    i=1\n",
    "    while True:\n",
    "        yield i\n",
    "        i=i+1\n"
   ]
  },
  {
   "cell_type": "code",
   "execution_count": 4,
   "id": "612b1a18",
   "metadata": {},
   "outputs": [
    {
     "name": "stdout",
     "output_type": "stream",
     "text": [
      "5\n",
      "1\n",
      "2\n",
      "3\n",
      "4\n",
      "5\n"
     ]
    }
   ],
   "source": [
    "num=int(input())\n",
    "print_num=count()\n",
    "for x in range(num):\n",
    "    print(next(print_num))"
   ]
  },
  {
   "cell_type": "code",
   "execution_count": 5,
   "id": "a71cd32e",
   "metadata": {},
   "outputs": [],
   "source": [
    "#装饰器函数\n",
    "def add_def(a,b):\n",
    "    return a+b\n",
    "def sub_def(a,b):\n",
    "    return a-b\n",
    "import time\n",
    "def add_time(a,b):\n",
    "    start_time=time.time()\n",
    "    res=a+b\n",
    "    stop_time=start_time-time.time()\n",
    "    print(\"花费的时间为：\",stop_time)\n",
    "    return res\n"
   ]
  },
  {
   "cell_type": "code",
   "execution_count": 7,
   "id": "c4173cf4",
   "metadata": {},
   "outputs": [
    {
     "name": "stdout",
     "output_type": "stream",
     "text": [
      "my name is fangle\n",
      "hidefault\n",
      "====================\n"
     ]
    },
    {
     "ename": "NameError",
     "evalue": "name 'say_name' is not defined",
     "output_type": "error",
     "traceback": [
      "\u001b[1;31m---------------------------------------------------------------------------\u001b[0m",
      "\u001b[1;31mNameError\u001b[0m                                 Traceback (most recent call last)",
      "\u001b[1;32m~\\AppData\\Local\\Temp/ipykernel_7344/1343924785.py\u001b[0m in \u001b[0;36m<module>\u001b[1;34m\u001b[0m\n\u001b[0;32m     10\u001b[0m \u001b[0mprint\u001b[0m\u001b[1;33m(\u001b[0m\u001b[0mhi\u001b[0m\u001b[1;33m(\u001b[0m\u001b[1;33m)\u001b[0m\u001b[1;33m)\u001b[0m\u001b[1;33m\u001b[0m\u001b[1;33m\u001b[0m\u001b[0m\n\u001b[0;32m     11\u001b[0m \u001b[0mprint\u001b[0m\u001b[1;33m(\u001b[0m\u001b[1;34m\"=\"\u001b[0m\u001b[1;33m*\u001b[0m\u001b[1;36m20\u001b[0m\u001b[1;33m)\u001b[0m\u001b[1;33m\u001b[0m\u001b[1;33m\u001b[0m\u001b[0m\n\u001b[1;32m---> 12\u001b[1;33m \u001b[0mprint\u001b[0m\u001b[1;33m(\u001b[0m\u001b[0msay_name\u001b[0m\u001b[1;33m)\u001b[0m\u001b[1;33m\u001b[0m\u001b[1;33m\u001b[0m\u001b[0m\n\u001b[0m\u001b[0;32m     13\u001b[0m \u001b[1;33m\u001b[0m\u001b[0m\n",
      "\u001b[1;31mNameError\u001b[0m: name 'say_name' is not defined"
     ]
    }
   ],
   "source": [
    "#函数的嵌套\n",
    "def hi(name =\"default\"):\n",
    "    def say_name():\n",
    "        print(\"my name is fangle\")\n",
    "    def say_goodbye():\n",
    "        print(\"goodbye\")\n",
    "    say_name()\n",
    "    say_goodbye\n",
    "    return \"hi\"+name\n",
    "print(hi())\n",
    "print(\"=\"*20)\n",
    "print(say_name)\n",
    "        \n"
   ]
  },
  {
   "cell_type": "code",
   "execution_count": 11,
   "id": "e60acfad",
   "metadata": {},
   "outputs": [
    {
     "name": "stdout",
     "output_type": "stream",
     "text": [
      " hi default\n",
      " hi default\n",
      " hi default\n"
     ]
    }
   ],
   "source": [
    "#装饰器函数\n",
    "def hi(name =\"default\"):\n",
    "    return \" hi \"+name\n",
    "print(hi())\n",
    "hello=hi\n",
    "print(hello())\n",
    "\n",
    "del hi#删除hi对象 hello仍然可以运行\n",
    "\n",
    "print(hello())"
   ]
  },
  {
   "cell_type": "code",
   "execution_count": 12,
   "id": "b18a58a8",
   "metadata": {},
   "outputs": [
    {
     "name": "stdout",
     "output_type": "stream",
     "text": [
      "花费的时间为： 0.0\n",
      "8\n"
     ]
    }
   ],
   "source": [
    "import time\n",
    "def add_time(func):\n",
    "    def wrapper(*args,**kwargs):\n",
    "        start_time=time.time()\n",
    "        res=func(*args,**kwargs)\n",
    "        stop_time=start_time-time.time()\n",
    "        print(\"花费的时间为：\",stop_time)\n",
    "        return res\n",
    "    return wrapper\n",
    "def add_def(a,b):\n",
    "    return a+b\n",
    "\n",
    "add_def=add_time(add_def)\n",
    "print(add_def(3,5))"
   ]
  },
  {
   "cell_type": "code",
   "execution_count": 13,
   "id": "66b6e9db",
   "metadata": {},
   "outputs": [
    {
     "name": "stdout",
     "output_type": "stream",
     "text": [
      "花费的时间为： 0.0\n",
      "8\n"
     ]
    }
   ],
   "source": [
    "#通过@符号 调用装饰器来修饰函数\n",
    "import time\n",
    "def add_time(func):\n",
    "    def wrapper(*args,**kwargs):\n",
    "        start_time=time.time()\n",
    "        res=func(*args,**kwargs)\n",
    "        stop_time=start_time-time.time()\n",
    "        print(\"花费的时间为：\",stop_time)\n",
    "        return res\n",
    "    return wrapper\n",
    "@add_time\n",
    "def add_def(a,b):\n",
    "    return a+b\n",
    "\n",
    "#add_def=add_time(add_def)\n",
    "print(add_def(3,5))"
   ]
  },
  {
   "cell_type": "code",
   "execution_count": 15,
   "id": "fa55bc67",
   "metadata": {},
   "outputs": [],
   "source": [
    "#变量的命名空间和作用域\n",
    "g_cout=0  #全局作用域\n",
    "def couter():\n",
    "    o_cout=1  #闭包函数外的函数中\n",
    "    def inner():\n",
    "        i_count=2  #局部作用域"
   ]
  },
  {
   "cell_type": "code",
   "execution_count": 18,
   "id": "28d98946",
   "metadata": {},
   "outputs": [
    {
     "name": "stdout",
     "output_type": "stream",
     "text": [
      "函数内是局部变量： 30\n",
      "函数外是全局变量： 0\n"
     ]
    }
   ],
   "source": [
    "#全局变量和局部变量\n",
    "total=0\n",
    "def sum(a,b):\n",
    "    total=a+b\n",
    "    print(\"函数内是局部变量：\",total)\n",
    "    return total\n",
    "sum(10,20)\n",
    "print(\"函数外是全局变量：\",total)"
   ]
  },
  {
   "cell_type": "code",
   "execution_count": 19,
   "id": "2fb9c8d8",
   "metadata": {},
   "outputs": [
    {
     "name": "stdout",
     "output_type": "stream",
     "text": [
      "全局的num： 1\n",
      "全局的num变更为： 123\n",
      "全局变量变更为： 123\n"
     ]
    }
   ],
   "source": [
    "#glovbal 和nonlocal 关键字\n",
    "num=1\n",
    "def fun1():\n",
    "    global num\n",
    "    print('全局的num：',num)\n",
    "    num=123\n",
    "    print(\"全局的num变更为：\",num)\n",
    "fun1()\n",
    "print(\"全局变量变更为：\",num)"
   ]
  },
  {
   "cell_type": "code",
   "execution_count": 20,
   "id": "d0ba62b5",
   "metadata": {},
   "outputs": [
    {
     "name": "stdout",
     "output_type": "stream",
     "text": [
      "修改嵌套作用域: 100\n",
      "嵌套作用域num修改： 100\n"
     ]
    }
   ],
   "source": [
    "def outer():\n",
    "    num=10\n",
    "    def inner():\n",
    "        nonlocal num\n",
    "        num=100\n",
    "        print(\"修改嵌套作用域:\",num)\n",
    "    inner()\n",
    "    print(\"嵌套作用域num修改：\",num)\n",
    "    \n",
    "outer()\n",
    "    "
   ]
  },
  {
   "cell_type": "code",
   "execution_count": null,
   "id": "4621a0d5",
   "metadata": {},
   "outputs": [],
   "source": []
  }
 ],
 "metadata": {
  "kernelspec": {
   "display_name": "Python 3 (ipykernel)",
   "language": "python",
   "name": "python3"
  },
  "language_info": {
   "codemirror_mode": {
    "name": "ipython",
    "version": 3
   },
   "file_extension": ".py",
   "mimetype": "text/x-python",
   "name": "python",
   "nbconvert_exporter": "python",
   "pygments_lexer": "ipython3",
   "version": "3.9.7"
  }
 },
 "nbformat": 4,
 "nbformat_minor": 5
}
