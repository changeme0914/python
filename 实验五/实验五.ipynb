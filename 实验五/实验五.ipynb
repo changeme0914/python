{
 "cells": [
  {
   "cell_type": "code",
   "execution_count": 2,
   "id": "28bb4a63",
   "metadata": {},
   "outputs": [
    {
     "name": "stdout",
     "output_type": "stream",
     "text": [
      "请输入读取字节数:3\n",
      "b'cde'\n",
      "cde\n",
      "cde\n"
     ]
    }
   ],
   "source": [
    "x=eval(input(\"请输入读取字节数:\"))\n",
    "fo=open(r\"E:\\第七章文件\\job2.txt\",\"rb+\")\n",
    "fo.seek (-x,2)\n",
    "print(fo.read(x))\n",
    "fo.seek(0,0)\n",
    "fo.seek(-x,2)\n",
    "st=bytes.decode(fo.read(x))\n",
    "print(st)\n",
    "fo=open(r\"E:\\第七章文件\\job2.txt\",\"w+\")\n",
    "fo.write(st)\n",
    "fo.seek(0,0)\n",
    "m=fo.readline()\n",
    "print(m)\n"
   ]
  },
  {
   "cell_type": "code",
   "execution_count": 4,
   "id": "ce52e498",
   "metadata": {},
   "outputs": [],
   "source": [
    "import xlwt\n",
    "work_book = xlwt.Workbook(encoding='utf-8')\n",
    "sheet=work_book.add_sheet('sheet')\n",
    "sheet.write(0,0,'收支账单')\n",
    "sheet.write(1,0,'日期')\n",
    "sheet.write(1,1,'1月')\n",
    "sheet.write(1,2,'2月')\n",
    "sheet.write(2,0,'收入')\n",
    "sheet.write(2,1,'1000')\n",
    "sheet.write(2,2,'1000')\n",
    "sheet.write(3,0,'支出')\n",
    "sheet.write(3,1,'500')\n",
    "sheet.write(3,2,'500')\n",
    "work_book.save('excel.xls')\n"
   ]
  },
  {
   "cell_type": "code",
   "execution_count": null,
   "id": "13bb1f67",
   "metadata": {},
   "outputs": [],
   "source": []
  }
 ],
 "metadata": {
  "kernelspec": {
   "display_name": "Python 3 (ipykernel)",
   "language": "python",
   "name": "python3"
  },
  "language_info": {
   "codemirror_mode": {
    "name": "ipython",
    "version": 3
   },
   "file_extension": ".py",
   "mimetype": "text/x-python",
   "name": "python",
   "nbconvert_exporter": "python",
   "pygments_lexer": "ipython3",
   "version": "3.9.7"
  }
 },
 "nbformat": 4,
 "nbformat_minor": 5
}
