{
 "cells": [
  {
   "cell_type": "code",
   "execution_count": 3,
   "id": "4fd9f0c2",
   "metadata": {},
   "outputs": [
    {
     "data": {
      "text/plain": [
       "0    4\n",
       "1    7\n",
       "2   -5\n",
       "3    3\n",
       "dtype: int64"
      ]
     },
     "execution_count": 3,
     "metadata": {},
     "output_type": "execute_result"
    }
   ],
   "source": [
    "import pandas as pd\n",
    "ser=pd.Series([4,7,-5,3])\n",
    "ser"
   ]
  },
  {
   "cell_type": "code",
   "execution_count": 4,
   "id": "1be6467e",
   "metadata": {},
   "outputs": [
    {
     "data": {
      "text/plain": [
       "RangeIndex(start=0, stop=4, step=1)"
      ]
     },
     "execution_count": 4,
     "metadata": {},
     "output_type": "execute_result"
    }
   ],
   "source": [
    "import pandas as pd\n",
    "ser=pd.Series([4,7,-5,3])\n",
    "ser.index"
   ]
  },
  {
   "cell_type": "code",
   "execution_count": 5,
   "id": "47931709",
   "metadata": {},
   "outputs": [
    {
     "data": {
      "text/plain": [
       "<PandasArray>\n",
       "[0, 1, 2, 3]\n",
       "Length: 4, dtype: int64"
      ]
     },
     "execution_count": 5,
     "metadata": {},
     "output_type": "execute_result"
    }
   ],
   "source": [
    "ser=pd.Series([4,7,-5,3])\n",
    "ser.index\n",
    "ser.index.array"
   ]
  },
  {
   "cell_type": "code",
   "execution_count": 6,
   "id": "0a184e80",
   "metadata": {},
   "outputs": [
    {
     "data": {
      "text/plain": [
       "array([0, 1, 2, 3], dtype=int64)"
      ]
     },
     "execution_count": 6,
     "metadata": {},
     "output_type": "execute_result"
    }
   ],
   "source": [
    "ser=pd.Series([4,7,-5,3])\n",
    "ser.index.to_numpy()"
   ]
  },
  {
   "cell_type": "code",
   "execution_count": 7,
   "id": "562f2cd0",
   "metadata": {},
   "outputs": [
    {
     "data": {
      "text/plain": [
       "array([ 4,  7, -5,  3], dtype=int64)"
      ]
     },
     "execution_count": 7,
     "metadata": {},
     "output_type": "execute_result"
    }
   ],
   "source": [
    "ser=pd.Series([4,7,-5,3])\n",
    "ser.values"
   ]
  },
  {
   "cell_type": "code",
   "execution_count": 7,
   "id": "41dfccd9",
   "metadata": {},
   "outputs": [
    {
     "data": {
      "text/plain": [
       "<PandasArray>\n",
       "[4, 7, -5, 3]\n",
       "Length: 4, dtype: int64"
      ]
     },
     "execution_count": 7,
     "metadata": {},
     "output_type": "execute_result"
    }
   ],
   "source": [
    "ser=pd.Series([4,7,-5,3])\n",
    "ser.array"
   ]
  },
  {
   "cell_type": "code",
   "execution_count": 8,
   "id": "1d48e39a",
   "metadata": {},
   "outputs": [
    {
     "data": {
      "text/plain": [
       "array([ 4,  7, -5,  3], dtype=int64)"
      ]
     },
     "execution_count": 8,
     "metadata": {},
     "output_type": "execute_result"
    }
   ],
   "source": [
    "ser=pd.Series([4,7,-5,3])\n",
    "ser.to_numpy()"
   ]
  },
  {
   "cell_type": "code",
   "execution_count": 9,
   "id": "940ef197",
   "metadata": {},
   "outputs": [
    {
     "name": "stdout",
     "output_type": "stream",
     "text": [
      "int64\n",
      "(4,)\n",
      "1\n",
      "4\n"
     ]
    }
   ],
   "source": [
    "ser=pd.Series([4,7,-5,3])\n",
    "print(ser.dtype)\n",
    "print(ser.shape)\n",
    "print(ser.ndim)\n",
    "print(ser.size)"
   ]
  },
  {
   "cell_type": "code",
   "execution_count": 10,
   "id": "b8e658e1",
   "metadata": {},
   "outputs": [
    {
     "data": {
      "text/plain": [
       "0    4\n",
       "1    7\n",
       "2   -5\n",
       "3    3\n",
       "Name: data, dtype: int64"
      ]
     },
     "execution_count": 10,
     "metadata": {},
     "output_type": "execute_result"
    }
   ],
   "source": [
    "ser=pd.Series([4,7,-5,3])\n",
    "ser.name='data'\n",
    "ser"
   ]
  },
  {
   "cell_type": "code",
   "execution_count": 4,
   "id": "d94ff04b",
   "metadata": {},
   "outputs": [
    {
     "data": {
      "text/plain": [
       "a    4\n",
       "b    7\n",
       "b   -5\n",
       "c    3\n",
       "dtype: int64"
      ]
     },
     "execution_count": 4,
     "metadata": {},
     "output_type": "execute_result"
    }
   ],
   "source": [
    "import pandas as pd\n",
    "ser_2=pd.Series([4,7,-5,3],index=['a','b','b','c'])\n",
    "ser_2"
   ]
  },
  {
   "cell_type": "code",
   "execution_count": 5,
   "id": "eef57414",
   "metadata": {},
   "outputs": [
    {
     "data": {
      "text/plain": [
       "Index(['a', 'b', 'b', 'c'], dtype='object')"
      ]
     },
     "execution_count": 5,
     "metadata": {},
     "output_type": "execute_result"
    }
   ],
   "source": [
    "ser_2=pd.Series([4,7,-5,3],index=['a','b','b','c'])\n",
    "ser_2.index"
   ]
  },
  {
   "cell_type": "code",
   "execution_count": 6,
   "id": "8736c8e4",
   "metadata": {},
   "outputs": [
    {
     "data": {
      "text/plain": [
       "b    7\n",
       "b   -5\n",
       "dtype: int64"
      ]
     },
     "execution_count": 6,
     "metadata": {},
     "output_type": "execute_result"
    }
   ],
   "source": [
    "ser_2=pd.Series([4,7,-5,3],index=['a','b','b','c'])\n",
    "ser_2['b']"
   ]
  },
  {
   "cell_type": "code",
   "execution_count": 8,
   "id": "df5c4ca6",
   "metadata": {},
   "outputs": [
    {
     "data": {
      "text/plain": [
       "a    4\n",
       "b    7\n",
       "b   -5\n",
       "dtype: int64"
      ]
     },
     "execution_count": 8,
     "metadata": {},
     "output_type": "execute_result"
    }
   ],
   "source": [
    "ser_2=pd.Series([4,7,-5,3],index=['a','b','b','c'])\n",
    "ser_2[['a','b']]"
   ]
  },
  {
   "cell_type": "code",
   "execution_count": 9,
   "id": "eba88336",
   "metadata": {},
   "outputs": [
    {
     "data": {
      "text/plain": [
       "a    4\n",
       "b    s\n",
       "b    s\n",
       "c    3\n",
       "dtype: object"
      ]
     },
     "execution_count": 9,
     "metadata": {},
     "output_type": "execute_result"
    }
   ],
   "source": [
    "ser_2=pd.Series([4,7,-5,3],index=['a','b','b','c'])\n",
    "ser_2['b']='s'\n",
    "ser_2"
   ]
  },
  {
   "cell_type": "code",
   "execution_count": 10,
   "id": "7d8cf568",
   "metadata": {},
   "outputs": [
    {
     "data": {
      "text/plain": [
       "two      9000\n",
       "one      9001\n",
       "three    9002\n",
       "four     9003\n",
       "dtype: int64"
      ]
     },
     "execution_count": 10,
     "metadata": {},
     "output_type": "execute_result"
    }
   ],
   "source": [
    "dic_3={'two':9000,'one':9001,'three':9002,'four':9003}\n",
    "ser_3=pd.Series(dic_3)\n",
    "ser_3"
   ]
  },
  {
   "cell_type": "code",
   "execution_count": 11,
   "id": "74721acd",
   "metadata": {},
   "outputs": [
    {
     "data": {
      "text/plain": [
       "two      9000\n",
       "three    9002\n",
       "four     9003\n",
       "dtype: int64"
      ]
     },
     "execution_count": 11,
     "metadata": {},
     "output_type": "execute_result"
    }
   ],
   "source": [
    "dic_3={'two':9000,'one':9001,'three':9002,'four':9003}\n",
    "dic_index=['two','three','four']\n",
    "ser_3=pd.Series(dic_3,index=dic_index)\n",
    "ser_3"
   ]
  },
  {
   "cell_type": "code",
   "execution_count": 13,
   "id": "4c288eea",
   "metadata": {},
   "outputs": [
    {
     "data": {
      "text/plain": [
       "zero        NaN\n",
       "one      9001.0\n",
       "two      9000.0\n",
       "three    9002.0\n",
       "four     9003.0\n",
       "five        NaN\n",
       "dtype: float64"
      ]
     },
     "execution_count": 13,
     "metadata": {},
     "output_type": "execute_result"
    }
   ],
   "source": [
    "dic_3={'two':9000,'one':9001,'three':9002,'four':9003}\n",
    "dic_index=['zero','one','two','three','four','five']\n",
    "ser_3=pd.Series(dic_3,index=dic_index)\n",
    "ser_3"
   ]
  },
  {
   "cell_type": "code",
   "execution_count": 14,
   "id": "496cf1d5",
   "metadata": {},
   "outputs": [
    {
     "data": {
      "text/plain": [
       "zero      True\n",
       "one      False\n",
       "two      False\n",
       "three    False\n",
       "four     False\n",
       "five      True\n",
       "dtype: bool"
      ]
     },
     "execution_count": 14,
     "metadata": {},
     "output_type": "execute_result"
    }
   ],
   "source": [
    "dic_3={'two':9000,'one':9001,'three':9002,'four':9003}\n",
    "dic_index=['zero','one','two','three','four','five']\n",
    "ser_3=pd.Series(dic_3,index=dic_index)\n",
    "pd.isnull(ser_3)"
   ]
  },
  {
   "cell_type": "code",
   "execution_count": 15,
   "id": "5dac5a15",
   "metadata": {},
   "outputs": [
    {
     "data": {
      "text/plain": [
       "zero     False\n",
       "one       True\n",
       "two       True\n",
       "three     True\n",
       "four      True\n",
       "five     False\n",
       "dtype: bool"
      ]
     },
     "execution_count": 15,
     "metadata": {},
     "output_type": "execute_result"
    }
   ],
   "source": [
    "dic_3={'two':9000,'one':9001,'three':9002,'four':9003}\n",
    "dic_index=['zero','one','two','three','four','five']\n",
    "ser_3=pd.Series(dic_3,index=dic_index)\n",
    "pd.notnull(ser_3)"
   ]
  },
  {
   "cell_type": "code",
   "execution_count": 17,
   "id": "783f28ba",
   "metadata": {},
   "outputs": [
    {
     "data": {
      "text/plain": [
       "0       NaN\n",
       "1    9001.0\n",
       "2    9000.0\n",
       "3    9002.0\n",
       "4    9003.0\n",
       "5       NaN\n",
       "dtype: float64"
      ]
     },
     "execution_count": 17,
     "metadata": {},
     "output_type": "execute_result"
    }
   ],
   "source": [
    "dic_3={'two':9000,'one':9001,'three':9002,'four':9003}\n",
    "dic_index=['zero','one','two','three','four','five']\n",
    "ser_3=pd.Series(dic_3,index=dic_index)\n",
    "ser_3.index=[0,1,2,3,4,5]\n",
    "ser_3"
   ]
  },
  {
   "cell_type": "code",
   "execution_count": 18,
   "id": "c6baa31b",
   "metadata": {},
   "outputs": [
    {
     "data": {
      "text/plain": [
       "0    3.0\n",
       "1    5.0\n",
       "2    7.0\n",
       "3    9.0\n",
       "4    NaN\n",
       "dtype: float64"
      ]
     },
     "execution_count": 18,
     "metadata": {},
     "output_type": "execute_result"
    }
   ],
   "source": [
    "ser_1=pd.Series([1,2,3,4,5])\n",
    "ser_2=pd.Series([2,3,4,5])\n",
    "ser_1+ser_2"
   ]
  },
  {
   "cell_type": "code",
   "execution_count": 19,
   "id": "dfedfe35",
   "metadata": {},
   "outputs": [
    {
     "data": {
      "text/plain": [
       "0     2.0\n",
       "1     6.0\n",
       "2    12.0\n",
       "3    20.0\n",
       "4     NaN\n",
       "dtype: float64"
      ]
     },
     "execution_count": 19,
     "metadata": {},
     "output_type": "execute_result"
    }
   ],
   "source": [
    "ser_1=pd.Series([1,2,3,4,5])\n",
    "ser_2=pd.Series([2,3,4,5])\n",
    "ser_1*ser_2"
   ]
  },
  {
   "cell_type": "code",
   "execution_count": 21,
   "id": "72d6feec",
   "metadata": {},
   "outputs": [
    {
     "name": "stdout",
     "output_type": "stream",
     "text": [
      "4    5\n",
      "dtype: int64\n",
      "3    4\n",
      "4    5\n",
      "dtype: int64\n"
     ]
    }
   ],
   "source": [
    "ser_1=pd.Series([1,2,3,4,5])\n",
    "print(ser_1[ser_1.index>3])\n",
    "print(ser_1[ser_1.array>3])"
   ]
  },
  {
   "cell_type": "code",
   "execution_count": 22,
   "id": "7e9011c9",
   "metadata": {},
   "outputs": [
    {
     "data": {
      "text/plain": [
       "0    0.841471\n",
       "1    0.909297\n",
       "2    0.141120\n",
       "3   -0.756802\n",
       "4   -0.958924\n",
       "dtype: float64"
      ]
     },
     "execution_count": 22,
     "metadata": {},
     "output_type": "execute_result"
    }
   ],
   "source": [
    "import numpy as np\n",
    "ser_1=pd.Series([1,2,3,4,5])\n",
    "np.sin(ser_1)\n"
   ]
  },
  {
   "cell_type": "code",
   "execution_count": 23,
   "id": "75bd35af",
   "metadata": {},
   "outputs": [
    {
     "data": {
      "text/plain": [
       "True"
      ]
     },
     "execution_count": 23,
     "metadata": {},
     "output_type": "execute_result"
    }
   ],
   "source": [
    "import numpy as np\n",
    "ser_1=pd.Series([1,2,3,4,5])\n",
    "0 in ser_1\n"
   ]
  },
  {
   "cell_type": "code",
   "execution_count": 24,
   "id": "511f07aa",
   "metadata": {},
   "outputs": [
    {
     "data": {
      "text/plain": [
       "False"
      ]
     },
     "execution_count": 24,
     "metadata": {},
     "output_type": "execute_result"
    }
   ],
   "source": [
    "import numpy as np\n",
    "ser_1=pd.Series([1,2,3,4,5])\n",
    "10 in ser_1\n"
   ]
  },
  {
   "cell_type": "code",
   "execution_count": 28,
   "id": "a77b434c",
   "metadata": {},
   "outputs": [
    {
     "name": "stdout",
     "output_type": "stream",
     "text": [
      "平均值:\n",
      "91.8\n",
      "s2中最小的2个数：\n",
      "物理    87\n",
      "语文    90\n",
      "dtype: int64\n",
      "对Series对象中的元素应用函数：\n",
      "语文         92\n",
      "数学         94\n",
      "Python    100\n",
      "物理         89\n",
      "化学         94\n",
      "dtype: int64\n",
      "对Series对象中的元素应用函数：\n",
      "语文        4.499810\n",
      "数学        4.521789\n",
      "Python    4.584967\n",
      "物理        4.465908\n",
      "化学        4.521789\n",
      "dtype: float64\n"
     ]
    }
   ],
   "source": [
    "s2=pd.Series({'语文':90,'数学':92,'Python':98,'物理':87,'化学':92})\n",
    "\n",
    "print('平均值:',s2.mean(),sep='\\n')\n",
    "print('s2中最小的2个数：',s2.nsmallest(2),sep='\\n')\n",
    "print('对Series对象中的元素应用函数：',s2.apply(lambda x:x+2),sep='\\n')\n",
    "print('对Series对象中的元素应用函数：',s2.apply(np.log),sep='\\n')"
   ]
  },
  {
   "cell_type": "code",
   "execution_count": 34,
   "id": "51890135",
   "metadata": {},
   "outputs": [
    {
     "data": {
      "text/plain": [
       "DatetimeIndex(['2020-08-01', '2020-08-02', '2020-08-03', '2020-08-04',\n",
       "               '2020-08-05', '2020-08-06', '2020-08-07', '2020-08-08',\n",
       "               '2020-08-09', '2020-08-10'],\n",
       "              dtype='datetime64[ns]', freq='D')"
      ]
     },
     "execution_count": 34,
     "metadata": {},
     "output_type": "execute_result"
    }
   ],
   "source": [
    "import pandas as pd\n",
    "pd.date_range('20200801','20200810')"
   ]
  },
  {
   "cell_type": "code",
   "execution_count": 35,
   "id": "5c879878",
   "metadata": {},
   "outputs": [
    {
     "data": {
      "text/plain": [
       "DatetimeIndex(['2020-08-01', '2020-08-02', '2020-08-03', '2020-08-04',\n",
       "               '2020-08-05', '2020-08-06', '2020-08-07', '2020-08-08',\n",
       "               '2020-08-09', '2020-08-10'],\n",
       "              dtype='datetime64[ns]', freq='D')"
      ]
     },
     "execution_count": 35,
     "metadata": {},
     "output_type": "execute_result"
    }
   ],
   "source": [
    "import pandas as pd\n",
    "pd.date_range(start='20200801',periods=10)"
   ]
  },
  {
   "cell_type": "code",
   "execution_count": 36,
   "id": "28d5bef0",
   "metadata": {},
   "outputs": [
    {
     "data": {
      "text/plain": [
       "DatetimeIndex(['2020-07-23', '2020-07-24', '2020-07-25', '2020-07-26',\n",
       "               '2020-07-27', '2020-07-28', '2020-07-29', '2020-07-30',\n",
       "               '2020-07-31', '2020-08-01'],\n",
       "              dtype='datetime64[ns]', freq='D')"
      ]
     },
     "execution_count": 36,
     "metadata": {},
     "output_type": "execute_result"
    }
   ],
   "source": [
    "pd.date_range(end='20200801',periods=10)"
   ]
  },
  {
   "cell_type": "code",
   "execution_count": 37,
   "id": "2a6de71b",
   "metadata": {},
   "outputs": [
    {
     "data": {
      "text/plain": [
       "DatetimeIndex(['2020-08-01', '2020-08-02', '2020-08-03', '2020-08-04',\n",
       "               '2020-08-05', '2020-08-06', '2020-08-07', '2020-08-08',\n",
       "               '2020-08-09', '2020-08-10'],\n",
       "              dtype='datetime64[ns]', freq='D')"
      ]
     },
     "execution_count": 37,
     "metadata": {},
     "output_type": "execute_result"
    }
   ],
   "source": [
    "import pandas as pd\n",
    "pd.date_range('20200801','20200810',freq='D')"
   ]
  },
  {
   "cell_type": "code",
   "execution_count": 38,
   "id": "470f97df",
   "metadata": {},
   "outputs": [
    {
     "data": {
      "text/plain": [
       "2020-01-15 00:00:00    0\n",
       "2020-01-15 01:00:00    1\n",
       "2020-01-15 02:00:00    2\n",
       "2020-01-15 03:00:00    3\n",
       "2020-01-15 04:00:00    4\n",
       "2020-01-15 05:00:00    5\n",
       "2020-01-15 06:00:00    6\n",
       "2020-01-15 07:00:00    7\n",
       "2020-01-15 08:00:00    8\n",
       "2020-01-15 09:00:00    9\n",
       "Freq: H, dtype: int32"
      ]
     },
     "execution_count": 38,
     "metadata": {},
     "output_type": "execute_result"
    }
   ],
   "source": [
    "index=pd.date_range(start='2020-1-15',periods=10,freq='H')\n",
    "ts=pd.Series(np.arange(0,10),index)\n",
    "ts"
   ]
  },
  {
   "cell_type": "code",
   "execution_count": 39,
   "id": "57a927af",
   "metadata": {},
   "outputs": [
    {
     "name": "stdout",
     "output_type": "stream",
     "text": [
      "2020-01-15 00:00:00     1\n",
      "2020-01-15 02:00:00     5\n",
      "2020-01-15 04:00:00     9\n",
      "2020-01-15 06:00:00    13\n",
      "2020-01-15 08:00:00    17\n",
      "Freq: 2H, dtype: int32\n"
     ]
    }
   ],
   "source": [
    "index=pd.date_range(start='2020-1-15',periods=10,freq='H')\n",
    "ts=pd.Series(np.arange(0,10),index)\n",
    "print(ts.resample('2H').sum())"
   ]
  },
  {
   "cell_type": "code",
   "execution_count": 40,
   "id": "5cdf8f0d",
   "metadata": {},
   "outputs": [
    {
     "name": "stdout",
     "output_type": "stream",
     "text": [
      "2020-01-15 02:00:00     1\n",
      "2020-01-15 04:00:00     5\n",
      "2020-01-15 06:00:00     9\n",
      "2020-01-15 08:00:00    13\n",
      "2020-01-15 10:00:00    17\n",
      "Freq: 2H, dtype: int32\n"
     ]
    }
   ],
   "source": [
    "index=pd.date_range(start='2020-1-15',periods=10,freq='H')\n",
    "ts=pd.Series(np.arange(0,10),index)\n",
    "print(ts.resample('2H',label='right').sum())"
   ]
  },
  {
   "cell_type": "code",
   "execution_count": 41,
   "id": "f183ae7b",
   "metadata": {},
   "outputs": [
    {
     "name": "stdout",
     "output_type": "stream",
     "text": [
      "2020-01-15 00:00:00    0.5\n",
      "2020-01-15 02:00:00    2.5\n",
      "2020-01-15 04:00:00    4.5\n",
      "2020-01-15 06:00:00    6.5\n",
      "2020-01-15 08:00:00    8.5\n",
      "Freq: 2H, dtype: float64\n"
     ]
    }
   ],
   "source": [
    "index=pd.date_range(start='2020-1-15',periods=10,freq='H')\n",
    "ts=pd.Series(np.arange(0,10),index)\n",
    "print(ts.resample('2H').mean())"
   ]
  },
  {
   "cell_type": "code",
   "execution_count": 42,
   "id": "f5ce0c71",
   "metadata": {},
   "outputs": [
    {
     "name": "stdout",
     "output_type": "stream",
     "text": [
      "0   2020-01-15 00:00:00\n",
      "1   2020-01-15 01:00:00\n",
      "2   2020-01-15 02:00:00\n",
      "3   2020-01-15 03:00:00\n",
      "4   2020-01-15 04:00:00\n",
      "5   2020-01-15 05:00:00\n",
      "6   2020-01-15 06:00:00\n",
      "7   2020-01-15 07:00:00\n",
      "8   2020-01-15 08:00:00\n",
      "9   2020-01-15 09:00:00\n",
      "dtype: datetime64[ns]\n"
     ]
    }
   ],
   "source": [
    "index=pd.date_range(start='2020-1-15',periods=10,freq='H')\n",
    "print(pd.Series(index))"
   ]
  },
  {
   "cell_type": "code",
   "execution_count": 43,
   "id": "84200dd0",
   "metadata": {},
   "outputs": [
    {
     "name": "stdout",
     "output_type": "stream",
     "text": [
      "2019-01-10 00:00:00\n",
      "2018-12-10 00:00:00\n",
      "t1与t2的时间间隔：： 31 days 00:00:00\n"
     ]
    }
   ],
   "source": [
    "t1=pd.Timestamp('2019-01-10')\n",
    "t2=pd.Timestamp('2018-12-10')\n",
    "print(t1,t2,sep='\\n')\n",
    "print('t1与t2的时间间隔：：',t1-t2)"
   ]
  },
  {
   "cell_type": "code",
   "execution_count": 46,
   "id": "cb60ca97",
   "metadata": {},
   "outputs": [
    {
     "data": {
      "text/plain": [
       "Timedelta('5 days 00:50:20.010010010')"
      ]
     },
     "execution_count": 46,
     "metadata": {},
     "output_type": "execute_result"
    }
   ],
   "source": [
    "pd.Timedelta(days=5,minutes=50,seconds=20,milliseconds=10,microseconds=10,nanoseconds=10)"
   ]
  },
  {
   "cell_type": "code",
   "execution_count": 47,
   "id": "296c0772",
   "metadata": {},
   "outputs": [
    {
     "name": "stdout",
     "output_type": "stream",
     "text": [
      "2019-04-20 00:00:00\n"
     ]
    }
   ],
   "source": [
    "t1=pd.Timestamp('2019-01-10')\n",
    "t2=t1+pd.Timedelta(days=100)\n",
    "print(t2)"
   ]
  },
  {
   "cell_type": "code",
   "execution_count": 48,
   "id": "9c97ef29",
   "metadata": {},
   "outputs": [
    {
     "name": "stdout",
     "output_type": "stream",
     "text": [
      "1 10 January Thursday\n"
     ]
    }
   ],
   "source": [
    "t1=pd.Timestamp('2019-01-10')\n",
    "print(t1.month,t1.day,t1.month_name(),t1.day_name())"
   ]
  },
  {
   "cell_type": "code",
   "execution_count": 50,
   "id": "ba2c8f79",
   "metadata": {},
   "outputs": [
    {
     "name": "stdout",
     "output_type": "stream",
     "text": [
      "   0\n",
      "0  1\n",
      "1  2\n",
      "2  3\n",
      "3  4\n",
      "4  5\n"
     ]
    }
   ],
   "source": [
    "data=[1,2,3,4,5]\n",
    "df=pd.DataFrame(data)\n",
    "print(df)"
   ]
  },
  {
   "cell_type": "code",
   "execution_count": 57,
   "id": "be93d914",
   "metadata": {},
   "outputs": [
    {
     "name": "stdout",
     "output_type": "stream",
     "text": [
      "     Name   Age\n",
      "0    Alex  10.0\n",
      "1     Bob  12.0\n",
      "2  Clarke  13.0\n"
     ]
    }
   ],
   "source": [
    "data=[['Alex',10],['Bob',12],['Clarke',13]]\n",
    "df=pd.DataFrame(data,columns=['Name','Age'],dtype=float)\n",
    "print(df)"
   ]
  },
  {
   "cell_type": "code",
   "execution_count": 56,
   "id": "122aaf0d",
   "metadata": {},
   "outputs": [
    {
     "data": {
      "text/plain": [
       "RangeIndex(start=0, stop=3, step=1)"
      ]
     },
     "execution_count": 56,
     "metadata": {},
     "output_type": "execute_result"
    }
   ],
   "source": [
    "data=[['Alex',10],['Bob',12],['Clarke',13]]\n",
    "df=pd.DataFrame(data,columns=['Name','Age'],dtype=float)\n",
    "df.index"
   ]
  },
  {
   "cell_type": "code",
   "execution_count": 54,
   "id": "9f6da706",
   "metadata": {},
   "outputs": [
    {
     "data": {
      "text/plain": [
       "Index(['Name', 'Age'], dtype='object')"
      ]
     },
     "execution_count": 54,
     "metadata": {},
     "output_type": "execute_result"
    }
   ],
   "source": [
    "data=[['Alex',10],['Bob',12],['Clarke',13]]\n",
    "df=pd.DataFrame(data,columns=['Name','Age'],dtype=float)\n",
    "df.columns"
   ]
  },
  {
   "cell_type": "code",
   "execution_count": 55,
   "id": "dfb4a53f",
   "metadata": {},
   "outputs": [
    {
     "data": {
      "text/plain": [
       "array([['Alex', 10.0],\n",
       "       ['Bob', 12.0],\n",
       "       ['Clarke', 13.0]], dtype=object)"
      ]
     },
     "execution_count": 55,
     "metadata": {},
     "output_type": "execute_result"
    }
   ],
   "source": [
    "data=[['Alex',10],['Bob',12],['Clarke',13]]\n",
    "df=pd.DataFrame(data,columns=['Name','Age'],dtype=float)\n",
    "df.values"
   ]
  },
  {
   "cell_type": "code",
   "execution_count": 58,
   "id": "bb89792f",
   "metadata": {},
   "outputs": [
    {
     "name": "stdout",
     "output_type": "stream",
     "text": [
      "   0  1  2\n",
      "0  1  2  3\n",
      "1  4  5  6\n",
      "2  7  8  9\n"
     ]
    }
   ],
   "source": [
    "df=pd.DataFrame(np.array([[1,2,3],[4,5,6],[7,8,9]]))\n",
    "print(df)"
   ]
  },
  {
   "cell_type": "code",
   "execution_count": 61,
   "id": "ab1357c8",
   "metadata": {},
   "outputs": [
    {
     "name": "stdout",
     "output_type": "stream",
     "text": [
      "   a  b  c\n",
      "1  1  2  3\n",
      "2  4  5  6\n",
      "3  7  8  9\n"
     ]
    }
   ],
   "source": [
    "df=pd.DataFrame(np.array([[1,2,3],[4,5,6],[7,8,9]]),columns=['a','b','c'],index=['1','2','3'])\n",
    "print(df)"
   ]
  },
  {
   "cell_type": "code",
   "execution_count": 62,
   "id": "94ca92ce",
   "metadata": {},
   "outputs": [
    {
     "name": "stdout",
     "output_type": "stream",
     "text": [
      "   a   b     c\n",
      "s  1   2   NaN\n",
      "d  5  10  20.0\n"
     ]
    }
   ],
   "source": [
    "data=[{'a':1,'b':2},{'a':5,'b':10,'c':20}]\n",
    "df=pd.DataFrame(data,index=['s','d'])\n",
    "print(df)"
   ]
  },
  {
   "cell_type": "code",
   "execution_count": 63,
   "id": "77585171",
   "metadata": {},
   "outputs": [
    {
     "name": "stdout",
     "output_type": "stream",
     "text": [
      "        Name  Age\n",
      "rank1    Tom   28\n",
      "rank2   Jack   34\n",
      "rank3  Steve   29\n",
      "rank4  Ricky   42\n"
     ]
    }
   ],
   "source": [
    "data={'Name':['Tom','Jack','Steve','Ricky'],'Age':[28,34,29,42]}\n",
    "df=pd.DataFrame(data,index=['rank1','rank2','rank3','rank4'])\n",
    "print(df)"
   ]
  },
  {
   "cell_type": "code",
   "execution_count": 65,
   "id": "92ef9566",
   "metadata": {},
   "outputs": [
    {
     "name": "stdout",
     "output_type": "stream",
     "text": [
      "       Age Sex\n",
      "Name          \n",
      "Tom     28   男\n",
      "Jack    34   男\n",
      "Steve   29   男\n",
      "Ricky   42   男\n"
     ]
    }
   ],
   "source": [
    "data={'Name':['Tom','Jack','Steve','Ricky'],'Age':[28,34,29,42],'Sex':['男','男','男','男']}\n",
    "df=pd.DataFrame(data).set_index('Name')\n",
    "print(df)"
   ]
  },
  {
   "cell_type": "code",
   "execution_count": 66,
   "id": "c3fc7ccd",
   "metadata": {},
   "outputs": [
    {
     "name": "stdout",
     "output_type": "stream",
     "text": [
      "   one  two\n",
      "a  1.0    1\n",
      "b  2.0    2\n",
      "c  3.0    3\n",
      "d  NaN    4\n"
     ]
    }
   ],
   "source": [
    "d={'one':pd.Series([1,2,3],index=['a','b','c']),\n",
    "  'two':pd.Series([1,2,3,4],index=['a','b','c','d'])}\n",
    "df=pd.DataFrame(d)\n",
    "print(df)"
   ]
  },
  {
   "cell_type": "code",
   "execution_count": 71,
   "id": "02a7312c",
   "metadata": {},
   "outputs": [
    {
     "name": "stdout",
     "output_type": "stream",
     "text": [
      "        Name  Age\n",
      "rank1    Tom   28\n",
      "rank2   Jack   34\n",
      "rank3  Steve   29\n",
      "rank4  Ricky   42\n",
      "行选取，整数索引切片：\n",
      "       Name  Age\n",
      "rank1   Tom   28\n",
      "rank2  Jack   34\n",
      "行选取，标签索引切片：\n",
      "        Name  Age\n",
      "rank1    Tom   28\n",
      "rank2   Jack   34\n",
      "rank3  Steve   29\n",
      "行选取，布尔索引：\n",
      "       Name  Age\n",
      "rank1   Tom   28\n",
      "rank2  Jack   34\n",
      "行选取，布尔索引：\n",
      "        Name  Age\n",
      "rank2   Jack   34\n",
      "rank4  Ricky   42\n"
     ]
    }
   ],
   "source": [
    "data={'Name':['Tom','Jack','Steve','Ricky'],'Age':[28,34,29,42]}\n",
    "df=pd.DataFrame(data,index=['rank1','rank2','rank3','rank4'])\n",
    "print(df,end='\\n')\n",
    "\n",
    "print('行选取，整数索引切片：',df[0:2],sep='\\n',end='\\n')\n",
    "print('行选取，标签索引切片：',df['rank1':'rank3'],sep='\\n',end='\\n')\n",
    "print('行选取，布尔索引：',df[[True,True,False,False]],sep='\\n',end='\\n')\n",
    "print('行选取，布尔索引：',df[df['Age']>30],sep='\\n',end='\\n')"
   ]
  },
  {
   "cell_type": "code",
   "execution_count": 2,
   "id": "7241fd62",
   "metadata": {},
   "outputs": [
    {
     "name": "stdout",
     "output_type": "stream",
     "text": [
      "        Name  Age\n",
      "rank1    Tom   28\n",
      "rank2   Jack   34\n",
      "rank3  Steve   29\n",
      "rank4  Ricky   42\n",
      "列选取，标签索引：\n",
      "rank1      Tom\n",
      "rank2     Jack\n",
      "rank3    Steve\n",
      "rank4    Ricky\n",
      "Name: Name, dtype: object\n",
      "列选取，标签列表选择多个列：\n",
      "        Name  Age\n",
      "rank1    Tom   28\n",
      "rank2   Jack   34\n",
      "rank3  Steve   29\n",
      "rank4  Ricky   42\n"
     ]
    }
   ],
   "source": [
    "import pandas as pd\n",
    "data={'Name':['Tom','Jack','Steve','Ricky'],'Age':[28,34,29,42]}\n",
    "df=pd.DataFrame(data,index=['rank1','rank2','rank3','rank4'])\n",
    "print(df,end='\\n')\n",
    "print('列选取，标签索引：',df['Name'],sep='\\n',end='\\n')\n",
    "print('列选取，标签列表选择多个列：',df[['Name','Age']],sep='\\n',end='\\n')"
   ]
  },
  {
   "cell_type": "code",
   "execution_count": 4,
   "id": "279f48b0",
   "metadata": {},
   "outputs": [
    {
     "name": "stdout",
     "output_type": "stream",
     "text": [
      "        Name  Age\n",
      "rank1    Tom   28\n",
      "rank2   Jack   34\n",
      "rank3  Steve   29\n",
      "rank4  Ricky   42\n",
      "区域的选择，通过行列选择：\n",
      "rank3    29\n",
      "rank4    42\n",
      "Name: Age, dtype: int64\n",
      "区域的选择，通过行列选择：\n",
      "rank3    29\n",
      "rank4    42\n",
      "Name: Age, dtype: int64\n",
      "区域的选择，通过行列选择：\n",
      "rank2     Jack\n",
      "rank4    Ricky\n",
      "Name: Name, dtype: object\n"
     ]
    }
   ],
   "source": [
    "import pandas as pd\n",
    "data={'Name':['Tom','Jack','Steve','Ricky'],'Age':[28,34,29,42]}\n",
    "df=pd.DataFrame(data,index=['rank1','rank2','rank3','rank4'])\n",
    "print(df,end='\\n')\n",
    "print('区域的选择，通过行列选择：',df[2:]['Age'],sep='\\n',end='\\n')\n",
    "print('区域的选择，通过行列选择：',df['Age'][2:],sep='\\n',end='\\n')\n",
    "print('区域的选择，通过行列选择：',df[df['Age']>30]['Name'],sep='\\n',end='\\n')"
   ]
  },
  {
   "cell_type": "code",
   "execution_count": 6,
   "id": "df6a69c8",
   "metadata": {},
   "outputs": [
    {
     "name": "stdout",
     "output_type": "stream",
     "text": [
      "        Name  Age\n",
      "rank1    Tom   28\n",
      "rank2   Jack   34\n",
      "rank3  Steve   29\n",
      "rank4  Ricky   42\n",
      "区域的选择，通过df.loc选择：\n",
      "       Age   Name\n",
      "rank2   34   Jack\n",
      "rank3   29  Steve\n",
      "rank4   42  Ricky\n",
      "区域的选择，通过行列选择：\n",
      "rank1     Tom\n",
      "rank2    Jack\n",
      "Name: Name, dtype: object\n",
      "区域的选择，通过行列选择：\n",
      "rank2     Jack\n",
      "rank4    Ricky\n",
      "Name: Name, dtype: object\n"
     ]
    }
   ],
   "source": [
    "\n",
    "data={'Name':['Tom','Jack','Steve','Ricky'],'Age':[28,34,29,42]}\n",
    "df=pd.DataFrame(data,index=['rank1','rank2','rank3','rank4'])\n",
    "print(df,end='\\n')\n",
    "print('区域的选择，通过df.loc选择：',df.loc['rank2':,['Age','Name']],sep='\\n',end='\\n')\n",
    "print('区域的选择，通过行列选择：',df.iloc[:2,0],sep='\\n',end='\\n')\n",
    "print('区域的选择，通过行列选择：',df.iloc[[1,3],0],sep='\\n',end='\\n')"
   ]
  },
  {
   "cell_type": "code",
   "execution_count": 8,
   "id": "bc740ad8",
   "metadata": {},
   "outputs": [
    {
     "name": "stdout",
     "output_type": "stream",
     "text": [
      "        Name  Age\n",
      "rank1    Tom   28\n",
      "rank2   Jack   34\n",
      "rank3  Steve   29\n",
      "rank4  Ricky   42\n",
      "某个数值的选取，通过df\n",
      "34\n",
      "某个数值的选取，通过df\n",
      "34\n"
     ]
    }
   ],
   "source": [
    "data={'Name':['Tom','Jack','Steve','Ricky'],'Age':[28,34,29,42]}\n",
    "df=pd.DataFrame(data,index=['rank1','rank2','rank3','rank4'])\n",
    "print(df,end='\\n')\n",
    "print('某个数值的选取，通过df',df.at['rank2','Age'],sep='\\n',end='\\n')\n",
    "print('某个数值的选取，通过df',df.iat[1,1],sep='\\n',end='\\n')"
   ]
  },
  {
   "cell_type": "code",
   "execution_count": 13,
   "id": "29b531e6",
   "metadata": {},
   "outputs": [
    {
     "name": "stdout",
     "output_type": "stream",
     "text": [
      "   工号  姓名       日期         时段  交易额      柜台\n",
      "0  1001  张三 2019-04-01   9:00-14:00    1369    化妆品\n",
      "1  1002  李四 2019-04-01  14:00-21:00    1005    化妆品\n",
      "2  1003  王五 2019-04-01   9:00-14:00    1460      食品\n",
      "3  1004  赵六 2019-04-01  14:00-21:00    1270      食品\n",
      "4  1005  周七 2019-04-01   9:00-14:00    1123    日用品\n",
      "5  1006  钱八 2019-04-01  14:00-21:00    1321    日用品\n",
      "6  1007  孙九 2019-04-01   9:00-14:00    1633  蔬菜水果\n",
      "7  1007  孙九 2019-04-01  14:00-21:00    1364  蔬菜水果\n",
      "交易额的最大值： 1633\n",
      "交易额的最小值： 1005\n",
      "交易额和： 10545\n",
      "交易额的平均值： 1318.125\n",
      "交易额的统计信息：\n",
      "count       8.000000\n",
      "mean     1318.125000\n",
      "std       193.617028\n",
      "min      1005.000000\n",
      "25%      1233.250000\n",
      "50%      1342.500000\n",
      "75%      1391.750000\n",
      "max      1633.000000\n",
      "Name: 交易额, dtype: float64\n"
     ]
    }
   ],
   "source": [
    "pd.set_option('display.unicode.ambiguous_as_wide',True)\n",
    "pd.set_option('display.unicode.east_asian_width',True)\n",
    "\n",
    "df=pd.read_excel(r'F:\\超市营业额.xlsx',sheet_name='Sheet1')\n",
    "print(df)\n",
    "print('交易额的最大值：',df['交易额'].max())\n",
    "print('交易额的最小值：',df['交易额'].min())\n",
    "print('交易额和：',df['交易额'].sum())\n",
    "print('交易额的平均值：',df['交易额'].mean())\n",
    "print('交易额的统计信息：',df['交易额'].describe(),sep='\\n')"
   ]
  },
  {
   "cell_type": "code",
   "execution_count": 18,
   "id": "4151c621",
   "metadata": {},
   "outputs": [
    {
     "name": "stdout",
     "output_type": "stream",
     "text": [
      "原始数据:---\n",
      "   A  B   C   D\n",
      "0  3  1  -5 -50\n",
      "1  3  2  -4 -40\n",
      "2  3  3  15  15\n",
      "3  3  4   4  40\n",
      "4  3  5   5  50\n",
      "平均值:---\n",
      "A    3.0\n",
      "B    3.0\n",
      "C    3.0\n",
      "D    3.0\n",
      "dtype: float64\n",
      "标准差:---\n",
      "A     0.000000\n",
      "B     1.581139\n",
      "C     8.093207\n",
      "D    45.771170\n",
      "dtype: float64\n",
      "标准差的平方:---\n",
      "A       0.0\n",
      "B       2.5\n",
      "C      65.5\n",
      "D    2095.0\n",
      "dtype: float64\n",
      "协方差:---\n",
      "     A     B      C       D\n",
      "A  0.0   0.0    0.0     0.0\n",
      "B  0.0   2.5    7.0    70.0\n",
      "C  0.0   7.0   65.5   250.0\n",
      "D  0.0  70.0  250.0  2095.0\n"
     ]
    }
   ],
   "source": [
    "df=pd.DataFrame({'A':[3,3,3,3,3],'B':[1,2,3,4,5],'C':[-5,-4,15,4,5],'D':[-50,-40,15,40,50]})\n",
    "print('原始数据:---',sep='\\n')\n",
    "print(df)\n",
    "print('平均值:---',sep='\\n')\n",
    "print(df.mean())\n",
    "print('标准差:---',sep='\\n')\n",
    "print(df.std())\n",
    "print('标准差的平方:---',sep='\\n')\n",
    "print(df.std()**2)\n",
    "print('协方差:---',sep='\\n')\n",
    "print(df.cov())"
   ]
  },
  {
   "cell_type": "code",
   "execution_count": 20,
   "id": "5d1a9f64",
   "metadata": {},
   "outputs": [
    {
     "data": {
      "text/html": [
       "<div>\n",
       "<style scoped>\n",
       "    .dataframe tbody tr th:only-of-type {\n",
       "        vertical-align: middle;\n",
       "    }\n",
       "\n",
       "    .dataframe tbody tr th {\n",
       "        vertical-align: top;\n",
       "    }\n",
       "\n",
       "    .dataframe thead th {\n",
       "        text-align: right;\n",
       "    }\n",
       "</style>\n",
       "<table border=\"1\" class=\"dataframe\">\n",
       "  <thead>\n",
       "    <tr style=\"text-align: right;\">\n",
       "      <th></th>\n",
       "      <th>b</th>\n",
       "      <th>a</th>\n",
       "      <th>c</th>\n",
       "    </tr>\n",
       "  </thead>\n",
       "  <tbody>\n",
       "    <tr>\n",
       "      <th>2</th>\n",
       "      <td>1</td>\n",
       "      <td>4</td>\n",
       "      <td>1</td>\n",
       "    </tr>\n",
       "    <tr>\n",
       "      <th>0</th>\n",
       "      <td>2</td>\n",
       "      <td>3</td>\n",
       "      <td>3</td>\n",
       "    </tr>\n",
       "    <tr>\n",
       "      <th>1</th>\n",
       "      <td>3</td>\n",
       "      <td>2</td>\n",
       "      <td>8</td>\n",
       "    </tr>\n",
       "    <tr>\n",
       "      <th>3</th>\n",
       "      <td>2</td>\n",
       "      <td>1</td>\n",
       "      <td>2</td>\n",
       "    </tr>\n",
       "  </tbody>\n",
       "</table>\n",
       "</div>"
      ],
      "text/plain": [
       "   b  a  c\n",
       "2  1  4  1\n",
       "0  2  3  3\n",
       "1  3  2  8\n",
       "3  2  1  2"
      ]
     },
     "execution_count": 20,
     "metadata": {},
     "output_type": "execute_result"
    }
   ],
   "source": [
    "df=pd.DataFrame({'b':[1,2,3,2],'a':[4,3,2,1],'c':[1,3,8,2]},index=[2,0,1,3])\n",
    "df"
   ]
  },
  {
   "cell_type": "code",
   "execution_count": 21,
   "id": "11c1827c",
   "metadata": {},
   "outputs": [
    {
     "data": {
      "text/html": [
       "<div>\n",
       "<style scoped>\n",
       "    .dataframe tbody tr th:only-of-type {\n",
       "        vertical-align: middle;\n",
       "    }\n",
       "\n",
       "    .dataframe tbody tr th {\n",
       "        vertical-align: top;\n",
       "    }\n",
       "\n",
       "    .dataframe thead th {\n",
       "        text-align: right;\n",
       "    }\n",
       "</style>\n",
       "<table border=\"1\" class=\"dataframe\">\n",
       "  <thead>\n",
       "    <tr style=\"text-align: right;\">\n",
       "      <th></th>\n",
       "      <th>b</th>\n",
       "      <th>a</th>\n",
       "      <th>c</th>\n",
       "    </tr>\n",
       "  </thead>\n",
       "  <tbody>\n",
       "    <tr>\n",
       "      <th>0</th>\n",
       "      <td>2</td>\n",
       "      <td>3</td>\n",
       "      <td>3</td>\n",
       "    </tr>\n",
       "    <tr>\n",
       "      <th>1</th>\n",
       "      <td>3</td>\n",
       "      <td>2</td>\n",
       "      <td>8</td>\n",
       "    </tr>\n",
       "    <tr>\n",
       "      <th>2</th>\n",
       "      <td>1</td>\n",
       "      <td>4</td>\n",
       "      <td>1</td>\n",
       "    </tr>\n",
       "    <tr>\n",
       "      <th>3</th>\n",
       "      <td>2</td>\n",
       "      <td>1</td>\n",
       "      <td>2</td>\n",
       "    </tr>\n",
       "  </tbody>\n",
       "</table>\n",
       "</div>"
      ],
      "text/plain": [
       "   b  a  c\n",
       "0  2  3  3\n",
       "1  3  2  8\n",
       "2  1  4  1\n",
       "3  2  1  2"
      ]
     },
     "execution_count": 21,
     "metadata": {},
     "output_type": "execute_result"
    }
   ],
   "source": [
    "df=pd.DataFrame({'b':[1,2,3,2],'a':[4,3,2,1],'c':[1,3,8,2]},index=[2,0,1,3])\n",
    "df.sort_index()"
   ]
  },
  {
   "cell_type": "code",
   "execution_count": 22,
   "id": "e6c40f96",
   "metadata": {},
   "outputs": [
    {
     "data": {
      "text/html": [
       "<div>\n",
       "<style scoped>\n",
       "    .dataframe tbody tr th:only-of-type {\n",
       "        vertical-align: middle;\n",
       "    }\n",
       "\n",
       "    .dataframe tbody tr th {\n",
       "        vertical-align: top;\n",
       "    }\n",
       "\n",
       "    .dataframe thead th {\n",
       "        text-align: right;\n",
       "    }\n",
       "</style>\n",
       "<table border=\"1\" class=\"dataframe\">\n",
       "  <thead>\n",
       "    <tr style=\"text-align: right;\">\n",
       "      <th></th>\n",
       "      <th>a</th>\n",
       "      <th>b</th>\n",
       "      <th>c</th>\n",
       "    </tr>\n",
       "  </thead>\n",
       "  <tbody>\n",
       "    <tr>\n",
       "      <th>2</th>\n",
       "      <td>4</td>\n",
       "      <td>1</td>\n",
       "      <td>1</td>\n",
       "    </tr>\n",
       "    <tr>\n",
       "      <th>0</th>\n",
       "      <td>3</td>\n",
       "      <td>2</td>\n",
       "      <td>3</td>\n",
       "    </tr>\n",
       "    <tr>\n",
       "      <th>1</th>\n",
       "      <td>2</td>\n",
       "      <td>3</td>\n",
       "      <td>8</td>\n",
       "    </tr>\n",
       "    <tr>\n",
       "      <th>3</th>\n",
       "      <td>1</td>\n",
       "      <td>2</td>\n",
       "      <td>2</td>\n",
       "    </tr>\n",
       "  </tbody>\n",
       "</table>\n",
       "</div>"
      ],
      "text/plain": [
       "   a  b  c\n",
       "2  4  1  1\n",
       "0  3  2  3\n",
       "1  2  3  8\n",
       "3  1  2  2"
      ]
     },
     "execution_count": 22,
     "metadata": {},
     "output_type": "execute_result"
    }
   ],
   "source": [
    "df=pd.DataFrame({'b':[1,2,3,2],'a':[4,3,2,1],'c':[1,3,8,2]},index=[2,0,1,3])\n",
    "df.sort_index(axis=1)  #按照列标签进行排序"
   ]
  },
  {
   "cell_type": "code",
   "execution_count": 23,
   "id": "62c21786",
   "metadata": {},
   "outputs": [
    {
     "data": {
      "text/html": [
       "<div>\n",
       "<style scoped>\n",
       "    .dataframe tbody tr th:only-of-type {\n",
       "        vertical-align: middle;\n",
       "    }\n",
       "\n",
       "    .dataframe tbody tr th {\n",
       "        vertical-align: top;\n",
       "    }\n",
       "\n",
       "    .dataframe thead th {\n",
       "        text-align: right;\n",
       "    }\n",
       "</style>\n",
       "<table border=\"1\" class=\"dataframe\">\n",
       "  <thead>\n",
       "    <tr style=\"text-align: right;\">\n",
       "      <th></th>\n",
       "      <th>c</th>\n",
       "      <th>b</th>\n",
       "      <th>a</th>\n",
       "    </tr>\n",
       "  </thead>\n",
       "  <tbody>\n",
       "    <tr>\n",
       "      <th>2</th>\n",
       "      <td>1</td>\n",
       "      <td>1</td>\n",
       "      <td>4</td>\n",
       "    </tr>\n",
       "    <tr>\n",
       "      <th>0</th>\n",
       "      <td>3</td>\n",
       "      <td>2</td>\n",
       "      <td>3</td>\n",
       "    </tr>\n",
       "    <tr>\n",
       "      <th>1</th>\n",
       "      <td>8</td>\n",
       "      <td>3</td>\n",
       "      <td>2</td>\n",
       "    </tr>\n",
       "    <tr>\n",
       "      <th>3</th>\n",
       "      <td>2</td>\n",
       "      <td>2</td>\n",
       "      <td>1</td>\n",
       "    </tr>\n",
       "  </tbody>\n",
       "</table>\n",
       "</div>"
      ],
      "text/plain": [
       "   c  b  a\n",
       "2  1  1  4\n",
       "0  3  2  3\n",
       "1  8  3  2\n",
       "3  2  2  1"
      ]
     },
     "execution_count": 23,
     "metadata": {},
     "output_type": "execute_result"
    }
   ],
   "source": [
    "df=pd.DataFrame({'b':[1,2,3,2],'a':[4,3,2,1],'c':[1,3,8,2]},index=[2,0,1,3])\n",
    "df.sort_index(axis=1,ascending=False)"
   ]
  },
  {
   "cell_type": "code",
   "execution_count": 24,
   "id": "e8833a4a",
   "metadata": {},
   "outputs": [
    {
     "data": {
      "text/html": [
       "<div>\n",
       "<style scoped>\n",
       "    .dataframe tbody tr th:only-of-type {\n",
       "        vertical-align: middle;\n",
       "    }\n",
       "\n",
       "    .dataframe tbody tr th {\n",
       "        vertical-align: top;\n",
       "    }\n",
       "\n",
       "    .dataframe thead th {\n",
       "        text-align: right;\n",
       "    }\n",
       "</style>\n",
       "<table border=\"1\" class=\"dataframe\">\n",
       "  <thead>\n",
       "    <tr style=\"text-align: right;\">\n",
       "      <th></th>\n",
       "      <th>b</th>\n",
       "      <th>a</th>\n",
       "      <th>c</th>\n",
       "    </tr>\n",
       "  </thead>\n",
       "  <tbody>\n",
       "    <tr>\n",
       "      <th>2</th>\n",
       "      <td>1</td>\n",
       "      <td>4</td>\n",
       "      <td>1</td>\n",
       "    </tr>\n",
       "    <tr>\n",
       "      <th>0</th>\n",
       "      <td>2</td>\n",
       "      <td>3</td>\n",
       "      <td>3</td>\n",
       "    </tr>\n",
       "    <tr>\n",
       "      <th>3</th>\n",
       "      <td>2</td>\n",
       "      <td>1</td>\n",
       "      <td>2</td>\n",
       "    </tr>\n",
       "    <tr>\n",
       "      <th>1</th>\n",
       "      <td>3</td>\n",
       "      <td>2</td>\n",
       "      <td>8</td>\n",
       "    </tr>\n",
       "  </tbody>\n",
       "</table>\n",
       "</div>"
      ],
      "text/plain": [
       "   b  a  c\n",
       "2  1  4  1\n",
       "0  2  3  3\n",
       "3  2  1  2\n",
       "1  3  2  8"
      ]
     },
     "execution_count": 24,
     "metadata": {},
     "output_type": "execute_result"
    }
   ],
   "source": [
    "df=pd.DataFrame({'b':[1,2,3,2],'a':[4,3,2,1],'c':[1,3,8,2]},index=[2,0,1,3])\n",
    "df.sort_values(by='b')"
   ]
  },
  {
   "cell_type": "code",
   "execution_count": 28,
   "id": "fadb585c",
   "metadata": {},
   "outputs": [
    {
     "data": {
      "text/html": [
       "<div>\n",
       "<style scoped>\n",
       "    .dataframe tbody tr th:only-of-type {\n",
       "        vertical-align: middle;\n",
       "    }\n",
       "\n",
       "    .dataframe tbody tr th {\n",
       "        vertical-align: top;\n",
       "    }\n",
       "\n",
       "    .dataframe thead th {\n",
       "        text-align: right;\n",
       "    }\n",
       "</style>\n",
       "<table border=\"1\" class=\"dataframe\">\n",
       "  <thead>\n",
       "    <tr style=\"text-align: right;\">\n",
       "      <th></th>\n",
       "      <th>b</th>\n",
       "      <th>a</th>\n",
       "      <th>c</th>\n",
       "    </tr>\n",
       "  </thead>\n",
       "  <tbody>\n",
       "    <tr>\n",
       "      <th>1</th>\n",
       "      <td>3</td>\n",
       "      <td>2</td>\n",
       "      <td>8</td>\n",
       "    </tr>\n",
       "    <tr>\n",
       "      <th>3</th>\n",
       "      <td>2</td>\n",
       "      <td>1</td>\n",
       "      <td>2</td>\n",
       "    </tr>\n",
       "    <tr>\n",
       "      <th>0</th>\n",
       "      <td>2</td>\n",
       "      <td>3</td>\n",
       "      <td>3</td>\n",
       "    </tr>\n",
       "    <tr>\n",
       "      <th>2</th>\n",
       "      <td>1</td>\n",
       "      <td>4</td>\n",
       "      <td>1</td>\n",
       "    </tr>\n",
       "  </tbody>\n",
       "</table>\n",
       "</div>"
      ],
      "text/plain": [
       "   b  a  c\n",
       "1  3  2  8\n",
       "3  2  1  2\n",
       "0  2  3  3\n",
       "2  1  4  1"
      ]
     },
     "execution_count": 28,
     "metadata": {},
     "output_type": "execute_result"
    }
   ],
   "source": [
    "df=pd.DataFrame({'b':[1,2,3,2],'a':[4,3,2,1],'c':[1,3,8,2]},index=[2,0,1,3])\n",
    "df.sort_values(by=['b','a'],ascending=[False,True])"
   ]
  },
  {
   "cell_type": "code",
   "execution_count": 8,
   "id": "fcfba5a7",
   "metadata": {},
   "outputs": [
    {
     "data": {
      "text/html": [
       "<div>\n",
       "<style scoped>\n",
       "    .dataframe tbody tr th:only-of-type {\n",
       "        vertical-align: middle;\n",
       "    }\n",
       "\n",
       "    .dataframe tbody tr th {\n",
       "        vertical-align: top;\n",
       "    }\n",
       "\n",
       "    .dataframe thead th {\n",
       "        text-align: right;\n",
       "    }\n",
       "</style>\n",
       "<table border=\"1\" class=\"dataframe\">\n",
       "  <thead>\n",
       "    <tr style=\"text-align: right;\">\n",
       "      <th></th>\n",
       "      <th>a</th>\n",
       "      <th>c</th>\n",
       "      <th>b</th>\n",
       "    </tr>\n",
       "  </thead>\n",
       "  <tbody>\n",
       "    <tr>\n",
       "      <th>2</th>\n",
       "      <td>4</td>\n",
       "      <td>1</td>\n",
       "      <td>1</td>\n",
       "    </tr>\n",
       "    <tr>\n",
       "      <th>0</th>\n",
       "      <td>3</td>\n",
       "      <td>3</td>\n",
       "      <td>2</td>\n",
       "    </tr>\n",
       "    <tr>\n",
       "      <th>1</th>\n",
       "      <td>2</td>\n",
       "      <td>8</td>\n",
       "      <td>3</td>\n",
       "    </tr>\n",
       "    <tr>\n",
       "      <th>3</th>\n",
       "      <td>1</td>\n",
       "      <td>2</td>\n",
       "      <td>2</td>\n",
       "    </tr>\n",
       "  </tbody>\n",
       "</table>\n",
       "</div>"
      ],
      "text/plain": [
       "   a  c  b\n",
       "2  4  1  1\n",
       "0  3  3  2\n",
       "1  2  8  3\n",
       "3  1  2  2"
      ]
     },
     "execution_count": 8,
     "metadata": {},
     "output_type": "execute_result"
    }
   ],
   "source": [
    "df=pd.DataFrame({'b':[1,2,3,2],'a':[4,3,2,1],'c':[1,3,8,2]},index=[2,0,1,3])\n",
    "df.sort_values(by=[3,0],axis=1,ascending=[True,False])"
   ]
  },
  {
   "cell_type": "code",
   "execution_count": 9,
   "id": "279f131c",
   "metadata": {},
   "outputs": [
    {
     "data": {
      "text/html": [
       "<div>\n",
       "<style scoped>\n",
       "    .dataframe tbody tr th:only-of-type {\n",
       "        vertical-align: middle;\n",
       "    }\n",
       "\n",
       "    .dataframe tbody tr th {\n",
       "        vertical-align: top;\n",
       "    }\n",
       "\n",
       "    .dataframe thead th {\n",
       "        text-align: right;\n",
       "    }\n",
       "</style>\n",
       "<table border=\"1\" class=\"dataframe\">\n",
       "  <thead>\n",
       "    <tr style=\"text-align: right;\">\n",
       "      <th></th>\n",
       "      <th>company</th>\n",
       "      <th>salary</th>\n",
       "      <th>age</th>\n",
       "    </tr>\n",
       "  </thead>\n",
       "  <tbody>\n",
       "    <tr>\n",
       "      <th>0</th>\n",
       "      <td>A</td>\n",
       "      <td>20</td>\n",
       "      <td>20</td>\n",
       "    </tr>\n",
       "    <tr>\n",
       "      <th>1</th>\n",
       "      <td>A</td>\n",
       "      <td>14</td>\n",
       "      <td>28</td>\n",
       "    </tr>\n",
       "    <tr>\n",
       "      <th>2</th>\n",
       "      <td>A</td>\n",
       "      <td>10</td>\n",
       "      <td>34</td>\n",
       "    </tr>\n",
       "    <tr>\n",
       "      <th>3</th>\n",
       "      <td>B</td>\n",
       "      <td>30</td>\n",
       "      <td>22</td>\n",
       "    </tr>\n",
       "    <tr>\n",
       "      <th>4</th>\n",
       "      <td>B</td>\n",
       "      <td>7</td>\n",
       "      <td>38</td>\n",
       "    </tr>\n",
       "    <tr>\n",
       "      <th>5</th>\n",
       "      <td>C</td>\n",
       "      <td>46</td>\n",
       "      <td>34</td>\n",
       "    </tr>\n",
       "    <tr>\n",
       "      <th>6</th>\n",
       "      <td>B</td>\n",
       "      <td>33</td>\n",
       "      <td>44</td>\n",
       "    </tr>\n",
       "    <tr>\n",
       "      <th>7</th>\n",
       "      <td>A</td>\n",
       "      <td>15</td>\n",
       "      <td>43</td>\n",
       "    </tr>\n",
       "    <tr>\n",
       "      <th>8</th>\n",
       "      <td>C</td>\n",
       "      <td>39</td>\n",
       "      <td>47</td>\n",
       "    </tr>\n",
       "    <tr>\n",
       "      <th>9</th>\n",
       "      <td>A</td>\n",
       "      <td>42</td>\n",
       "      <td>37</td>\n",
       "    </tr>\n",
       "  </tbody>\n",
       "</table>\n",
       "</div>"
      ],
      "text/plain": [
       "  company  salary  age\n",
       "0       A      20   20\n",
       "1       A      14   28\n",
       "2       A      10   34\n",
       "3       B      30   22\n",
       "4       B       7   38\n",
       "5       C      46   34\n",
       "6       B      33   44\n",
       "7       A      15   43\n",
       "8       C      39   47\n",
       "9       A      42   37"
      ]
     },
     "execution_count": 9,
     "metadata": {},
     "output_type": "execute_result"
    }
   ],
   "source": [
    "import numpy as np\n",
    "import pandas as pd\n",
    "company=[\"A\",\"B\",\"C\"]\n",
    "data=pd.DataFrame({\n",
    "    \"company\":[company[x] for x in np.random.randint(0,len(company),10)],\n",
    "    \"salary\":np.random.randint(5,50,10),\n",
    "    \"age\":np.random.randint(15,50,10)\n",
    "    \n",
    "}\n",
    ")\n",
    "data"
   ]
  },
  {
   "cell_type": "code",
   "execution_count": 13,
   "id": "2f0fd11b",
   "metadata": {},
   "outputs": [
    {
     "data": {
      "text/plain": [
       "<pandas.core.groupby.generic.DataFrameGroupBy object at 0x000001B83F7832B0>"
      ]
     },
     "execution_count": 13,
     "metadata": {},
     "output_type": "execute_result"
    }
   ],
   "source": [
    "import numpy as np\n",
    "company=[\"A\",\"B\",\"C\"]\n",
    "data=pd.DataFrame({\n",
    "    \"company\":[company[x] for x in np.random.randint(0,len(company),10)],\n",
    "    \"salary\":np.random.randint(5,50,10),\n",
    "    \"age\":np.random.randint(15,50,10)\n",
    "    \n",
    "}\n",
    ")\n",
    "group=data.groupby(\"company\")\n",
    "group\n"
   ]
  },
  {
   "cell_type": "code",
   "execution_count": 11,
   "id": "22c2413f",
   "metadata": {},
   "outputs": [
    {
     "data": {
      "text/plain": [
       "[('A',\n",
       "    company  salary  age\n",
       "  0       A      28   27\n",
       "  1       A      40   32\n",
       "  2       A      32   16\n",
       "  5       A      19   44\n",
       "  6       A      18   23),\n",
       " ('B',\n",
       "    company  salary  age\n",
       "  4       B      47   41\n",
       "  8       B      16   23\n",
       "  9       B      26   22),\n",
       " ('C',\n",
       "    company  salary  age\n",
       "  3       C      47   34\n",
       "  7       C      34   26)]"
      ]
     },
     "execution_count": 11,
     "metadata": {},
     "output_type": "execute_result"
    }
   ],
   "source": [
    "list(group)"
   ]
  },
  {
   "cell_type": "code",
   "execution_count": 14,
   "id": "dc16cffb",
   "metadata": {},
   "outputs": [
    {
     "data": {
      "text/html": [
       "<div>\n",
       "<style scoped>\n",
       "    .dataframe tbody tr th:only-of-type {\n",
       "        vertical-align: middle;\n",
       "    }\n",
       "\n",
       "    .dataframe tbody tr th {\n",
       "        vertical-align: top;\n",
       "    }\n",
       "\n",
       "    .dataframe thead th {\n",
       "        text-align: right;\n",
       "    }\n",
       "</style>\n",
       "<table border=\"1\" class=\"dataframe\">\n",
       "  <thead>\n",
       "    <tr style=\"text-align: right;\">\n",
       "      <th></th>\n",
       "      <th>salary</th>\n",
       "      <th>age</th>\n",
       "    </tr>\n",
       "    <tr>\n",
       "      <th>company</th>\n",
       "      <th></th>\n",
       "      <th></th>\n",
       "    </tr>\n",
       "  </thead>\n",
       "  <tbody>\n",
       "    <tr>\n",
       "      <th>A</th>\n",
       "      <td>29.000000</td>\n",
       "      <td>25.0</td>\n",
       "    </tr>\n",
       "    <tr>\n",
       "      <th>B</th>\n",
       "      <td>21.333333</td>\n",
       "      <td>36.5</td>\n",
       "    </tr>\n",
       "    <tr>\n",
       "      <th>C</th>\n",
       "      <td>19.000000</td>\n",
       "      <td>24.0</td>\n",
       "    </tr>\n",
       "  </tbody>\n",
       "</table>\n",
       "</div>"
      ],
      "text/plain": [
       "            salary   age\n",
       "company                 \n",
       "A        29.000000  25.0\n",
       "B        21.333333  36.5\n",
       "C        19.000000  24.0"
      ]
     },
     "execution_count": 14,
     "metadata": {},
     "output_type": "execute_result"
    }
   ],
   "source": [
    "import numpy as np\n",
    "company=[\"A\",\"B\",\"C\"]\n",
    "data=pd.DataFrame({\n",
    "    \"company\":[company[x] for x in np.random.randint(0,len(company),10)],\n",
    "    \"salary\":np.random.randint(5,50,10),\n",
    "    \"age\":np.random.randint(15,50,10)\n",
    "    \n",
    "}\n",
    ")\n",
    "group=data.groupby('company').agg('mean')\n",
    "group"
   ]
  },
  {
   "cell_type": "code",
   "execution_count": 16,
   "id": "3eff6882",
   "metadata": {},
   "outputs": [
    {
     "data": {
      "text/html": [
       "<div>\n",
       "<style scoped>\n",
       "    .dataframe tbody tr th:only-of-type {\n",
       "        vertical-align: middle;\n",
       "    }\n",
       "\n",
       "    .dataframe tbody tr th {\n",
       "        vertical-align: top;\n",
       "    }\n",
       "\n",
       "    .dataframe thead th {\n",
       "        text-align: right;\n",
       "    }\n",
       "</style>\n",
       "<table border=\"1\" class=\"dataframe\">\n",
       "  <thead>\n",
       "    <tr style=\"text-align: right;\">\n",
       "      <th></th>\n",
       "      <th>salary</th>\n",
       "      <th>age</th>\n",
       "    </tr>\n",
       "    <tr>\n",
       "      <th>company</th>\n",
       "      <th></th>\n",
       "      <th></th>\n",
       "    </tr>\n",
       "  </thead>\n",
       "  <tbody>\n",
       "    <tr>\n",
       "      <th>A</th>\n",
       "      <td>37.5</td>\n",
       "      <td>44</td>\n",
       "    </tr>\n",
       "    <tr>\n",
       "      <th>B</th>\n",
       "      <td>25.0</td>\n",
       "      <td>36</td>\n",
       "    </tr>\n",
       "    <tr>\n",
       "      <th>C</th>\n",
       "      <td>21.0</td>\n",
       "      <td>41</td>\n",
       "    </tr>\n",
       "  </tbody>\n",
       "</table>\n",
       "</div>"
      ],
      "text/plain": [
       "         salary  age\n",
       "company             \n",
       "A          37.5   44\n",
       "B          25.0   36\n",
       "C          21.0   41"
      ]
     },
     "execution_count": 16,
     "metadata": {},
     "output_type": "execute_result"
    }
   ],
   "source": [
    "import numpy as np\n",
    "company=[\"A\",\"B\",\"C\"]\n",
    "data=pd.DataFrame({\n",
    "    \"company\":[company[x] for x in np.random.randint(0,len(company),10)],\n",
    "    \"salary\":np.random.randint(5,50,10),\n",
    "    \"age\":np.random.randint(15,50,10)\n",
    "    \n",
    "}\n",
    ")\n",
    "group=data.groupby('company').agg({'salary':'median','age':'max'})\n",
    "group"
   ]
  },
  {
   "cell_type": "code",
   "execution_count": 17,
   "id": "67f090de",
   "metadata": {},
   "outputs": [
    {
     "name": "stdout",
     "output_type": "stream",
     "text": [
      "   工号  姓名        日期           时段  交易额    柜台\n",
      "0  1001  张三  2019-03-01   9：00-14：00  1664.0  化妆品\n",
      "1  1002  李四  2019-03-01  14：00-21：00   954.0  化妆品\n",
      "2  1003  王五  2019-03-01   9：00-14：00  1407.0    食品\n",
      "3  1004  赵六  2019-03-01  14：00-21：00  1320.0    食品\n",
      "4  1005  周七  2019-03-01   9：00-14：00   994.0  日用品\n"
     ]
    },
    {
     "data": {
      "text/plain": [
       "(249, 6)"
      ]
     },
     "execution_count": 17,
     "metadata": {},
     "output_type": "execute_result"
    }
   ],
   "source": [
    "pd.set_option('display.unicode.ambiguous_as_wide',True)\n",
    "pd.set_option('display.unicode.east_asian_width',True)\n",
    "\n",
    "df=pd.read_excel(r'F:\\超市营业额2.xlsx',sheet_name='Sheet1')\n",
    "print(df.head())\n",
    "df.shape"
   ]
  },
  {
   "cell_type": "code",
   "execution_count": 19,
   "id": "053fa215",
   "metadata": {},
   "outputs": [
    {
     "name": "stdout",
     "output_type": "stream",
     "text": [
      "     工号  姓名        日期          时段   交易额    柜台\n",
      "105  1001  张三  2019-03-14  9：00-14：00  12100.0  日用品\n",
      "223  1003  王五  2019-03-28  9：00-14：00   9031.0    食品\n"
     ]
    }
   ],
   "source": [
    "pd.set_option('display.unicode.ambiguous_as_wide',True)\n",
    "pd.set_option('display.unicode.east_asian_width',True)\n",
    "\n",
    "df=pd.read_excel(r'F:\\超市营业额2.xlsx',sheet_name='Sheet1')\n",
    "print(df[df['交易额']>5000])\n"
   ]
  },
  {
   "cell_type": "code",
   "execution_count": 20,
   "id": "ffcd43b5",
   "metadata": {},
   "outputs": [
    {
     "data": {
      "text/plain": [
       "(247, 6)"
      ]
     },
     "execution_count": 20,
     "metadata": {},
     "output_type": "execute_result"
    }
   ],
   "source": [
    "#删除异常值所在的行和列\n",
    "list_pop=df[df['交易额']>5000].index\n",
    "new_df=df.drop(index=list_pop)\n",
    "new_df.shape"
   ]
  },
  {
   "cell_type": "code",
   "execution_count": 21,
   "id": "e54e6f92",
   "metadata": {},
   "outputs": [
    {
     "name": "stdout",
     "output_type": "stream",
     "text": [
      "     工号  姓名        日期          时段  交易额    柜台\n",
      "105  1001  张三  2019-03-14  9：00-14：00  5000.0  日用品\n",
      "223  1003  王五  2019-03-28  9：00-14：00  5000.0    食品\n"
     ]
    }
   ],
   "source": [
    "\n",
    "df.loc[df['交易额']>5000,'交易额']=5000\n",
    "print(df[df['交易额']>=5000])"
   ]
  },
  {
   "cell_type": "code",
   "execution_count": 25,
   "id": "316f75cf",
   "metadata": {},
   "outputs": [
    {
     "data": {
      "text/html": [
       "<div>\n",
       "<style scoped>\n",
       "    .dataframe tbody tr th:only-of-type {\n",
       "        vertical-align: middle;\n",
       "    }\n",
       "\n",
       "    .dataframe tbody tr th {\n",
       "        vertical-align: top;\n",
       "    }\n",
       "\n",
       "    .dataframe thead th {\n",
       "        text-align: right;\n",
       "    }\n",
       "</style>\n",
       "<table border=\"1\" class=\"dataframe\">\n",
       "  <thead>\n",
       "    <tr style=\"text-align: right;\">\n",
       "      <th></th>\n",
       "      <th>工号</th>\n",
       "      <th>姓名</th>\n",
       "      <th>日期</th>\n",
       "      <th>时段</th>\n",
       "      <th>交易额</th>\n",
       "      <th>柜台</th>\n",
       "    </tr>\n",
       "  </thead>\n",
       "  <tbody>\n",
       "    <tr>\n",
       "      <th>0</th>\n",
       "      <td>False</td>\n",
       "      <td>False</td>\n",
       "      <td>False</td>\n",
       "      <td>False</td>\n",
       "      <td>False</td>\n",
       "      <td>False</td>\n",
       "    </tr>\n",
       "    <tr>\n",
       "      <th>1</th>\n",
       "      <td>False</td>\n",
       "      <td>False</td>\n",
       "      <td>False</td>\n",
       "      <td>False</td>\n",
       "      <td>False</td>\n",
       "      <td>False</td>\n",
       "    </tr>\n",
       "    <tr>\n",
       "      <th>2</th>\n",
       "      <td>False</td>\n",
       "      <td>False</td>\n",
       "      <td>False</td>\n",
       "      <td>False</td>\n",
       "      <td>False</td>\n",
       "      <td>False</td>\n",
       "    </tr>\n",
       "    <tr>\n",
       "      <th>3</th>\n",
       "      <td>False</td>\n",
       "      <td>False</td>\n",
       "      <td>False</td>\n",
       "      <td>False</td>\n",
       "      <td>False</td>\n",
       "      <td>False</td>\n",
       "    </tr>\n",
       "    <tr>\n",
       "      <th>4</th>\n",
       "      <td>False</td>\n",
       "      <td>False</td>\n",
       "      <td>False</td>\n",
       "      <td>False</td>\n",
       "      <td>False</td>\n",
       "      <td>False</td>\n",
       "    </tr>\n",
       "    <tr>\n",
       "      <th>...</th>\n",
       "      <td>...</td>\n",
       "      <td>...</td>\n",
       "      <td>...</td>\n",
       "      <td>...</td>\n",
       "      <td>...</td>\n",
       "      <td>...</td>\n",
       "    </tr>\n",
       "    <tr>\n",
       "      <th>244</th>\n",
       "      <td>False</td>\n",
       "      <td>False</td>\n",
       "      <td>False</td>\n",
       "      <td>False</td>\n",
       "      <td>False</td>\n",
       "      <td>False</td>\n",
       "    </tr>\n",
       "    <tr>\n",
       "      <th>245</th>\n",
       "      <td>False</td>\n",
       "      <td>False</td>\n",
       "      <td>False</td>\n",
       "      <td>False</td>\n",
       "      <td>False</td>\n",
       "      <td>False</td>\n",
       "    </tr>\n",
       "    <tr>\n",
       "      <th>246</th>\n",
       "      <td>False</td>\n",
       "      <td>False</td>\n",
       "      <td>False</td>\n",
       "      <td>False</td>\n",
       "      <td>False</td>\n",
       "      <td>False</td>\n",
       "    </tr>\n",
       "    <tr>\n",
       "      <th>247</th>\n",
       "      <td>False</td>\n",
       "      <td>False</td>\n",
       "      <td>False</td>\n",
       "      <td>False</td>\n",
       "      <td>False</td>\n",
       "      <td>False</td>\n",
       "    </tr>\n",
       "    <tr>\n",
       "      <th>248</th>\n",
       "      <td>False</td>\n",
       "      <td>False</td>\n",
       "      <td>False</td>\n",
       "      <td>False</td>\n",
       "      <td>False</td>\n",
       "      <td>False</td>\n",
       "    </tr>\n",
       "  </tbody>\n",
       "</table>\n",
       "<p>249 rows × 6 columns</p>\n",
       "</div>"
      ],
      "text/plain": [
       "      工号   姓名   日期   时段  交易额   柜台\n",
       "0    False  False  False  False   False  False\n",
       "1    False  False  False  False   False  False\n",
       "2    False  False  False  False   False  False\n",
       "3    False  False  False  False   False  False\n",
       "4    False  False  False  False   False  False\n",
       "..     ...    ...    ...    ...     ...    ...\n",
       "244  False  False  False  False   False  False\n",
       "245  False  False  False  False   False  False\n",
       "246  False  False  False  False   False  False\n",
       "247  False  False  False  False   False  False\n",
       "248  False  False  False  False   False  False\n",
       "\n",
       "[249 rows x 6 columns]"
      ]
     },
     "execution_count": 25,
     "metadata": {},
     "output_type": "execute_result"
    }
   ],
   "source": [
    "df=pd.read_excel(r'F:\\超市营业额2.xlsx',sheet_name='Sheet1')\n",
    "df.isnull()"
   ]
  },
  {
   "cell_type": "code",
   "execution_count": 27,
   "id": "e7aee368",
   "metadata": {},
   "outputs": [
    {
     "name": "stdout",
     "output_type": "stream",
     "text": [
      "110    True\n",
      "124    True\n",
      "168    True\n",
      "dtype: bool\n"
     ]
    },
    {
     "data": {
      "text/plain": [
       "交易额    True\n",
       "dtype: bool"
      ]
     },
     "execution_count": 27,
     "metadata": {},
     "output_type": "execute_result"
    }
   ],
   "source": [
    "Series_null=df.isnull().any(axis=1)\n",
    "print(Series_null[Series_null==True])\n",
    "\n",
    "Series_null=df.isnull().any(axis=0)\n",
    "Series_null[Series_null==True]\n"
   ]
  },
  {
   "cell_type": "code",
   "execution_count": 28,
   "id": "03680b6e",
   "metadata": {},
   "outputs": [
    {
     "name": "stdout",
     "output_type": "stream",
     "text": [
      "     工号  姓名        日期           时段  交易额    柜台\n",
      "110  1005  周七  2019-03-14  14：00-21：00     NaN  化妆品\n",
      "124  1006  钱八  2019-03-16  14：00-21：00     NaN    食品\n",
      "168  1005  周七  2019-03-21  14：00-21：00     NaN    食品\n"
     ]
    }
   ],
   "source": [
    "print(df.iloc[[110,124,168],:])"
   ]
  },
  {
   "cell_type": "code",
   "execution_count": 29,
   "id": "d24841b1",
   "metadata": {},
   "outputs": [
    {
     "name": "stdout",
     "output_type": "stream",
     "text": [
      "(249, 6)\n",
      "(246, 6)\n"
     ]
    }
   ],
   "source": [
    "df=pd.read_excel(r'F:\\超市营业额2.xlsx',sheet_name='Sheet1')\n",
    "print(df.shape)\n",
    "new_df=df.dropna()\n",
    "print(new_df.shape)"
   ]
  },
  {
   "cell_type": "code",
   "execution_count": 30,
   "id": "5339bc4d",
   "metadata": {},
   "outputs": [
    {
     "name": "stdout",
     "output_type": "stream",
     "text": [
      "     工号  姓名        日期           时段  交易额    柜台\n",
      "110  1005  周七  2019-03-14  14：00-21：00     NaN  化妆品\n",
      "124  1006  钱八  2019-03-16  14：00-21：00     NaN    食品\n",
      "168  1005  周七  2019-03-21  14：00-21：00     NaN    食品\n"
     ]
    }
   ],
   "source": [
    "print(df.iloc[[110,124,168],:])"
   ]
  },
  {
   "cell_type": "code",
   "execution_count": 31,
   "id": "b48c366f",
   "metadata": {},
   "outputs": [
    {
     "name": "stdout",
     "output_type": "stream",
     "text": [
      "     工号  姓名        日期           时段  交易额    柜台\n",
      "110  1005  周七  2019-03-14  14：00-21：00  1064.0  化妆品\n",
      "124  1006  钱八  2019-03-16  14：00-21：00  1064.0    食品\n",
      "168  1005  周七  2019-03-21  14：00-21：00  1064.0    食品\n"
     ]
    }
   ],
   "source": [
    "\n",
    "new_df=df.fillna(round(df['交易额'].mean()*0.8),inplace=False)\n",
    "print(new_df.iloc[[110,124,168],:])"
   ]
  },
  {
   "cell_type": "code",
   "execution_count": 33,
   "id": "94bd98d6",
   "metadata": {},
   "outputs": [
    {
     "data": {
      "text/html": [
       "<div>\n",
       "<style scoped>\n",
       "    .dataframe tbody tr th:only-of-type {\n",
       "        vertical-align: middle;\n",
       "    }\n",
       "\n",
       "    .dataframe tbody tr th {\n",
       "        vertical-align: top;\n",
       "    }\n",
       "\n",
       "    .dataframe thead th {\n",
       "        text-align: right;\n",
       "    }\n",
       "</style>\n",
       "<table border=\"1\" class=\"dataframe\">\n",
       "  <thead>\n",
       "    <tr style=\"text-align: right;\">\n",
       "      <th></th>\n",
       "      <th>工号</th>\n",
       "      <th>姓名</th>\n",
       "      <th>日期</th>\n",
       "      <th>时段</th>\n",
       "      <th>交易额</th>\n",
       "      <th>柜台</th>\n",
       "    </tr>\n",
       "  </thead>\n",
       "  <tbody>\n",
       "    <tr>\n",
       "      <th>103</th>\n",
       "      <td>1006</td>\n",
       "      <td>钱八</td>\n",
       "      <td>2019-03-13</td>\n",
       "      <td>14：00-21：00</td>\n",
       "      <td>1609.0</td>\n",
       "      <td>蔬菜水果</td>\n",
       "    </tr>\n",
       "    <tr>\n",
       "      <th>104</th>\n",
       "      <td>1006</td>\n",
       "      <td>钱八</td>\n",
       "      <td>2019-03-13</td>\n",
       "      <td>14：00-21：00</td>\n",
       "      <td>1609.0</td>\n",
       "      <td>蔬菜水果</td>\n",
       "    </tr>\n",
       "  </tbody>\n",
       "</table>\n",
       "</div>"
      ],
      "text/plain": [
       "     工号  姓名        日期           时段  交易额      柜台\n",
       "103  1006  钱八  2019-03-13  14：00-21：00  1609.0  蔬菜水果\n",
       "104  1006  钱八  2019-03-13  14：00-21：00  1609.0  蔬菜水果"
      ]
     },
     "execution_count": 33,
     "metadata": {},
     "output_type": "execute_result"
    }
   ],
   "source": [
    "\n",
    "df=pd.read_excel(r'F:\\超市营业额2.xlsx',sheet_name='Sheet1')\n",
    "df[df.duplicated(keep=False)]\n"
   ]
  },
  {
   "cell_type": "code",
   "execution_count": 34,
   "id": "58b2749b",
   "metadata": {},
   "outputs": [
    {
     "data": {
      "text/plain": [
       "(248, 6)"
      ]
     },
     "execution_count": 34,
     "metadata": {},
     "output_type": "execute_result"
    }
   ],
   "source": [
    "new_df=df.drop_duplicates()\n",
    "new_df.shape\n"
   ]
  },
  {
   "cell_type": "code",
   "execution_count": 38,
   "id": "afce4c7f",
   "metadata": {},
   "outputs": [
    {
     "data": {
      "text/html": [
       "<div>\n",
       "<style scoped>\n",
       "    .dataframe tbody tr th:only-of-type {\n",
       "        vertical-align: middle;\n",
       "    }\n",
       "\n",
       "    .dataframe tbody tr th {\n",
       "        vertical-align: top;\n",
       "    }\n",
       "\n",
       "    .dataframe thead th {\n",
       "        text-align: right;\n",
       "    }\n",
       "</style>\n",
       "<table border=\"1\" class=\"dataframe\">\n",
       "  <thead>\n",
       "    <tr style=\"text-align: right;\">\n",
       "      <th></th>\n",
       "      <th>类别</th>\n",
       "      <th>产地</th>\n",
       "      <th>项目名称</th>\n",
       "      <th>数量</th>\n",
       "      <th>价格</th>\n",
       "    </tr>\n",
       "  </thead>\n",
       "  <tbody>\n",
       "    <tr>\n",
       "      <th>0</th>\n",
       "      <td>水果</td>\n",
       "      <td>美国</td>\n",
       "      <td>苹果</td>\n",
       "      <td>5</td>\n",
       "      <td>5</td>\n",
       "    </tr>\n",
       "    <tr>\n",
       "      <th>1</th>\n",
       "      <td>水果</td>\n",
       "      <td>中国</td>\n",
       "      <td>梨</td>\n",
       "      <td>5</td>\n",
       "      <td>5</td>\n",
       "    </tr>\n",
       "    <tr>\n",
       "      <th>2</th>\n",
       "      <td>水果</td>\n",
       "      <td>中国</td>\n",
       "      <td>草莓</td>\n",
       "      <td>9</td>\n",
       "      <td>10</td>\n",
       "    </tr>\n",
       "    <tr>\n",
       "      <th>3</th>\n",
       "      <td>蔬菜</td>\n",
       "      <td>中国</td>\n",
       "      <td>番茄</td>\n",
       "      <td>3</td>\n",
       "      <td>3</td>\n",
       "    </tr>\n",
       "    <tr>\n",
       "      <th>4</th>\n",
       "      <td>蔬菜</td>\n",
       "      <td>新西兰</td>\n",
       "      <td>黄瓜</td>\n",
       "      <td>2</td>\n",
       "      <td>3</td>\n",
       "    </tr>\n",
       "    <tr>\n",
       "      <th>5</th>\n",
       "      <td>肉类</td>\n",
       "      <td>新西兰</td>\n",
       "      <td>羊肉</td>\n",
       "      <td>10</td>\n",
       "      <td>13</td>\n",
       "    </tr>\n",
       "    <tr>\n",
       "      <th>6</th>\n",
       "      <td>肉类</td>\n",
       "      <td>美国</td>\n",
       "      <td>牛肉</td>\n",
       "      <td>8</td>\n",
       "      <td>20</td>\n",
       "    </tr>\n",
       "  </tbody>\n",
       "</table>\n",
       "</div>"
      ],
      "text/plain": [
       "   类别    产地 项目名称  数量  价格\n",
       "0  水果    美国     苹果     5     5\n",
       "1  水果    中国       梨     5     5\n",
       "2  水果    中国     草莓     9    10\n",
       "3  蔬菜    中国     番茄     3     3\n",
       "4  蔬菜  新西兰     黄瓜     2     3\n",
       "5  肉类  新西兰     羊肉    10    13\n",
       "6  肉类    美国     牛肉     8    20"
      ]
     },
     "execution_count": 38,
     "metadata": {},
     "output_type": "execute_result"
    }
   ],
   "source": [
    "\n",
    "df=pd.DataFrame({'类别':['水果','水果','水果','蔬菜','蔬菜','肉类','肉类'],\n",
    "                '产地':['美国','中国','中国','中国','新西兰','新西兰','美国'],\n",
    "               '项目名称':['苹果','梨','草莓','番茄','黄瓜','羊肉','牛肉'],\n",
    "               '数量':[5,5,9,3,2,10,8],\n",
    "               '价格':[5,5,10,3,3,13,20]\n",
    "                })\n",
    "df\n"
   ]
  },
  {
   "cell_type": "code",
   "execution_count": 39,
   "id": "7061d2c3",
   "metadata": {},
   "outputs": [
    {
     "data": {
      "text/html": [
       "<div>\n",
       "<style scoped>\n",
       "    .dataframe tbody tr th:only-of-type {\n",
       "        vertical-align: middle;\n",
       "    }\n",
       "\n",
       "    .dataframe tbody tr th {\n",
       "        vertical-align: top;\n",
       "    }\n",
       "\n",
       "    .dataframe thead th {\n",
       "        text-align: right;\n",
       "    }\n",
       "</style>\n",
       "<table border=\"1\" class=\"dataframe\">\n",
       "  <thead>\n",
       "    <tr style=\"text-align: right;\">\n",
       "      <th>项目名称</th>\n",
       "      <th>梨</th>\n",
       "      <th>牛肉</th>\n",
       "      <th>番茄</th>\n",
       "      <th>羊肉</th>\n",
       "      <th>苹果</th>\n",
       "      <th>草莓</th>\n",
       "      <th>黄瓜</th>\n",
       "    </tr>\n",
       "    <tr>\n",
       "      <th>产地</th>\n",
       "      <th></th>\n",
       "      <th></th>\n",
       "      <th></th>\n",
       "      <th></th>\n",
       "      <th></th>\n",
       "      <th></th>\n",
       "      <th></th>\n",
       "    </tr>\n",
       "  </thead>\n",
       "  <tbody>\n",
       "    <tr>\n",
       "      <th>中国</th>\n",
       "      <td>5.0</td>\n",
       "      <td>NaN</td>\n",
       "      <td>3.0</td>\n",
       "      <td>NaN</td>\n",
       "      <td>NaN</td>\n",
       "      <td>10.0</td>\n",
       "      <td>NaN</td>\n",
       "    </tr>\n",
       "    <tr>\n",
       "      <th>新西兰</th>\n",
       "      <td>NaN</td>\n",
       "      <td>NaN</td>\n",
       "      <td>NaN</td>\n",
       "      <td>13.0</td>\n",
       "      <td>NaN</td>\n",
       "      <td>NaN</td>\n",
       "      <td>3.0</td>\n",
       "    </tr>\n",
       "    <tr>\n",
       "      <th>美国</th>\n",
       "      <td>NaN</td>\n",
       "      <td>20.0</td>\n",
       "      <td>NaN</td>\n",
       "      <td>NaN</td>\n",
       "      <td>5.0</td>\n",
       "      <td>NaN</td>\n",
       "      <td>NaN</td>\n",
       "    </tr>\n",
       "  </tbody>\n",
       "</table>\n",
       "</div>"
      ],
      "text/plain": [
       "项目名称   梨  牛肉  番茄  羊肉  苹果  草莓  黄瓜\n",
       "产地                                             \n",
       "中国      5.0   NaN   3.0   NaN   NaN  10.0   NaN\n",
       "新西兰    NaN   NaN   NaN  13.0   NaN   NaN   3.0\n",
       "美国      NaN  20.0   NaN   NaN   5.0   NaN   NaN"
      ]
     },
     "execution_count": 39,
     "metadata": {},
     "output_type": "execute_result"
    }
   ],
   "source": [
    "df.pivot(index='产地',columns='项目名称',values='价格')\n"
   ]
  },
  {
   "cell_type": "code",
   "execution_count": 40,
   "id": "607ed580",
   "metadata": {},
   "outputs": [
    {
     "data": {
      "text/html": [
       "<div>\n",
       "<style scoped>\n",
       "    .dataframe tbody tr th:only-of-type {\n",
       "        vertical-align: middle;\n",
       "    }\n",
       "\n",
       "    .dataframe tbody tr th {\n",
       "        vertical-align: top;\n",
       "    }\n",
       "\n",
       "    .dataframe thead th {\n",
       "        text-align: right;\n",
       "    }\n",
       "</style>\n",
       "<table border=\"1\" class=\"dataframe\">\n",
       "  <thead>\n",
       "    <tr style=\"text-align: right;\">\n",
       "      <th></th>\n",
       "      <th></th>\n",
       "      <th>价格</th>\n",
       "      <th>数量</th>\n",
       "    </tr>\n",
       "    <tr>\n",
       "      <th>产地</th>\n",
       "      <th>类别</th>\n",
       "      <th></th>\n",
       "      <th></th>\n",
       "    </tr>\n",
       "  </thead>\n",
       "  <tbody>\n",
       "    <tr>\n",
       "      <th rowspan=\"2\" valign=\"top\">中国</th>\n",
       "      <th>水果</th>\n",
       "      <td>15</td>\n",
       "      <td>14</td>\n",
       "    </tr>\n",
       "    <tr>\n",
       "      <th>蔬菜</th>\n",
       "      <td>3</td>\n",
       "      <td>3</td>\n",
       "    </tr>\n",
       "    <tr>\n",
       "      <th rowspan=\"2\" valign=\"top\">新西兰</th>\n",
       "      <th>肉类</th>\n",
       "      <td>13</td>\n",
       "      <td>10</td>\n",
       "    </tr>\n",
       "    <tr>\n",
       "      <th>蔬菜</th>\n",
       "      <td>3</td>\n",
       "      <td>2</td>\n",
       "    </tr>\n",
       "    <tr>\n",
       "      <th rowspan=\"2\" valign=\"top\">美国</th>\n",
       "      <th>水果</th>\n",
       "      <td>5</td>\n",
       "      <td>5</td>\n",
       "    </tr>\n",
       "    <tr>\n",
       "      <th>肉类</th>\n",
       "      <td>20</td>\n",
       "      <td>8</td>\n",
       "    </tr>\n",
       "    <tr>\n",
       "      <th>All</th>\n",
       "      <th></th>\n",
       "      <td>59</td>\n",
       "      <td>42</td>\n",
       "    </tr>\n",
       "  </tbody>\n",
       "</table>\n",
       "</div>"
      ],
      "text/plain": [
       "             价格  数量\n",
       "产地   类别            \n",
       "中国   水果    15    14\n",
       "       蔬菜     3     3\n",
       "新西兰 肉类    13    10\n",
       "       蔬菜     3     2\n",
       "美国   水果     5     5\n",
       "       肉类    20     8\n",
       "All            59    42"
      ]
     },
     "execution_count": 40,
     "metadata": {},
     "output_type": "execute_result"
    }
   ],
   "source": [
    "df.pivot_table(df,index=['产地','类别'],aggfunc='sum',margins=True)\n"
   ]
  },
  {
   "cell_type": "code",
   "execution_count": 42,
   "id": "09fec192",
   "metadata": {},
   "outputs": [
    {
     "data": {
      "text/html": [
       "<div>\n",
       "<style scoped>\n",
       "    .dataframe tbody tr th:only-of-type {\n",
       "        vertical-align: middle;\n",
       "    }\n",
       "\n",
       "    .dataframe tbody tr th {\n",
       "        vertical-align: top;\n",
       "    }\n",
       "\n",
       "    .dataframe thead th {\n",
       "        text-align: right;\n",
       "    }\n",
       "</style>\n",
       "<table border=\"1\" class=\"dataframe\">\n",
       "  <thead>\n",
       "    <tr style=\"text-align: right;\">\n",
       "      <th></th>\n",
       "      <th>类别</th>\n",
       "      <th>产地</th>\n",
       "      <th>项目名称</th>\n",
       "      <th>数量</th>\n",
       "      <th>价格</th>\n",
       "    </tr>\n",
       "  </thead>\n",
       "  <tbody>\n",
       "    <tr>\n",
       "      <th>0</th>\n",
       "      <td>水果</td>\n",
       "      <td>美国</td>\n",
       "      <td>苹果</td>\n",
       "      <td>5</td>\n",
       "      <td>5</td>\n",
       "    </tr>\n",
       "    <tr>\n",
       "      <th>1</th>\n",
       "      <td>水果</td>\n",
       "      <td>中国</td>\n",
       "      <td>梨</td>\n",
       "      <td>5</td>\n",
       "      <td>5</td>\n",
       "    </tr>\n",
       "    <tr>\n",
       "      <th>2</th>\n",
       "      <td>水果</td>\n",
       "      <td>中国</td>\n",
       "      <td>草莓</td>\n",
       "      <td>9</td>\n",
       "      <td>10</td>\n",
       "    </tr>\n",
       "    <tr>\n",
       "      <th>3</th>\n",
       "      <td>蔬菜</td>\n",
       "      <td>中国</td>\n",
       "      <td>番茄</td>\n",
       "      <td>3</td>\n",
       "      <td>3</td>\n",
       "    </tr>\n",
       "    <tr>\n",
       "      <th>4</th>\n",
       "      <td>蔬菜</td>\n",
       "      <td>新西兰</td>\n",
       "      <td>黄瓜</td>\n",
       "      <td>2</td>\n",
       "      <td>3</td>\n",
       "    </tr>\n",
       "    <tr>\n",
       "      <th>5</th>\n",
       "      <td>肉类</td>\n",
       "      <td>新西兰</td>\n",
       "      <td>羊肉</td>\n",
       "      <td>10</td>\n",
       "      <td>13</td>\n",
       "    </tr>\n",
       "    <tr>\n",
       "      <th>6</th>\n",
       "      <td>肉类</td>\n",
       "      <td>美国</td>\n",
       "      <td>牛肉</td>\n",
       "      <td>8</td>\n",
       "      <td>20</td>\n",
       "    </tr>\n",
       "  </tbody>\n",
       "</table>\n",
       "</div>"
      ],
      "text/plain": [
       "   类别    产地 项目名称  数量  价格\n",
       "0  水果    美国     苹果     5     5\n",
       "1  水果    中国       梨     5     5\n",
       "2  水果    中国     草莓     9    10\n",
       "3  蔬菜    中国     番茄     3     3\n",
       "4  蔬菜  新西兰     黄瓜     2     3\n",
       "5  肉类  新西兰     羊肉    10    13\n",
       "6  肉类    美国     牛肉     8    20"
      ]
     },
     "execution_count": 42,
     "metadata": {},
     "output_type": "execute_result"
    }
   ],
   "source": [
    "df=pd.DataFrame({'类别':['水果','水果','水果','蔬菜','蔬菜','肉类','肉类'],\n",
    "                '产地':['美国','中国','中国','中国','新西兰','新西兰','美国'],\n",
    "               '项目名称':['苹果','梨','草莓','番茄','黄瓜','羊肉','牛肉'],\n",
    "               '数量':[5,5,9,3,2,10,8],\n",
    "               '价格':[5,5,10,3,3,13,20]})\n",
    "df"
   ]
  },
  {
   "cell_type": "code",
   "execution_count": 44,
   "id": "602a8943",
   "metadata": {},
   "outputs": [
    {
     "data": {
      "text/html": [
       "<div>\n",
       "<style scoped>\n",
       "    .dataframe tbody tr th:only-of-type {\n",
       "        vertical-align: middle;\n",
       "    }\n",
       "\n",
       "    .dataframe tbody tr th {\n",
       "        vertical-align: top;\n",
       "    }\n",
       "\n",
       "    .dataframe thead th {\n",
       "        text-align: right;\n",
       "    }\n",
       "</style>\n",
       "<table border=\"1\" class=\"dataframe\">\n",
       "  <thead>\n",
       "    <tr style=\"text-align: right;\">\n",
       "      <th>类别</th>\n",
       "      <th>水果</th>\n",
       "      <th>肉类</th>\n",
       "      <th>蔬菜</th>\n",
       "      <th>总数</th>\n",
       "    </tr>\n",
       "    <tr>\n",
       "      <th>产地</th>\n",
       "      <th></th>\n",
       "      <th></th>\n",
       "      <th></th>\n",
       "      <th></th>\n",
       "    </tr>\n",
       "  </thead>\n",
       "  <tbody>\n",
       "    <tr>\n",
       "      <th>中国</th>\n",
       "      <td>10</td>\n",
       "      <td>0</td>\n",
       "      <td>3</td>\n",
       "      <td>10</td>\n",
       "    </tr>\n",
       "    <tr>\n",
       "      <th>新西兰</th>\n",
       "      <td>0</td>\n",
       "      <td>13</td>\n",
       "      <td>3</td>\n",
       "      <td>13</td>\n",
       "    </tr>\n",
       "    <tr>\n",
       "      <th>美国</th>\n",
       "      <td>5</td>\n",
       "      <td>20</td>\n",
       "      <td>0</td>\n",
       "      <td>20</td>\n",
       "    </tr>\n",
       "    <tr>\n",
       "      <th>总数</th>\n",
       "      <td>10</td>\n",
       "      <td>20</td>\n",
       "      <td>3</td>\n",
       "      <td>20</td>\n",
       "    </tr>\n",
       "  </tbody>\n",
       "</table>\n",
       "</div>"
      ],
      "text/plain": [
       "类别    水果  肉类  蔬菜  总数\n",
       "产地                          \n",
       "中国      10     0     3    10\n",
       "新西兰     0    13     3    13\n",
       "美国       5    20     0    20\n",
       "总数      10    20     3    20"
      ]
     },
     "execution_count": 44,
     "metadata": {},
     "output_type": "execute_result"
    }
   ],
   "source": [
    "df.pivot_table(values='价格',index='产地',columns='类别',aggfunc='max',margins=True,fill_value=0,margins_name='总数')\n"
   ]
  },
  {
   "cell_type": "code",
   "execution_count": 45,
   "id": "8e853354",
   "metadata": {},
   "outputs": [
    {
     "data": {
      "text/html": [
       "<div>\n",
       "<style scoped>\n",
       "    .dataframe tbody tr th:only-of-type {\n",
       "        vertical-align: middle;\n",
       "    }\n",
       "\n",
       "    .dataframe tbody tr th {\n",
       "        vertical-align: top;\n",
       "    }\n",
       "\n",
       "    .dataframe thead th {\n",
       "        text-align: right;\n",
       "    }\n",
       "</style>\n",
       "<table border=\"1\" class=\"dataframe\">\n",
       "  <thead>\n",
       "    <tr style=\"text-align: right;\">\n",
       "      <th>类别</th>\n",
       "      <th>水果</th>\n",
       "      <th>肉类</th>\n",
       "      <th>蔬菜</th>\n",
       "      <th>All</th>\n",
       "    </tr>\n",
       "    <tr>\n",
       "      <th>产地</th>\n",
       "      <th></th>\n",
       "      <th></th>\n",
       "      <th></th>\n",
       "      <th></th>\n",
       "    </tr>\n",
       "  </thead>\n",
       "  <tbody>\n",
       "    <tr>\n",
       "      <th>中国</th>\n",
       "      <td>2</td>\n",
       "      <td>0</td>\n",
       "      <td>1</td>\n",
       "      <td>3</td>\n",
       "    </tr>\n",
       "    <tr>\n",
       "      <th>新西兰</th>\n",
       "      <td>0</td>\n",
       "      <td>1</td>\n",
       "      <td>1</td>\n",
       "      <td>2</td>\n",
       "    </tr>\n",
       "    <tr>\n",
       "      <th>美国</th>\n",
       "      <td>1</td>\n",
       "      <td>1</td>\n",
       "      <td>0</td>\n",
       "      <td>2</td>\n",
       "    </tr>\n",
       "    <tr>\n",
       "      <th>All</th>\n",
       "      <td>3</td>\n",
       "      <td>2</td>\n",
       "      <td>2</td>\n",
       "      <td>7</td>\n",
       "    </tr>\n",
       "  </tbody>\n",
       "</table>\n",
       "</div>"
      ],
      "text/plain": [
       "类别    水果  肉类  蔬菜  All\n",
       "产地                         \n",
       "中国       2     0     1    3\n",
       "新西兰     0     1     1    2\n",
       "美国       1     1     0    2\n",
       "All        3     2     2    7"
      ]
     },
     "execution_count": 45,
     "metadata": {},
     "output_type": "execute_result"
    }
   ],
   "source": [
    "pd.crosstab(df['产地'],df['类别'],margins=True)"
   ]
  },
  {
   "cell_type": "code",
   "execution_count": null,
   "id": "77cf2beb",
   "metadata": {},
   "outputs": [],
   "source": []
  }
 ],
 "metadata": {
  "kernelspec": {
   "display_name": "Python 3 (ipykernel)",
   "language": "python",
   "name": "python3"
  },
  "language_info": {
   "codemirror_mode": {
    "name": "ipython",
    "version": 3
   },
   "file_extension": ".py",
   "mimetype": "text/x-python",
   "name": "python",
   "nbconvert_exporter": "python",
   "pygments_lexer": "ipython3",
   "version": "3.9.7"
  }
 },
 "nbformat": 4,
 "nbformat_minor": 5
}
