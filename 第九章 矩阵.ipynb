{
 "cells": [
  {
   "cell_type": "code",
   "execution_count": null,
   "id": "b8c207d1",
   "metadata": {},
   "outputs": [],
   "source": [
    "import numpy as np\n",
    "x=np.matrix([[1,2],[3,4]])\n",
    "x\n"
   ]
  },
  {
   "cell_type": "code",
   "execution_count": null,
   "id": "bcb51920",
   "metadata": {},
   "outputs": [],
   "source": [
    "import numpy as np\n",
    "y=np.matrix([1,2,3,4,5,6],dtype='int16')#数据类型\n",
    "y\n"
   ]
  },
  {
   "cell_type": "code",
   "execution_count": null,
   "id": "8a2b5f36",
   "metadata": {},
   "outputs": [],
   "source": [
    "import numpy as np\n",
    "x=np.array([[1,2],[3,4]])\n",
    "m=np.asmatrix(x)\n",
    "m\n"
   ]
  },
  {
   "cell_type": "code",
   "execution_count": null,
   "id": "a0b9d3b0",
   "metadata": {},
   "outputs": [],
   "source": [
    "import numpy as np\n",
    "x=np.matrix([[1,2,3],[4,5,6]])\n",
    "x\n"
   ]
  },
  {
   "cell_type": "code",
   "execution_count": null,
   "id": "1d1f6a14",
   "metadata": {},
   "outputs": [],
   "source": [
    "import numpy as np\n",
    "x=np.matrix([[1,2,3],[4,5,6]])\n",
    "x\n",
    "print(x[0,1],x[0,2],x[1,0],x[1,2])\n",
    "print(x[0:,1:])\n"
   ]
  },
  {
   "cell_type": "code",
   "execution_count": null,
   "id": "ae41b3bb",
   "metadata": {},
   "outputs": [],
   "source": [
    "\n",
    "import numpy as np\n",
    "import numpy.matlib\n",
    "np.matlib.empty((3,3))\n"
   ]
  },
  {
   "cell_type": "code",
   "execution_count": null,
   "id": "2b6dbed8",
   "metadata": {},
   "outputs": [],
   "source": [
    "import numpy as np\n",
    "import numpy.matlib\n",
    "np.matlib.empty((2,2),dtype='int16')\n"
   ]
  },
  {
   "cell_type": "code",
   "execution_count": null,
   "id": "6d285e3c",
   "metadata": {},
   "outputs": [],
   "source": [
    "import numpy as np\n",
    "import numpy.matlib\n",
    "np.matlib.rand((2,3))\n"
   ]
  },
  {
   "cell_type": "code",
   "execution_count": null,
   "id": "13ccbd29",
   "metadata": {},
   "outputs": [],
   "source": [
    "import numpy as np\n",
    "x=np.matrix([[1,2,3],[4,5,6]])\n",
    "y=np.matrix([1,2,3,4,5,6])\n",
    "print(np.transpose(x),np.transpose(y),sep='\\n')\n"
   ]
  },
  {
   "cell_type": "code",
   "execution_count": null,
   "id": "cb4a899f",
   "metadata": {},
   "outputs": [],
   "source": [
    "import numpy as np\n",
    "a=np.arange(4).reshape((2,2))\n",
    "A=np.matrix(a)\n",
    "print('原矩阵为：', A, sep='\\n')\n",
    "print('不指定轴，amin：',np.amin(A))\n",
    "print('指定轴为0，amin：',np.amin(A,axis=0))\n",
    "print('指定轴为1，amin：',np.amin(A,axis=1),sep='\\n')\n"
   ]
  },
  {
   "cell_type": "code",
   "execution_count": null,
   "id": "2cbab574",
   "metadata": {},
   "outputs": [],
   "source": [
    "import numpy as np\n",
    "a=np.arange(9).reshape((3,3))\n",
    "A=np.matrix(a)\n",
    "print('原矩阵为：', A, sep='\\n')\n",
    "print('不指定轴，amax：',np.amax(A))\n",
    "print('指定轴为0，amax：',np.amax(A,axis=0))  ### 0代表竖轴  1代表横轴\n",
    "print('指定轴为1，amax：',np.amax(A,axis=1),sep='\\n')\n"
   ]
  },
  {
   "cell_type": "code",
   "execution_count": null,
   "id": "71bc95de",
   "metadata": {},
   "outputs": [],
   "source": [
    "\n",
    "#计算算数平均数\n",
    "import numpy as np\n",
    "x=np.matrix([[1,2,3],[4,5,6]])\n",
    "print(x.mean(),end='\\n= = = =\\n')\n",
    "print(x.mean(axis=0),end='\\n= = = =\\n')\n",
    "print(x.mean(axis=1),end='\\n= = = =\\n')\n"
   ]
  },
  {
   "cell_type": "code",
   "execution_count": null,
   "id": "e92ecc7c",
   "metadata": {},
   "outputs": [],
   "source": [
    "#矩阵的乘法\n",
    "import numpy as np\n",
    "x=np.matrix([[1,2,3],[4,5,6]])\n",
    "y=np.matrix([[1,2],[3,4],[5,6]])\n",
    "print(x,y,sep='\\n=======\\n',end='\\n=======\\n')\n",
    "print(x*y)\n"
   ]
  },
  {
   "cell_type": "code",
   "execution_count": null,
   "id": "252763ad",
   "metadata": {},
   "outputs": [],
   "source": [
    "import numpy as np\n",
    "A=np.matrix([[1,2,2],[2,1,2],[2,2,1]])\n",
    "w=np.linalg.eigvals(A)\n",
    "w\n"
   ]
  },
  {
   "cell_type": "code",
   "execution_count": null,
   "id": "0ce2c092",
   "metadata": {},
   "outputs": [],
   "source": [
    "import numpy as np\n",
    "A=np.matrix([[1,2,2],[2,1,2],[2,2,1]])\n",
    "e,v=np.linalg.eig(A)\n",
    "e\n"
   ]
  },
  {
   "cell_type": "code",
   "execution_count": null,
   "id": "48448715",
   "metadata": {},
   "outputs": [],
   "source": [
    "import numpy as np\n",
    "A=np.matrix([[1,2,2],[2,1,2],[2,2,1]])\n",
    "e,v=np.linalg.eig(A)\n",
    "v\n"
   ]
  },
  {
   "cell_type": "code",
   "execution_count": null,
   "id": "f27cf655",
   "metadata": {},
   "outputs": [],
   "source": [
    "import numpy as np\n",
    "A=np.matrix([[1,2,2],[2,1,2],[2,2,1]])\n",
    "e,v=np.linalg.eig(A)\n",
    "print(np.isclose(A*v,v*np.diag(e)))\n"
   ]
  },
  {
   "cell_type": "code",
   "execution_count": null,
   "id": "31aadf19",
   "metadata": {},
   "outputs": [],
   "source": [
    "import numpy as np\n",
    "x=np.matrix([[1,2,3],[4,5,6],[7,8,0]])\n",
    "y=np.linalg.inv(x)\n",
    "print(y)\n",
    "print(x*y)\n",
    "print(y*x)\n",
    "np.around(y*x)\n"
   ]
  },
  {
   "cell_type": "code",
   "execution_count": null,
   "id": "be69022c",
   "metadata": {},
   "outputs": [],
   "source": [
    "import numpy as np\n",
    "x=np.matrix([[1,2,3],[4,5,6],[7,8,10]])\n",
    "u,s,v=np.linalg.svd(x)\n",
    "u\n"
   ]
  },
  {
   "cell_type": "code",
   "execution_count": null,
   "id": "c758666c",
   "metadata": {},
   "outputs": [],
   "source": [
    "import numpy as np\n",
    "x=np.matrix([[1,2,3],[4,5,6],[7,8,10]])\n",
    "u,s,v=np.linalg.svd(x)\n",
    "s\n"
   ]
  },
  {
   "cell_type": "code",
   "execution_count": null,
   "id": "89a26225",
   "metadata": {},
   "outputs": [],
   "source": [
    "import numpy as np\n",
    "x=np.matrix([[1,2,3],[4,5,6],[7,8,10]])\n",
    "u,s,v=np.linalg.svd(x)\n",
    "v\n"
   ]
  },
  {
   "cell_type": "code",
   "execution_count": null,
   "id": "7f86ce30",
   "metadata": {},
   "outputs": [],
   "source": [
    "#奇异值\n",
    "import numpy as np\n",
    "x=np.matrix([[1,2,3],[4,5,6],[7,8,10]])\n",
    "u,s,v=np.linalg.svd(x)\n",
    "u*np.diag(s)*v\n"
   ]
  },
  {
   "cell_type": "code",
   "execution_count": null,
   "id": "d888d972",
   "metadata": {},
   "outputs": [],
   "source": [
    "#求解线性方程组\n",
    "a=np.array([[3,1],[1,2]])\n",
    "b=np.array([9,8])\n",
    "x=np.linalg.solve(a,b)\n",
    "print(x)\n",
    "print(np.dot(a,x))   #验证\n"
   ]
  },
  {
   "cell_type": "code",
   "execution_count": null,
   "id": "2eaedf39",
   "metadata": {},
   "outputs": [],
   "source": [
    "#解范数\n",
    "x=np.matrix([1,2,3])\n",
    "print(np.linalg.norm(x,ord=2))\n",
    "print((1**2+2**2+3**2)**(1/2))\n"
   ]
  },
  {
   "cell_type": "code",
   "execution_count": null,
   "id": "5e07337c",
   "metadata": {},
   "outputs": [],
   "source": [
    "##求解方差  标准差////////////////\n",
    "import numpy as np\n",
    "arr=np.array([1,2,3,4,5])\n",
    "print(np.var(arr))\n",
    "print(np.std(arr))\n"
   ]
  },
  {
   "cell_type": "code",
   "execution_count": null,
   "id": "17eb90cd",
   "metadata": {},
   "outputs": [],
   "source": [
    "import numpy as np\n",
    "x=np.array([2,3,3])\n",
    "y=np.array([2,5,6])\n",
    "np.cov(x,y)\n"
   ]
  },
  {
   "cell_type": "code",
   "execution_count": null,
   "id": "8ed0fd0f",
   "metadata": {},
   "outputs": [],
   "source": [
    "import numpy as np\n",
    "x=np.array([2,3,3])\n",
    "y=np.array([2,5,6])\n",
    "np.corrcoef(x,y)\n"
   ]
  },
  {
   "cell_type": "code",
   "execution_count": null,
   "id": "0d19574d",
   "metadata": {},
   "outputs": [],
   "source": [
    "import numpy as np\n",
    "x=np.array([1,2,3,4,5])\n",
    "print(np.var(x))\n",
    "print(np.cov(x))\n"
   ]
  },
  {
   "cell_type": "code",
   "execution_count": null,
   "id": "bb5c9cf0",
   "metadata": {},
   "outputs": [],
   "source": [
    "import numpy as np\n",
    "x=np.array([2,3,3,6,7])\n",
    "y=np.array([2,5,6,9,8])\n",
    "z=np.array([7,8,9,8,9])\n",
    "m=np.vstack((x,y,z))\n",
    "print(m)\n",
    "np.cov(m)\n"
   ]
  },
  {
   "cell_type": "code",
   "execution_count": null,
   "id": "1ee33997",
   "metadata": {},
   "outputs": [],
   "source": [
    "import numpy as np\n",
    "x=np.array([2,3,3,6,7])\n",
    "y=np.array([2,5,6,9,8])\n",
    "z=np.array([7,8,9,8,9])\n",
    "m=np.vstack((x,y,z))\n",
    "np.corrcoef(m)\n"
   ]
  },
  {
   "cell_type": "code",
   "execution_count": null,
   "id": "7bb2786d",
   "metadata": {},
   "outputs": [],
   "source": []
  }
 ],
 "metadata": {
  "kernelspec": {
   "display_name": "Python 3 (ipykernel)",
   "language": "python",
   "name": "python3"
  },
  "language_info": {
   "codemirror_mode": {
    "name": "ipython",
    "version": 3
   },
   "file_extension": ".py",
   "mimetype": "text/x-python",
   "name": "python",
   "nbconvert_exporter": "python",
   "pygments_lexer": "ipython3",
   "version": "3.9.7"
  }
 },
 "nbformat": 4,
 "nbformat_minor": 5
}
